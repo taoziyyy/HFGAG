{
 "nbformat": 4,
 "nbformat_minor": 0,
 "metadata": {
  "colab": {
   "name": "biobert_ner_pytorch.ipynb",
   "provenance": []
  },
  "kernelspec": {
   "name": "python3",
   "display_name": "Python 3"
  },
  "accelerator": "GPU",
  "widgets": {
   "application/vnd.jupyter.widget-state+json": {
    "9c7986d4d46048e985c29a87d7e80494": {
     "model_module": "@jupyter-widgets/controls",
     "model_name": "HBoxModel",
     "state": {
      "_view_name": "HBoxView",
      "_dom_classes": [],
      "_model_name": "HBoxModel",
      "_view_module": "@jupyter-widgets/controls",
      "_model_module_version": "1.5.0",
      "_view_count": null,
      "_view_module_version": "1.5.0",
      "box_style": "",
      "layout": "IPY_MODEL_15f4c44b077b40b385530472264e38bc",
      "_model_module": "@jupyter-widgets/controls",
      "children": [
       "IPY_MODEL_3b06b76ab7604d0ca0120a75147fefd8",
       "IPY_MODEL_c2b551b7214b4398847b0468654c1e51"
      ]
     }
    },
    "15f4c44b077b40b385530472264e38bc": {
     "model_module": "@jupyter-widgets/base",
     "model_name": "LayoutModel",
     "state": {
      "_view_name": "LayoutView",
      "grid_template_rows": null,
      "right": null,
      "justify_content": null,
      "_view_module": "@jupyter-widgets/base",
      "overflow": null,
      "_model_module_version": "1.2.0",
      "_view_count": null,
      "flex_flow": null,
      "width": null,
      "min_width": null,
      "border": null,
      "align_items": null,
      "bottom": null,
      "_model_module": "@jupyter-widgets/base",
      "top": null,
      "grid_column": null,
      "overflow_y": null,
      "overflow_x": null,
      "grid_auto_flow": null,
      "grid_area": null,
      "grid_template_columns": null,
      "flex": null,
      "_model_name": "LayoutModel",
      "justify_items": null,
      "grid_row": null,
      "max_height": null,
      "align_content": null,
      "visibility": null,
      "align_self": null,
      "height": null,
      "min_height": null,
      "padding": null,
      "grid_auto_rows": null,
      "grid_gap": null,
      "max_width": null,
      "order": null,
      "_view_module_version": "1.2.0",
      "grid_template_areas": null,
      "object_position": null,
      "object_fit": null,
      "grid_auto_columns": null,
      "margin": null,
      "display": null,
      "left": null
     }
    },
    "3b06b76ab7604d0ca0120a75147fefd8": {
     "model_module": "@jupyter-widgets/controls",
     "model_name": "FloatProgressModel",
     "state": {
      "_view_name": "ProgressView",
      "style": "IPY_MODEL_d8e273f078454349bd2a0f141e321b96",
      "_dom_classes": [],
      "description": "Downloading: 100%",
      "_model_name": "FloatProgressModel",
      "bar_style": "success",
      "max": 213450,
      "_view_module": "@jupyter-widgets/controls",
      "_model_module_version": "1.5.0",
      "value": 213450,
      "_view_count": null,
      "_view_module_version": "1.5.0",
      "orientation": "horizontal",
      "min": 0,
      "description_tooltip": null,
      "_model_module": "@jupyter-widgets/controls",
      "layout": "IPY_MODEL_9f9882f36d724cbcb934f28246e91317"
     }
    },
    "c2b551b7214b4398847b0468654c1e51": {
     "model_module": "@jupyter-widgets/controls",
     "model_name": "HTMLModel",
     "state": {
      "_view_name": "HTMLView",
      "style": "IPY_MODEL_b202bbb965b24a7cbac23db4ebc5076a",
      "_dom_classes": [],
      "description": "",
      "_model_name": "HTMLModel",
      "placeholder": "​",
      "_view_module": "@jupyter-widgets/controls",
      "_model_module_version": "1.5.0",
      "value": " 213k/213k [00:05&lt;00:00, 40.3kB/s]",
      "_view_count": null,
      "_view_module_version": "1.5.0",
      "description_tooltip": null,
      "_model_module": "@jupyter-widgets/controls",
      "layout": "IPY_MODEL_33f55e114d884323bf4ff4ef948ede6b"
     }
    },
    "d8e273f078454349bd2a0f141e321b96": {
     "model_module": "@jupyter-widgets/controls",
     "model_name": "ProgressStyleModel",
     "state": {
      "_view_name": "StyleView",
      "_model_name": "ProgressStyleModel",
      "description_width": "initial",
      "_view_module": "@jupyter-widgets/base",
      "_model_module_version": "1.5.0",
      "_view_count": null,
      "_view_module_version": "1.2.0",
      "bar_color": null,
      "_model_module": "@jupyter-widgets/controls"
     }
    },
    "9f9882f36d724cbcb934f28246e91317": {
     "model_module": "@jupyter-widgets/base",
     "model_name": "LayoutModel",
     "state": {
      "_view_name": "LayoutView",
      "grid_template_rows": null,
      "right": null,
      "justify_content": null,
      "_view_module": "@jupyter-widgets/base",
      "overflow": null,
      "_model_module_version": "1.2.0",
      "_view_count": null,
      "flex_flow": null,
      "width": null,
      "min_width": null,
      "border": null,
      "align_items": null,
      "bottom": null,
      "_model_module": "@jupyter-widgets/base",
      "top": null,
      "grid_column": null,
      "overflow_y": null,
      "overflow_x": null,
      "grid_auto_flow": null,
      "grid_area": null,
      "grid_template_columns": null,
      "flex": null,
      "_model_name": "LayoutModel",
      "justify_items": null,
      "grid_row": null,
      "max_height": null,
      "align_content": null,
      "visibility": null,
      "align_self": null,
      "height": null,
      "min_height": null,
      "padding": null,
      "grid_auto_rows": null,
      "grid_gap": null,
      "max_width": null,
      "order": null,
      "_view_module_version": "1.2.0",
      "grid_template_areas": null,
      "object_position": null,
      "object_fit": null,
      "grid_auto_columns": null,
      "margin": null,
      "display": null,
      "left": null
     }
    },
    "b202bbb965b24a7cbac23db4ebc5076a": {
     "model_module": "@jupyter-widgets/controls",
     "model_name": "DescriptionStyleModel",
     "state": {
      "_view_name": "StyleView",
      "_model_name": "DescriptionStyleModel",
      "description_width": "",
      "_view_module": "@jupyter-widgets/base",
      "_model_module_version": "1.5.0",
      "_view_count": null,
      "_view_module_version": "1.2.0",
      "_model_module": "@jupyter-widgets/controls"
     }
    },
    "33f55e114d884323bf4ff4ef948ede6b": {
     "model_module": "@jupyter-widgets/base",
     "model_name": "LayoutModel",
     "state": {
      "_view_name": "LayoutView",
      "grid_template_rows": null,
      "right": null,
      "justify_content": null,
      "_view_module": "@jupyter-widgets/base",
      "overflow": null,
      "_model_module_version": "1.2.0",
      "_view_count": null,
      "flex_flow": null,
      "width": null,
      "min_width": null,
      "border": null,
      "align_items": null,
      "bottom": null,
      "_model_module": "@jupyter-widgets/base",
      "top": null,
      "grid_column": null,
      "overflow_y": null,
      "overflow_x": null,
      "grid_auto_flow": null,
      "grid_area": null,
      "grid_template_columns": null,
      "flex": null,
      "_model_name": "LayoutModel",
      "justify_items": null,
      "grid_row": null,
      "max_height": null,
      "align_content": null,
      "visibility": null,
      "align_self": null,
      "height": null,
      "min_height": null,
      "padding": null,
      "grid_auto_rows": null,
      "grid_gap": null,
      "max_width": null,
      "order": null,
      "_view_module_version": "1.2.0",
      "grid_template_areas": null,
      "object_position": null,
      "object_fit": null,
      "grid_auto_columns": null,
      "margin": null,
      "display": null,
      "left": null
     }
    },
    "76c525755cf94878af617b204271dd6b": {
     "model_module": "@jupyter-widgets/controls",
     "model_name": "HBoxModel",
     "state": {
      "_view_name": "HBoxView",
      "_dom_classes": [],
      "_model_name": "HBoxModel",
      "_view_module": "@jupyter-widgets/controls",
      "_model_module_version": "1.5.0",
      "_view_count": null,
      "_view_module_version": "1.5.0",
      "box_style": "",
      "layout": "IPY_MODEL_9e49c1d40d524af49b352a8613c2d577",
      "_model_module": "@jupyter-widgets/controls",
      "children": [
       "IPY_MODEL_767503b2c10b48868084f14dbc6bb891",
       "IPY_MODEL_fc7c3a60db234d73af531eba965541bb"
      ]
     }
    },
    "9e49c1d40d524af49b352a8613c2d577": {
     "model_module": "@jupyter-widgets/base",
     "model_name": "LayoutModel",
     "state": {
      "_view_name": "LayoutView",
      "grid_template_rows": null,
      "right": null,
      "justify_content": null,
      "_view_module": "@jupyter-widgets/base",
      "overflow": null,
      "_model_module_version": "1.2.0",
      "_view_count": null,
      "flex_flow": null,
      "width": null,
      "min_width": null,
      "border": null,
      "align_items": null,
      "bottom": null,
      "_model_module": "@jupyter-widgets/base",
      "top": null,
      "grid_column": null,
      "overflow_y": null,
      "overflow_x": null,
      "grid_auto_flow": null,
      "grid_area": null,
      "grid_template_columns": null,
      "flex": null,
      "_model_name": "LayoutModel",
      "justify_items": null,
      "grid_row": null,
      "max_height": null,
      "align_content": null,
      "visibility": null,
      "align_self": null,
      "height": null,
      "min_height": null,
      "padding": null,
      "grid_auto_rows": null,
      "grid_gap": null,
      "max_width": null,
      "order": null,
      "_view_module_version": "1.2.0",
      "grid_template_areas": null,
      "object_position": null,
      "object_fit": null,
      "grid_auto_columns": null,
      "margin": null,
      "display": null,
      "left": null
     }
    },
    "767503b2c10b48868084f14dbc6bb891": {
     "model_module": "@jupyter-widgets/controls",
     "model_name": "FloatProgressModel",
     "state": {
      "_view_name": "ProgressView",
      "style": "IPY_MODEL_2172c2f3e5394a2e812d6b6aad0d8588",
      "_dom_classes": [],
      "description": "Downloading: 100%",
      "_model_name": "FloatProgressModel",
      "bar_style": "success",
      "max": 112,
      "_view_module": "@jupyter-widgets/controls",
      "_model_module_version": "1.5.0",
      "value": 112,
      "_view_count": null,
      "_view_module_version": "1.5.0",
      "orientation": "horizontal",
      "min": 0,
      "description_tooltip": null,
      "_model_module": "@jupyter-widgets/controls",
      "layout": "IPY_MODEL_12c5399516ed47c59fab4ea47dbca310"
     }
    },
    "fc7c3a60db234d73af531eba965541bb": {
     "model_module": "@jupyter-widgets/controls",
     "model_name": "HTMLModel",
     "state": {
      "_view_name": "HTMLView",
      "style": "IPY_MODEL_5f89ff2fe1504a5c83a9a4b17fab6ef1",
      "_dom_classes": [],
      "description": "",
      "_model_name": "HTMLModel",
      "placeholder": "​",
      "_view_module": "@jupyter-widgets/controls",
      "_model_module_version": "1.5.0",
      "value": " 112/112 [00:01&lt;00:00, 73.0B/s]",
      "_view_count": null,
      "_view_module_version": "1.5.0",
      "description_tooltip": null,
      "_model_module": "@jupyter-widgets/controls",
      "layout": "IPY_MODEL_669b345cec024351a890b2be38627991"
     }
    },
    "2172c2f3e5394a2e812d6b6aad0d8588": {
     "model_module": "@jupyter-widgets/controls",
     "model_name": "ProgressStyleModel",
     "state": {
      "_view_name": "StyleView",
      "_model_name": "ProgressStyleModel",
      "description_width": "initial",
      "_view_module": "@jupyter-widgets/base",
      "_model_module_version": "1.5.0",
      "_view_count": null,
      "_view_module_version": "1.2.0",
      "bar_color": null,
      "_model_module": "@jupyter-widgets/controls"
     }
    },
    "12c5399516ed47c59fab4ea47dbca310": {
     "model_module": "@jupyter-widgets/base",
     "model_name": "LayoutModel",
     "state": {
      "_view_name": "LayoutView",
      "grid_template_rows": null,
      "right": null,
      "justify_content": null,
      "_view_module": "@jupyter-widgets/base",
      "overflow": null,
      "_model_module_version": "1.2.0",
      "_view_count": null,
      "flex_flow": null,
      "width": null,
      "min_width": null,
      "border": null,
      "align_items": null,
      "bottom": null,
      "_model_module": "@jupyter-widgets/base",
      "top": null,
      "grid_column": null,
      "overflow_y": null,
      "overflow_x": null,
      "grid_auto_flow": null,
      "grid_area": null,
      "grid_template_columns": null,
      "flex": null,
      "_model_name": "LayoutModel",
      "justify_items": null,
      "grid_row": null,
      "max_height": null,
      "align_content": null,
      "visibility": null,
      "align_self": null,
      "height": null,
      "min_height": null,
      "padding": null,
      "grid_auto_rows": null,
      "grid_gap": null,
      "max_width": null,
      "order": null,
      "_view_module_version": "1.2.0",
      "grid_template_areas": null,
      "object_position": null,
      "object_fit": null,
      "grid_auto_columns": null,
      "margin": null,
      "display": null,
      "left": null
     }
    },
    "5f89ff2fe1504a5c83a9a4b17fab6ef1": {
     "model_module": "@jupyter-widgets/controls",
     "model_name": "DescriptionStyleModel",
     "state": {
      "_view_name": "StyleView",
      "_model_name": "DescriptionStyleModel",
      "description_width": "",
      "_view_module": "@jupyter-widgets/base",
      "_model_module_version": "1.5.0",
      "_view_count": null,
      "_view_module_version": "1.2.0",
      "_model_module": "@jupyter-widgets/controls"
     }
    },
    "669b345cec024351a890b2be38627991": {
     "model_module": "@jupyter-widgets/base",
     "model_name": "LayoutModel",
     "state": {
      "_view_name": "LayoutView",
      "grid_template_rows": null,
      "right": null,
      "justify_content": null,
      "_view_module": "@jupyter-widgets/base",
      "overflow": null,
      "_model_module_version": "1.2.0",
      "_view_count": null,
      "flex_flow": null,
      "width": null,
      "min_width": null,
      "border": null,
      "align_items": null,
      "bottom": null,
      "_model_module": "@jupyter-widgets/base",
      "top": null,
      "grid_column": null,
      "overflow_y": null,
      "overflow_x": null,
      "grid_auto_flow": null,
      "grid_area": null,
      "grid_template_columns": null,
      "flex": null,
      "_model_name": "LayoutModel",
      "justify_items": null,
      "grid_row": null,
      "max_height": null,
      "align_content": null,
      "visibility": null,
      "align_self": null,
      "height": null,
      "min_height": null,
      "padding": null,
      "grid_auto_rows": null,
      "grid_gap": null,
      "max_width": null,
      "order": null,
      "_view_module_version": "1.2.0",
      "grid_template_areas": null,
      "object_position": null,
      "object_fit": null,
      "grid_auto_columns": null,
      "margin": null,
      "display": null,
      "left": null
     }
    },
    "964c18ca1352455c9aedf35ecc3cb305": {
     "model_module": "@jupyter-widgets/controls",
     "model_name": "HBoxModel",
     "state": {
      "_view_name": "HBoxView",
      "_dom_classes": [],
      "_model_name": "HBoxModel",
      "_view_module": "@jupyter-widgets/controls",
      "_model_module_version": "1.5.0",
      "_view_count": null,
      "_view_module_version": "1.5.0",
      "box_style": "",
      "layout": "IPY_MODEL_2ebcc2112a5646319820328fb918513e",
      "_model_module": "@jupyter-widgets/controls",
      "children": [
       "IPY_MODEL_2ba1bb4acd4f493f86a88926ebcc5e3e",
       "IPY_MODEL_6767e35af30543c1be5c07a5d16b2896"
      ]
     }
    },
    "2ebcc2112a5646319820328fb918513e": {
     "model_module": "@jupyter-widgets/base",
     "model_name": "LayoutModel",
     "state": {
      "_view_name": "LayoutView",
      "grid_template_rows": null,
      "right": null,
      "justify_content": null,
      "_view_module": "@jupyter-widgets/base",
      "overflow": null,
      "_model_module_version": "1.2.0",
      "_view_count": null,
      "flex_flow": null,
      "width": null,
      "min_width": null,
      "border": null,
      "align_items": null,
      "bottom": null,
      "_model_module": "@jupyter-widgets/base",
      "top": null,
      "grid_column": null,
      "overflow_y": null,
      "overflow_x": null,
      "grid_auto_flow": null,
      "grid_area": null,
      "grid_template_columns": null,
      "flex": null,
      "_model_name": "LayoutModel",
      "justify_items": null,
      "grid_row": null,
      "max_height": null,
      "align_content": null,
      "visibility": null,
      "align_self": null,
      "height": null,
      "min_height": null,
      "padding": null,
      "grid_auto_rows": null,
      "grid_gap": null,
      "max_width": null,
      "order": null,
      "_view_module_version": "1.2.0",
      "grid_template_areas": null,
      "object_position": null,
      "object_fit": null,
      "grid_auto_columns": null,
      "margin": null,
      "display": null,
      "left": null
     }
    },
    "2ba1bb4acd4f493f86a88926ebcc5e3e": {
     "model_module": "@jupyter-widgets/controls",
     "model_name": "FloatProgressModel",
     "state": {
      "_view_name": "ProgressView",
      "style": "IPY_MODEL_3569b906fcdb4d13a86a6fd477521e2b",
      "_dom_classes": [],
      "description": "Downloading: 100%",
      "_model_name": "FloatProgressModel",
      "bar_style": "success",
      "max": 51,
      "_view_module": "@jupyter-widgets/controls",
      "_model_module_version": "1.5.0",
      "value": 51,
      "_view_count": null,
      "_view_module_version": "1.5.0",
      "orientation": "horizontal",
      "min": 0,
      "description_tooltip": null,
      "_model_module": "@jupyter-widgets/controls",
      "layout": "IPY_MODEL_47b69b6f35a54541a2731795a905012e"
     }
    },
    "6767e35af30543c1be5c07a5d16b2896": {
     "model_module": "@jupyter-widgets/controls",
     "model_name": "HTMLModel",
     "state": {
      "_view_name": "HTMLView",
      "style": "IPY_MODEL_9e51319fff914354b4519595c1e85a0b",
      "_dom_classes": [],
      "description": "",
      "_model_name": "HTMLModel",
      "placeholder": "​",
      "_view_module": "@jupyter-widgets/controls",
      "_model_module_version": "1.5.0",
      "value": " 51.0/51.0 [00:00&lt;00:00, 58.5B/s]",
      "_view_count": null,
      "_view_module_version": "1.5.0",
      "description_tooltip": null,
      "_model_module": "@jupyter-widgets/controls",
      "layout": "IPY_MODEL_69870d50a83347058fc356911e31eac0"
     }
    },
    "3569b906fcdb4d13a86a6fd477521e2b": {
     "model_module": "@jupyter-widgets/controls",
     "model_name": "ProgressStyleModel",
     "state": {
      "_view_name": "StyleView",
      "_model_name": "ProgressStyleModel",
      "description_width": "initial",
      "_view_module": "@jupyter-widgets/base",
      "_model_module_version": "1.5.0",
      "_view_count": null,
      "_view_module_version": "1.2.0",
      "bar_color": null,
      "_model_module": "@jupyter-widgets/controls"
     }
    },
    "47b69b6f35a54541a2731795a905012e": {
     "model_module": "@jupyter-widgets/base",
     "model_name": "LayoutModel",
     "state": {
      "_view_name": "LayoutView",
      "grid_template_rows": null,
      "right": null,
      "justify_content": null,
      "_view_module": "@jupyter-widgets/base",
      "overflow": null,
      "_model_module_version": "1.2.0",
      "_view_count": null,
      "flex_flow": null,
      "width": null,
      "min_width": null,
      "border": null,
      "align_items": null,
      "bottom": null,
      "_model_module": "@jupyter-widgets/base",
      "top": null,
      "grid_column": null,
      "overflow_y": null,
      "overflow_x": null,
      "grid_auto_flow": null,
      "grid_area": null,
      "grid_template_columns": null,
      "flex": null,
      "_model_name": "LayoutModel",
      "justify_items": null,
      "grid_row": null,
      "max_height": null,
      "align_content": null,
      "visibility": null,
      "align_self": null,
      "height": null,
      "min_height": null,
      "padding": null,
      "grid_auto_rows": null,
      "grid_gap": null,
      "max_width": null,
      "order": null,
      "_view_module_version": "1.2.0",
      "grid_template_areas": null,
      "object_position": null,
      "object_fit": null,
      "grid_auto_columns": null,
      "margin": null,
      "display": null,
      "left": null
     }
    },
    "9e51319fff914354b4519595c1e85a0b": {
     "model_module": "@jupyter-widgets/controls",
     "model_name": "DescriptionStyleModel",
     "state": {
      "_view_name": "StyleView",
      "_model_name": "DescriptionStyleModel",
      "description_width": "",
      "_view_module": "@jupyter-widgets/base",
      "_model_module_version": "1.5.0",
      "_view_count": null,
      "_view_module_version": "1.2.0",
      "_model_module": "@jupyter-widgets/controls"
     }
    },
    "69870d50a83347058fc356911e31eac0": {
     "model_module": "@jupyter-widgets/base",
     "model_name": "LayoutModel",
     "state": {
      "_view_name": "LayoutView",
      "grid_template_rows": null,
      "right": null,
      "justify_content": null,
      "_view_module": "@jupyter-widgets/base",
      "overflow": null,
      "_model_module_version": "1.2.0",
      "_view_count": null,
      "flex_flow": null,
      "width": null,
      "min_width": null,
      "border": null,
      "align_items": null,
      "bottom": null,
      "_model_module": "@jupyter-widgets/base",
      "top": null,
      "grid_column": null,
      "overflow_y": null,
      "overflow_x": null,
      "grid_auto_flow": null,
      "grid_area": null,
      "grid_template_columns": null,
      "flex": null,
      "_model_name": "LayoutModel",
      "justify_items": null,
      "grid_row": null,
      "max_height": null,
      "align_content": null,
      "visibility": null,
      "align_self": null,
      "height": null,
      "min_height": null,
      "padding": null,
      "grid_auto_rows": null,
      "grid_gap": null,
      "max_width": null,
      "order": null,
      "_view_module_version": "1.2.0",
      "grid_template_areas": null,
      "object_position": null,
      "object_fit": null,
      "grid_auto_columns": null,
      "margin": null,
      "display": null,
      "left": null
     }
    },
    "79f896f646744196a2708ccad138e9cc": {
     "model_module": "@jupyter-widgets/controls",
     "model_name": "HBoxModel",
     "state": {
      "_view_name": "HBoxView",
      "_dom_classes": [],
      "_model_name": "HBoxModel",
      "_view_module": "@jupyter-widgets/controls",
      "_model_module_version": "1.5.0",
      "_view_count": null,
      "_view_module_version": "1.5.0",
      "box_style": "",
      "layout": "IPY_MODEL_8db2a7fef392402db669172693c0a7d5",
      "_model_module": "@jupyter-widgets/controls",
      "children": [
       "IPY_MODEL_6a31ba8e3a0146a3a89644e320c70b64",
       "IPY_MODEL_174a48f3c4114f1a92bfc309274df742"
      ]
     }
    },
    "8db2a7fef392402db669172693c0a7d5": {
     "model_module": "@jupyter-widgets/base",
     "model_name": "LayoutModel",
     "state": {
      "_view_name": "LayoutView",
      "grid_template_rows": null,
      "right": null,
      "justify_content": null,
      "_view_module": "@jupyter-widgets/base",
      "overflow": null,
      "_model_module_version": "1.2.0",
      "_view_count": null,
      "flex_flow": null,
      "width": null,
      "min_width": null,
      "border": null,
      "align_items": null,
      "bottom": null,
      "_model_module": "@jupyter-widgets/base",
      "top": null,
      "grid_column": null,
      "overflow_y": null,
      "overflow_x": null,
      "grid_auto_flow": null,
      "grid_area": null,
      "grid_template_columns": null,
      "flex": null,
      "_model_name": "LayoutModel",
      "justify_items": null,
      "grid_row": null,
      "max_height": null,
      "align_content": null,
      "visibility": null,
      "align_self": null,
      "height": null,
      "min_height": null,
      "padding": null,
      "grid_auto_rows": null,
      "grid_gap": null,
      "max_width": null,
      "order": null,
      "_view_module_version": "1.2.0",
      "grid_template_areas": null,
      "object_position": null,
      "object_fit": null,
      "grid_auto_columns": null,
      "margin": null,
      "display": null,
      "left": null
     }
    },
    "6a31ba8e3a0146a3a89644e320c70b64": {
     "model_module": "@jupyter-widgets/controls",
     "model_name": "FloatProgressModel",
     "state": {
      "_view_name": "ProgressView",
      "style": "IPY_MODEL_e3d1b5e446ae4a67b26482b0fe990f91",
      "_dom_classes": [],
      "description": "Downloading: 100%",
      "_model_name": "FloatProgressModel",
      "bar_style": "success",
      "max": 433,
      "_view_module": "@jupyter-widgets/controls",
      "_model_module_version": "1.5.0",
      "value": 433,
      "_view_count": null,
      "_view_module_version": "1.5.0",
      "orientation": "horizontal",
      "min": 0,
      "description_tooltip": null,
      "_model_module": "@jupyter-widgets/controls",
      "layout": "IPY_MODEL_2043192a81e947c998af48ebd084f6a5"
     }
    },
    "174a48f3c4114f1a92bfc309274df742": {
     "model_module": "@jupyter-widgets/controls",
     "model_name": "HTMLModel",
     "state": {
      "_view_name": "HTMLView",
      "style": "IPY_MODEL_f82b34f1c28c4ce8911fea46bfd3c313",
      "_dom_classes": [],
      "description": "",
      "_model_name": "HTMLModel",
      "placeholder": "​",
      "_view_module": "@jupyter-widgets/controls",
      "_model_module_version": "1.5.0",
      "value": " 433/433 [00:47&lt;00:00, 9.11B/s]",
      "_view_count": null,
      "_view_module_version": "1.5.0",
      "description_tooltip": null,
      "_model_module": "@jupyter-widgets/controls",
      "layout": "IPY_MODEL_4a7d91ac8ebb43a59221b2237636e912"
     }
    },
    "e3d1b5e446ae4a67b26482b0fe990f91": {
     "model_module": "@jupyter-widgets/controls",
     "model_name": "ProgressStyleModel",
     "state": {
      "_view_name": "StyleView",
      "_model_name": "ProgressStyleModel",
      "description_width": "initial",
      "_view_module": "@jupyter-widgets/base",
      "_model_module_version": "1.5.0",
      "_view_count": null,
      "_view_module_version": "1.2.0",
      "bar_color": null,
      "_model_module": "@jupyter-widgets/controls"
     }
    },
    "2043192a81e947c998af48ebd084f6a5": {
     "model_module": "@jupyter-widgets/base",
     "model_name": "LayoutModel",
     "state": {
      "_view_name": "LayoutView",
      "grid_template_rows": null,
      "right": null,
      "justify_content": null,
      "_view_module": "@jupyter-widgets/base",
      "overflow": null,
      "_model_module_version": "1.2.0",
      "_view_count": null,
      "flex_flow": null,
      "width": null,
      "min_width": null,
      "border": null,
      "align_items": null,
      "bottom": null,
      "_model_module": "@jupyter-widgets/base",
      "top": null,
      "grid_column": null,
      "overflow_y": null,
      "overflow_x": null,
      "grid_auto_flow": null,
      "grid_area": null,
      "grid_template_columns": null,
      "flex": null,
      "_model_name": "LayoutModel",
      "justify_items": null,
      "grid_row": null,
      "max_height": null,
      "align_content": null,
      "visibility": null,
      "align_self": null,
      "height": null,
      "min_height": null,
      "padding": null,
      "grid_auto_rows": null,
      "grid_gap": null,
      "max_width": null,
      "order": null,
      "_view_module_version": "1.2.0",
      "grid_template_areas": null,
      "object_position": null,
      "object_fit": null,
      "grid_auto_columns": null,
      "margin": null,
      "display": null,
      "left": null
     }
    },
    "f82b34f1c28c4ce8911fea46bfd3c313": {
     "model_module": "@jupyter-widgets/controls",
     "model_name": "DescriptionStyleModel",
     "state": {
      "_view_name": "StyleView",
      "_model_name": "DescriptionStyleModel",
      "description_width": "",
      "_view_module": "@jupyter-widgets/base",
      "_model_module_version": "1.5.0",
      "_view_count": null,
      "_view_module_version": "1.2.0",
      "_model_module": "@jupyter-widgets/controls"
     }
    },
    "4a7d91ac8ebb43a59221b2237636e912": {
     "model_module": "@jupyter-widgets/base",
     "model_name": "LayoutModel",
     "state": {
      "_view_name": "LayoutView",
      "grid_template_rows": null,
      "right": null,
      "justify_content": null,
      "_view_module": "@jupyter-widgets/base",
      "overflow": null,
      "_model_module_version": "1.2.0",
      "_view_count": null,
      "flex_flow": null,
      "width": null,
      "min_width": null,
      "border": null,
      "align_items": null,
      "bottom": null,
      "_model_module": "@jupyter-widgets/base",
      "top": null,
      "grid_column": null,
      "overflow_y": null,
      "overflow_x": null,
      "grid_auto_flow": null,
      "grid_area": null,
      "grid_template_columns": null,
      "flex": null,
      "_model_name": "LayoutModel",
      "justify_items": null,
      "grid_row": null,
      "max_height": null,
      "align_content": null,
      "visibility": null,
      "align_self": null,
      "height": null,
      "min_height": null,
      "padding": null,
      "grid_auto_rows": null,
      "grid_gap": null,
      "max_width": null,
      "order": null,
      "_view_module_version": "1.2.0",
      "grid_template_areas": null,
      "object_position": null,
      "object_fit": null,
      "grid_auto_columns": null,
      "margin": null,
      "display": null,
      "left": null
     }
    },
    "0f4b813db09d4fabbce3eb00911ddffb": {
     "model_module": "@jupyter-widgets/controls",
     "model_name": "HBoxModel",
     "state": {
      "_view_name": "HBoxView",
      "_dom_classes": [],
      "_model_name": "HBoxModel",
      "_view_module": "@jupyter-widgets/controls",
      "_model_module_version": "1.5.0",
      "_view_count": null,
      "_view_module_version": "1.5.0",
      "box_style": "",
      "layout": "IPY_MODEL_be163daa467f4b2485e28497b976a86d",
      "_model_module": "@jupyter-widgets/controls",
      "children": [
       "IPY_MODEL_0dc241e871574f35978a4971a4251eec",
       "IPY_MODEL_7eb6d9433ac74d26ae9afe741fa3d85a"
      ]
     }
    },
    "be163daa467f4b2485e28497b976a86d": {
     "model_module": "@jupyter-widgets/base",
     "model_name": "LayoutModel",
     "state": {
      "_view_name": "LayoutView",
      "grid_template_rows": null,
      "right": null,
      "justify_content": null,
      "_view_module": "@jupyter-widgets/base",
      "overflow": null,
      "_model_module_version": "1.2.0",
      "_view_count": null,
      "flex_flow": null,
      "width": null,
      "min_width": null,
      "border": null,
      "align_items": null,
      "bottom": null,
      "_model_module": "@jupyter-widgets/base",
      "top": null,
      "grid_column": null,
      "overflow_y": null,
      "overflow_x": null,
      "grid_auto_flow": null,
      "grid_area": null,
      "grid_template_columns": null,
      "flex": null,
      "_model_name": "LayoutModel",
      "justify_items": null,
      "grid_row": null,
      "max_height": null,
      "align_content": null,
      "visibility": null,
      "align_self": null,
      "height": null,
      "min_height": null,
      "padding": null,
      "grid_auto_rows": null,
      "grid_gap": null,
      "max_width": null,
      "order": null,
      "_view_module_version": "1.2.0",
      "grid_template_areas": null,
      "object_position": null,
      "object_fit": null,
      "grid_auto_columns": null,
      "margin": null,
      "display": null,
      "left": null
     }
    },
    "0dc241e871574f35978a4971a4251eec": {
     "model_module": "@jupyter-widgets/controls",
     "model_name": "FloatProgressModel",
     "state": {
      "_view_name": "ProgressView",
      "style": "IPY_MODEL_ca5ead7c067845f493898f90ff25b5e8",
      "_dom_classes": [],
      "description": "Downloading: 100%",
      "_model_name": "FloatProgressModel",
      "bar_style": "success",
      "max": 435780013,
      "_view_module": "@jupyter-widgets/controls",
      "_model_module_version": "1.5.0",
      "value": 435780013,
      "_view_count": null,
      "_view_module_version": "1.5.0",
      "orientation": "horizontal",
      "min": 0,
      "description_tooltip": null,
      "_model_module": "@jupyter-widgets/controls",
      "layout": "IPY_MODEL_ed8981c32b2046f49fc2a6df4866b4ba"
     }
    },
    "7eb6d9433ac74d26ae9afe741fa3d85a": {
     "model_module": "@jupyter-widgets/controls",
     "model_name": "HTMLModel",
     "state": {
      "_view_name": "HTMLView",
      "style": "IPY_MODEL_4e96ea1869024eb289bee51a8e12cd3c",
      "_dom_classes": [],
      "description": "",
      "_model_name": "HTMLModel",
      "placeholder": "​",
      "_view_module": "@jupyter-widgets/controls",
      "_model_module_version": "1.5.0",
      "value": " 436M/436M [00:28&lt;00:00, 15.1MB/s]",
      "_view_count": null,
      "_view_module_version": "1.5.0",
      "description_tooltip": null,
      "_model_module": "@jupyter-widgets/controls",
      "layout": "IPY_MODEL_fb21faba6da04f7b9600c6b476669da1"
     }
    },
    "ca5ead7c067845f493898f90ff25b5e8": {
     "model_module": "@jupyter-widgets/controls",
     "model_name": "ProgressStyleModel",
     "state": {
      "_view_name": "StyleView",
      "_model_name": "ProgressStyleModel",
      "description_width": "initial",
      "_view_module": "@jupyter-widgets/base",
      "_model_module_version": "1.5.0",
      "_view_count": null,
      "_view_module_version": "1.2.0",
      "bar_color": null,
      "_model_module": "@jupyter-widgets/controls"
     }
    },
    "ed8981c32b2046f49fc2a6df4866b4ba": {
     "model_module": "@jupyter-widgets/base",
     "model_name": "LayoutModel",
     "state": {
      "_view_name": "LayoutView",
      "grid_template_rows": null,
      "right": null,
      "justify_content": null,
      "_view_module": "@jupyter-widgets/base",
      "overflow": null,
      "_model_module_version": "1.2.0",
      "_view_count": null,
      "flex_flow": null,
      "width": null,
      "min_width": null,
      "border": null,
      "align_items": null,
      "bottom": null,
      "_model_module": "@jupyter-widgets/base",
      "top": null,
      "grid_column": null,
      "overflow_y": null,
      "overflow_x": null,
      "grid_auto_flow": null,
      "grid_area": null,
      "grid_template_columns": null,
      "flex": null,
      "_model_name": "LayoutModel",
      "justify_items": null,
      "grid_row": null,
      "max_height": null,
      "align_content": null,
      "visibility": null,
      "align_self": null,
      "height": null,
      "min_height": null,
      "padding": null,
      "grid_auto_rows": null,
      "grid_gap": null,
      "max_width": null,
      "order": null,
      "_view_module_version": "1.2.0",
      "grid_template_areas": null,
      "object_position": null,
      "object_fit": null,
      "grid_auto_columns": null,
      "margin": null,
      "display": null,
      "left": null
     }
    },
    "4e96ea1869024eb289bee51a8e12cd3c": {
     "model_module": "@jupyter-widgets/controls",
     "model_name": "DescriptionStyleModel",
     "state": {
      "_view_name": "StyleView",
      "_model_name": "DescriptionStyleModel",
      "description_width": "",
      "_view_module": "@jupyter-widgets/base",
      "_model_module_version": "1.5.0",
      "_view_count": null,
      "_view_module_version": "1.2.0",
      "_model_module": "@jupyter-widgets/controls"
     }
    },
    "fb21faba6da04f7b9600c6b476669da1": {
     "model_module": "@jupyter-widgets/base",
     "model_name": "LayoutModel",
     "state": {
      "_view_name": "LayoutView",
      "grid_template_rows": null,
      "right": null,
      "justify_content": null,
      "_view_module": "@jupyter-widgets/base",
      "overflow": null,
      "_model_module_version": "1.2.0",
      "_view_count": null,
      "flex_flow": null,
      "width": null,
      "min_width": null,
      "border": null,
      "align_items": null,
      "bottom": null,
      "_model_module": "@jupyter-widgets/base",
      "top": null,
      "grid_column": null,
      "overflow_y": null,
      "overflow_x": null,
      "grid_auto_flow": null,
      "grid_area": null,
      "grid_template_columns": null,
      "flex": null,
      "_model_name": "LayoutModel",
      "justify_items": null,
      "grid_row": null,
      "max_height": null,
      "align_content": null,
      "visibility": null,
      "align_self": null,
      "height": null,
      "min_height": null,
      "padding": null,
      "grid_auto_rows": null,
      "grid_gap": null,
      "max_width": null,
      "order": null,
      "_view_module_version": "1.2.0",
      "grid_template_areas": null,
      "object_position": null,
      "object_fit": null,
      "grid_auto_columns": null,
      "margin": null,
      "display": null,
      "left": null
     }
    }
   }
  }
 },
 "cells": [
  {
   "cell_type": "code",
   "metadata": {
    "id": "l76VA9rNh9Qm",
    "colab_type": "code",
    "colab": {
     "base_uri": "https://localhost:8080/",
     "height": 888
    },
    "outputId": "b727733d-0c29-4779-e007-38d27aa9c2d8"
   },
   "source": [
    "! pip install transformers\n",
    "! pip install seqeval"
   ],
   "execution_count": null,
   "outputs": []
  },
  {
   "cell_type": "code",
   "metadata": {
    "id": "XSfvE67jvdMY",
    "colab_type": "code",
    "colab": {}
   },
   "source": [
    "import pandas as pd\n",
    "import numpy as np\n",
    "from tqdm import tqdm, trange\n"
   ],
   "execution_count": 1,
   "outputs": []
  },
  {
   "cell_type": "code",
   "metadata": {
    "id": "uVDKyBDH8lCj",
    "colab_type": "code",
    "colab": {
     "base_uri": "https://localhost:8080/",
     "height": 424
    },
    "outputId": "335734e8-88f3-44e4-fba4-091e9dbbf232"
   },
   "source": [
    "# 打开文件\n",
    "with open(\"2023-data/train.txt\", \"r\") as file:\n",
    "    # 读取文件内容\n",
    "    lines = file.readlines()\n",
    "# 分割每行并创建 DataFrame\n",
    "train = [line.strip().split(\"   \") for line in lines]\n",
    "train = pd.DataFrame(train, columns=[\"word\", \"label\"]).fillna('')\n",
    "\n",
    "with open(\"2023-data/dev.txt\", \"r\") as file:\n",
    "    # 读取文件内容\n",
    "    lines = file.readlines()\n",
    "# 分割每行并创建 DataFrame\n",
    "devel = [line.strip().split(\"   \") for line in lines]\n",
    "devel = pd.DataFrame(devel, columns=[\"word\", \"label\"]).fillna('')\n",
    "\n",
    "with open(\"2023-data/test.txt\", \"r\") as file:\n",
    "    # 读取文件内容\n",
    "    lines = file.readlines()\n",
    "# 分割每行并创建 DataFrame\n",
    "test = [line.strip().split(\"   \") for line in lines]\n",
    "test = pd.DataFrame(test, columns=[\"word\", \"label\"]).fillna('')\n",
    "train"
   ],
   "execution_count": 2,
   "outputs": [
    {
     "data": {
      "text/plain": "                   word label\n0         [Implantation     O\n1                    of     O\n2               newborn     O\n3                  mice     O\n4                  skin     O\n...                 ...   ...\n79287               and     O\n79288  Wnt/beta-catenin     O\n79289         signaling     O\n79290                 .     O\n79291                        \n\n[79292 rows x 2 columns]",
      "text/html": "<div>\n<style scoped>\n    .dataframe tbody tr th:only-of-type {\n        vertical-align: middle;\n    }\n\n    .dataframe tbody tr th {\n        vertical-align: top;\n    }\n\n    .dataframe thead th {\n        text-align: right;\n    }\n</style>\n<table border=\"1\" class=\"dataframe\">\n  <thead>\n    <tr style=\"text-align: right;\">\n      <th></th>\n      <th>word</th>\n      <th>label</th>\n    </tr>\n  </thead>\n  <tbody>\n    <tr>\n      <th>0</th>\n      <td>[Implantation</td>\n      <td>O</td>\n    </tr>\n    <tr>\n      <th>1</th>\n      <td>of</td>\n      <td>O</td>\n    </tr>\n    <tr>\n      <th>2</th>\n      <td>newborn</td>\n      <td>O</td>\n    </tr>\n    <tr>\n      <th>3</th>\n      <td>mice</td>\n      <td>O</td>\n    </tr>\n    <tr>\n      <th>4</th>\n      <td>skin</td>\n      <td>O</td>\n    </tr>\n    <tr>\n      <th>...</th>\n      <td>...</td>\n      <td>...</td>\n    </tr>\n    <tr>\n      <th>79287</th>\n      <td>and</td>\n      <td>O</td>\n    </tr>\n    <tr>\n      <th>79288</th>\n      <td>Wnt/beta-catenin</td>\n      <td>O</td>\n    </tr>\n    <tr>\n      <th>79289</th>\n      <td>signaling</td>\n      <td>O</td>\n    </tr>\n    <tr>\n      <th>79290</th>\n      <td>.</td>\n      <td>O</td>\n    </tr>\n    <tr>\n      <th>79291</th>\n      <td></td>\n      <td></td>\n    </tr>\n  </tbody>\n</table>\n<p>79292 rows × 2 columns</p>\n</div>"
     },
     "execution_count": 2,
     "metadata": {},
     "output_type": "execute_result"
    }
   ]
  },
  {
   "cell_type": "code",
   "metadata": {
    "id": "NG4IrGC87hGu",
    "colab_type": "code",
    "colab": {}
   },
   "source": [
    "def vet_frases(dataframe):\n",
    "  sentences = []\n",
    "  sentences_aux = []\n",
    "  labels = []\n",
    "  labels_aux = []\n",
    "  for word, label in zip(dataframe.word.values, dataframe.label.values):\n",
    "    if (word == ''):\n",
    "        continue\n",
    "    sentences_aux.append(word)\n",
    "    labels_aux.append(label)\n",
    "    if (word == '.'):\n",
    "      sentences.append(sentences_aux)\n",
    "      labels.append(labels_aux)\n",
    "\n",
    "      sentences_aux = []\n",
    "      labels_aux = []\n",
    "  return sentences, labels"
   ],
   "execution_count": 3,
   "outputs": []
  },
  {
   "cell_type": "code",
   "metadata": {
    "id": "LEgoZ4Xw93me",
    "colab_type": "code",
    "colab": {
     "base_uri": "https://localhost:8080/",
     "height": 72
    },
    "outputId": "199a7dad-06fe-478b-ba40-0a3c81f2f968"
   },
   "source": [
    "train_sentences, train_labels = vet_frases(train)\n",
    "print(train_sentences[0])\n",
    "print(train_labels[0])"
   ],
   "execution_count": 4,
   "outputs": [
    {
     "name": "stdout",
     "output_type": "stream",
     "text": [
      "['[Implantation', 'of', 'newborn', 'mice', 'skin', 'cells', 'with', 'chamber', 'method', 'to', 'construct', 'a', 'model', 'of', 'hair', 'follicle', 'development]', '.']\n",
      "['O', 'O', 'O', 'O', 'O', 'O', 'O', 'O', 'O', 'O', 'O', 'O', 'O', 'O', 'B-FOLLICLE-NAME', 'I-FOLLICLE-NAME', 'I-FOLLICLE-NAME', 'O']\n"
     ]
    }
   ]
  },
  {
   "cell_type": "code",
   "metadata": {
    "id": "A1mbANGAA6eG",
    "colab_type": "code",
    "colab": {
     "base_uri": "https://localhost:8080/",
     "height": 72
    },
    "outputId": "f7b471f4-330e-42ff-8749-ddfac359cf6e"
   },
   "source": [
    "test_sentences, test_labels = vet_frases(test)\n",
    "print(test_sentences[0])\n",
    "print(test_labels[0])"
   ],
   "execution_count": 33,
   "outputs": [
    {
     "name": "stdout",
     "output_type": "stream",
     "text": [
      "['Induction', 'of', 'hair', 'follicle', 'neogenesis', 'with', 'cultured', 'mouse', 'dermal', 'papilla', 'cells', 'in', 'de', 'novo', 'regenerated', 'skin', 'tissues', '.']\n",
      "['O', 'O', 'B-FOLLICLE-NAME', 'I-FOLLICLE-NAME', 'I-FOLLICLE-NAME', 'O', 'O', 'O', 'B-FOLLICLE-NAME', 'I-FOLLICLE-NAME', 'I-FOLLICLE-NAME', 'O', 'O', 'O', 'O', 'O', 'O', 'O']\n"
     ]
    }
   ]
  },
  {
   "cell_type": "code",
   "metadata": {
    "id": "lOwXk7TnLd_-",
    "colab_type": "code",
    "colab": {
     "base_uri": "https://localhost:8080/",
     "height": 72
    },
    "outputId": "bc6f8ae9-f35f-4d5b-b1ff-3bd9c4742066"
   },
   "source": [
    "devel_sentences, devel_labels = vet_frases(devel)\n",
    "print(devel_sentences[0])\n",
    "print(devel_labels[0])"
   ],
   "execution_count": 6,
   "outputs": [
    {
     "name": "stdout",
     "output_type": "stream",
     "text": [
      "['Reflectance', 'spectroscopy', 'for', 'noninvasive', 'evaluation', 'of', 'hair', 'follicle', 'stage', '.']\n",
      "['O', 'O', 'O', 'O', 'O', 'O', 'B-FOLLICLE-NAME', 'I-FOLLICLE-NAME', 'O', 'O']\n"
     ]
    }
   ]
  },
  {
   "cell_type": "code",
   "metadata": {
    "id": "hhGbLgHTqJnD",
    "colab_type": "code",
    "colab": {
     "base_uri": "https://localhost:8080/",
     "height": 54
    },
    "outputId": "9aa315bf-0dc3-489f-cd86-1dfc33cbd6a7"
   },
   "source": [
    "tag_values = list(set(train[\"label\"].values))\n",
    "tag_values.append(\"PAD\")\n",
    "tag_values = [x for x in tag_values if x]\n",
    "print(sorted(tag_values))\n",
    "tag2idx = {t: i for i, t in enumerate(tag_values)}"
   ],
   "execution_count": 34,
   "outputs": [
    {
     "name": "stdout",
     "output_type": "stream",
     "text": [
      "['B-FOLLICLE-NAME', 'I-FOLLICLE-NAME', 'O', 'PAD']\n"
     ]
    }
   ]
  },
  {
   "cell_type": "code",
   "metadata": {
    "id": "euV0nBSdHKzL",
    "colab_type": "code",
    "colab": {
     "base_uri": "https://localhost:8080/",
     "height": 34
    },
    "outputId": "3220fe04-69ff-4f65-98e7-5ba888ee880d"
   },
   "source": [
    "print(len(tag_values))"
   ],
   "execution_count": 35,
   "outputs": [
    {
     "name": "stdout",
     "output_type": "stream",
     "text": [
      "4\n"
     ]
    }
   ]
  },
  {
   "cell_type": "code",
   "metadata": {
    "id": "I6gyI1yHwIAf",
    "colab_type": "code",
    "colab": {
     "base_uri": "https://localhost:8080/",
     "height": 35
    },
    "outputId": "8690b49c-7258-41f2-d1d3-05783a0d66b9"
   },
   "source": [
    "import torch\n",
    "from torch.utils.data import TensorDataset, DataLoader, RandomSampler, SequentialSampler\n",
    "from transformers import BertTokenizer, BertConfig\n",
    "\n",
    "from tensorflow.keras.preprocessing.sequence import pad_sequences\n",
    "from sklearn.utils import shuffle\n",
    "\n",
    "torch.__version__"
   ],
   "execution_count": 36,
   "outputs": [
    {
     "data": {
      "text/plain": "'1.7.1'"
     },
     "execution_count": 36,
     "metadata": {},
     "output_type": "execute_result"
    }
   ]
  },
  {
   "cell_type": "code",
   "metadata": {
    "id": "kJStLPlcyOug",
    "colab_type": "code",
    "colab": {}
   },
   "source": [
    "device = torch.device(\"cuda\" if torch.cuda.is_available() else \"cpu\")\n",
    "n_gpu = torch.cuda.device_count()"
   ],
   "execution_count": 37,
   "outputs": []
  },
  {
   "cell_type": "code",
   "metadata": {
    "id": "UCUY7LWqyO1b",
    "colab_type": "code",
    "colab": {
     "base_uri": "https://localhost:8080/",
     "height": 35
    },
    "outputId": "128a63ee-d5b2-49b0-cd1a-564579cc00b6"
   },
   "source": [
    "torch.cuda.get_device_name(0)"
   ],
   "execution_count": 38,
   "outputs": [
    {
     "data": {
      "text/plain": "'NVIDIA TITAN Xp'"
     },
     "execution_count": 38,
     "metadata": {},
     "output_type": "execute_result"
    }
   ]
  },
  {
   "cell_type": "code",
   "metadata": {
    "id": "ZO6cgae5wdct",
    "colab_type": "code",
    "colab": {
     "base_uri": "https://localhost:8080/",
     "height": 165,
     "referenced_widgets": [
      "9c7986d4d46048e985c29a87d7e80494",
      "15f4c44b077b40b385530472264e38bc",
      "3b06b76ab7604d0ca0120a75147fefd8",
      "c2b551b7214b4398847b0468654c1e51",
      "d8e273f078454349bd2a0f141e321b96",
      "9f9882f36d724cbcb934f28246e91317",
      "b202bbb965b24a7cbac23db4ebc5076a",
      "33f55e114d884323bf4ff4ef948ede6b",
      "76c525755cf94878af617b204271dd6b",
      "9e49c1d40d524af49b352a8613c2d577",
      "767503b2c10b48868084f14dbc6bb891",
      "fc7c3a60db234d73af531eba965541bb",
      "2172c2f3e5394a2e812d6b6aad0d8588",
      "12c5399516ed47c59fab4ea47dbca310",
      "5f89ff2fe1504a5c83a9a4b17fab6ef1",
      "669b345cec024351a890b2be38627991",
      "964c18ca1352455c9aedf35ecc3cb305",
      "2ebcc2112a5646319820328fb918513e",
      "2ba1bb4acd4f493f86a88926ebcc5e3e",
      "6767e35af30543c1be5c07a5d16b2896",
      "3569b906fcdb4d13a86a6fd477521e2b",
      "47b69b6f35a54541a2731795a905012e",
      "9e51319fff914354b4519595c1e85a0b",
      "69870d50a83347058fc356911e31eac0"
     ]
    },
    "outputId": "c39f5625-61cd-4a4f-ebcd-b266506a2bed"
   },
   "source": [
    "tokenizer = BertTokenizer.from_pretrained('monologg/biobert_v1.1_pubmed', do_lower_case=False)"
   ],
   "execution_count": 39,
   "outputs": []
  },
  {
   "cell_type": "code",
   "metadata": {
    "id": "LJfAaw-Po2KA",
    "colab_type": "code",
    "colab": {}
   },
   "source": [
    "MAX_LEN = 75\n",
    "bs = 3"
   ],
   "execution_count": 40,
   "outputs": []
  },
  {
   "cell_type": "code",
   "execution_count": 40,
   "outputs": [],
   "source": [],
   "metadata": {
    "collapsed": false
   }
  },
  {
   "cell_type": "code",
   "metadata": {
    "id": "DsJ8sdY-o_-K",
    "colab_type": "code",
    "colab": {}
   },
   "source": [
    "def tokenize_and_preserve_labels(sentence, text_labels):\n",
    "    tokenized_sentence = []\n",
    "    labels = []\n",
    "    for word, label in zip(sentence, text_labels):\n",
    "\n",
    "        # Tokenize the word and count # of subwords the word is broken into\n",
    "        tokenized_word = tokenizer.tokenize(word)\n",
    "        n_subwords = len(tokenized_word)\n",
    "\n",
    "        # Add the tokenized word to the final tokenized word list\n",
    "        tokenized_sentence.extend(tokenized_word)\n",
    "\n",
    "        # Add the same label to the new list of labels `n_subwords` times\n",
    "        labels.extend([label] * n_subwords)\n",
    "\n",
    "    return tokenized_sentence, labels\n"
   ],
   "execution_count": 41,
   "outputs": []
  },
  {
   "cell_type": "code",
   "metadata": {
    "id": "kWHKU_MVpMtP",
    "colab_type": "code",
    "colab": {}
   },
   "source": [
    "\n",
    "train_tokenized_texts_and_labels = [\n",
    "    tokenize_and_preserve_labels(sent, labs)\n",
    "    for sent, labs in zip(train_sentences, train_labels)\n",
    "]\n",
    "test_tokenized_texts_and_labels = [\n",
    "    tokenize_and_preserve_labels(sent, labs)\n",
    "    for sent, labs in zip(test_sentences, test_labels)\n",
    "]\n",
    "devel_tokenized_texts_and_labels = [\n",
    "    tokenize_and_preserve_labels(sent, labs)\n",
    "    for sent, labs in zip(devel_sentences, devel_labels)\n",
    "]\n"
   ],
   "execution_count": 42,
   "outputs": []
  },
  {
   "cell_type": "code",
   "metadata": {
    "id": "PrB5xKIGAsSO",
    "colab_type": "code",
    "colab": {
     "base_uri": "https://localhost:8080/",
     "height": 54
    },
    "outputId": "1818d150-5dc9-4935-d2c9-6b11ebe0f0b7"
   },
   "source": [
    "print(test_tokenized_texts_and_labels[0])"
   ],
   "execution_count": 43,
   "outputs": [
    {
     "name": "stdout",
     "output_type": "stream",
     "text": [
      "(['In', '##duction', 'of', 'hair', 'f', '##oll', '##icle', 'neo', '##genesis', 'with', 'culture', '##d', 'mouse', 'der', '##mal', 'p', '##ap', '##illa', 'cells', 'in', 'de', 'no', '##vo', 're', '##generate', '##d', 'skin', 'tissues', '.'], ['O', 'O', 'O', 'B-FOLLICLE-NAME', 'I-FOLLICLE-NAME', 'I-FOLLICLE-NAME', 'I-FOLLICLE-NAME', 'I-FOLLICLE-NAME', 'I-FOLLICLE-NAME', 'O', 'O', 'O', 'O', 'B-FOLLICLE-NAME', 'B-FOLLICLE-NAME', 'I-FOLLICLE-NAME', 'I-FOLLICLE-NAME', 'I-FOLLICLE-NAME', 'I-FOLLICLE-NAME', 'O', 'O', 'O', 'O', 'O', 'O', 'O', 'O', 'O', 'O'])\n"
     ]
    }
   ]
  },
  {
   "cell_type": "code",
   "metadata": {
    "id": "_reUPHTbpOFS",
    "colab_type": "code",
    "colab": {}
   },
   "source": [
    "train_tokenized_texts = [token_label_pair[0] for token_label_pair in train_tokenized_texts_and_labels]\n",
    "train_labels = [token_label_pair[1] for token_label_pair in train_tokenized_texts_and_labels]\n",
    "test_tokenized_texts = [token_label_pair[0] for token_label_pair in test_tokenized_texts_and_labels]\n",
    "test_labels = [token_label_pair[1] for token_label_pair in test_tokenized_texts_and_labels]\n",
    "devel_tokenized_texts = [token_label_pair[0] for token_label_pair in devel_tokenized_texts_and_labels]\n",
    "devel_labels = [token_label_pair[1] for token_label_pair in devel_tokenized_texts_and_labels]"
   ],
   "execution_count": 45,
   "outputs": []
  },
  {
   "cell_type": "code",
   "metadata": {
    "id": "nruCLWz8BEx9",
    "colab_type": "code",
    "colab": {
     "base_uri": "https://localhost:8080/",
     "height": 54
    },
    "outputId": "ab415f80-df8f-4760-c83c-53ee7aab5c35"
   },
   "source": [
    "print(test_tokenized_texts[0])"
   ],
   "execution_count": 46,
   "outputs": [
    {
     "name": "stdout",
     "output_type": "stream",
     "text": [
      "['In', '##duction', 'of', 'hair', 'f', '##oll', '##icle', 'neo', '##genesis', 'with', 'culture', '##d', 'mouse', 'der', '##mal', 'p', '##ap', '##illa', 'cells', 'in', 'de', 'no', '##vo', 're', '##generate', '##d', 'skin', 'tissues', '.']\n"
     ]
    }
   ]
  },
  {
   "cell_type": "code",
   "metadata": {
    "id": "2J-nQ7ZCpRIz",
    "colab_type": "code",
    "colab": {}
   },
   "source": [
    "train_input_ids = pad_sequences([tokenizer.convert_tokens_to_ids(txt) for txt in train_tokenized_texts],\n",
    "                          maxlen=MAX_LEN, dtype=\"long\", value=0.0,\n",
    "                          truncating=\"post\", padding=\"post\")\n",
    "test_input_ids = pad_sequences([tokenizer.convert_tokens_to_ids(txt) for txt in test_tokenized_texts],\n",
    "                          maxlen=MAX_LEN, dtype=\"long\", value=0.0,\n",
    "                          truncating=\"post\", padding=\"post\")\n",
    "devel_input_ids = pad_sequences([tokenizer.convert_tokens_to_ids(txt) for txt in devel_tokenized_texts],\n",
    "                          maxlen=MAX_LEN, dtype=\"long\", value=0.0,\n",
    "                          truncating=\"post\", padding=\"post\")\n"
   ],
   "execution_count": 47,
   "outputs": []
  },
  {
   "cell_type": "code",
   "execution_count": 48,
   "outputs": [
    {
     "data": {
      "text/plain": "array([  164,   146,  8223,  9180,  1891,  1104, 24820, 14105,  2241,\n        3652,  1114,  5383,  3442,  1106,  9417,   170,  2235,  1104,\n        1716,   175, 12666, 26726,  1718,   166,   119,     0,     0,\n           0,     0,     0,     0,     0,     0,     0,     0,     0,\n           0,     0,     0,     0,     0,     0,     0,     0,     0,\n           0,     0,     0,     0,     0,     0,     0,     0,     0,\n           0,     0,     0,     0,     0,     0,     0,     0,     0,\n           0,     0,     0,     0,     0,     0,     0,     0,     0,\n           0,     0,     0])"
     },
     "execution_count": 48,
     "metadata": {},
     "output_type": "execute_result"
    }
   ],
   "source": [
    "train_input_ids[0]"
   ],
   "metadata": {
    "collapsed": false
   }
  },
  {
   "cell_type": "code",
   "metadata": {
    "id": "JHxNAf-UpS6F",
    "colab_type": "code",
    "colab": {}
   },
   "source": [
    "train_tags = pad_sequences([[tag2idx.get(l) for l in lab] for lab in train_labels],\n",
    "                     maxlen=MAX_LEN, value=tag2idx[\"PAD\"], padding=\"post\",\n",
    "                     dtype=\"long\", truncating=\"post\")\n",
    "test_tags = pad_sequences([[tag2idx.get(l) for l in lab] for lab in test_labels],\n",
    "                     maxlen=MAX_LEN, value=tag2idx[\"PAD\"], padding=\"post\",\n",
    "                     dtype=\"long\", truncating=\"post\")\n",
    "devel_tags = pad_sequences([[tag2idx.get(l) for l in lab] for lab in devel_labels],\n",
    "                     maxlen=MAX_LEN, value=tag2idx[\"PAD\"], padding=\"post\",\n",
    "                     dtype=\"long\", truncating=\"post\")"
   ],
   "execution_count": 49,
   "outputs": []
  },
  {
   "cell_type": "code",
   "execution_count": 50,
   "outputs": [
    {
     "data": {
      "text/plain": "array([1, 1, 1, 1, 1, 1, 1, 1, 1, 1, 1, 1, 1, 1, 1, 1, 1, 1, 1, 1, 1, 1,\n       1, 1, 1, 3, 3, 3, 3, 3, 3, 3, 3, 3, 3, 3, 3, 3, 3, 3, 3, 3, 3, 3,\n       3, 3, 3, 3, 3, 3, 3, 3, 3, 3, 3, 3, 3, 3, 3, 3, 3, 3, 3, 3, 3, 3,\n       3, 3, 3, 3, 3, 3, 3, 3, 3])"
     },
     "execution_count": 50,
     "metadata": {},
     "output_type": "execute_result"
    }
   ],
   "source": [
    "train_tags[0]"
   ],
   "metadata": {
    "collapsed": false
   }
  },
  {
   "cell_type": "code",
   "metadata": {
    "id": "CBeGAhn7pVDY",
    "colab_type": "code",
    "colab": {}
   },
   "source": [
    "train_attention_masks = [[float(i != 0.0) for i in ii] for ii in train_input_ids]\n",
    "test_attention_masks = [[float(i != 0.0) for i in ii] for ii in test_input_ids]\n",
    "devel_attention_masks = [[float(i != 0.0) for i in ii] for ii in devel_input_ids]"
   ],
   "execution_count": 51,
   "outputs": []
  },
  {
   "cell_type": "code",
   "execution_count": 52,
   "outputs": [
    {
     "data": {
      "text/plain": "[1.0,\n 1.0,\n 1.0,\n 1.0,\n 1.0,\n 1.0,\n 1.0,\n 1.0,\n 1.0,\n 1.0,\n 1.0,\n 1.0,\n 1.0,\n 1.0,\n 1.0,\n 1.0,\n 1.0,\n 1.0,\n 1.0,\n 1.0,\n 1.0,\n 1.0,\n 1.0,\n 1.0,\n 1.0,\n 0.0,\n 0.0,\n 0.0,\n 0.0,\n 0.0,\n 0.0,\n 0.0,\n 0.0,\n 0.0,\n 0.0,\n 0.0,\n 0.0,\n 0.0,\n 0.0,\n 0.0,\n 0.0,\n 0.0,\n 0.0,\n 0.0,\n 0.0,\n 0.0,\n 0.0,\n 0.0,\n 0.0,\n 0.0,\n 0.0,\n 0.0,\n 0.0,\n 0.0,\n 0.0,\n 0.0,\n 0.0,\n 0.0,\n 0.0,\n 0.0,\n 0.0,\n 0.0,\n 0.0,\n 0.0,\n 0.0,\n 0.0,\n 0.0,\n 0.0,\n 0.0,\n 0.0,\n 0.0,\n 0.0,\n 0.0,\n 0.0,\n 0.0]"
     },
     "execution_count": 52,
     "metadata": {},
     "output_type": "execute_result"
    }
   ],
   "source": [
    "train_attention_masks[0]"
   ],
   "metadata": {
    "collapsed": false
   }
  },
  {
   "cell_type": "code",
   "metadata": {
    "id": "CARIrVeCpW-J",
    "colab_type": "code",
    "colab": {}
   },
   "source": [
    "tr_inputs, val_inputs, tr_tags, val_tags, tr_masks, val_masks = shuffle(train_input_ids, test_input_ids, train_tags, test_tags, train_attention_masks, test_attention_masks, random_state=2020)\n",
    "devel_inputs, devel_tags, devel_masks = shuffle(devel_input_ids, devel_tags, devel_attention_masks, random_state=2020)"
   ],
   "execution_count": 29,
   "outputs": []
  },
  {
   "cell_type": "code",
   "metadata": {
    "id": "jXPueD-QDqvb",
    "colab_type": "code",
    "colab": {}
   },
   "source": [
    "tr_inputs = torch.tensor(tr_inputs)\n",
    "val_inputs = torch.tensor(val_inputs)\n",
    "tr_tags = torch.tensor(tr_tags)\n",
    "val_tags = torch.tensor(val_tags)\n",
    "tr_masks = torch.tensor(tr_masks)\n",
    "val_masks = torch.tensor(val_masks)\n",
    "devel_inputs = torch.tensor(devel_inputs)\n",
    "devel_tags = torch.tensor(devel_tags)\n",
    "devel_masks = torch.tensor(devel_masks)"
   ],
   "execution_count": 30,
   "outputs": []
  },
  {
   "cell_type": "code",
   "metadata": {
    "id": "SHnjuT6HDtLU",
    "colab_type": "code",
    "colab": {}
   },
   "source": [
    "train_data = TensorDataset(tr_inputs, tr_masks, tr_tags)\n",
    "train_sampler = RandomSampler(train_data)\n",
    "train_dataloader = DataLoader(train_data, sampler=train_sampler, batch_size=bs)\n",
    "\n",
    "valid_data = TensorDataset(val_inputs, val_masks, val_tags)\n",
    "valid_sampler = SequentialSampler(valid_data)\n",
    "valid_dataloader = DataLoader(valid_data, sampler=valid_sampler, batch_size=bs)\n",
    "\n",
    "devel_data = TensorDataset(devel_inputs, devel_masks, devel_tags)\n",
    "devel_sampler = SequentialSampler(devel_data)\n",
    "devel_dataloader = DataLoader(devel_data, sampler=devel_sampler, batch_size=bs)\n"
   ],
   "execution_count": 31,
   "outputs": []
  },
  {
   "cell_type": "code",
   "metadata": {
    "id": "bL9VsQfTDxUz",
    "colab_type": "code",
    "colab": {
     "base_uri": "https://localhost:8080/",
     "height": 35
    },
    "outputId": "5c142ed2-7d3f-48f5-c8bd-1255d08912c7"
   },
   "source": [
    "import transformers\n",
    "from transformers import BertForTokenClassification, AdamW\n",
    "\n",
    "transformers.__version__\n"
   ],
   "execution_count": 32,
   "outputs": [
    {
     "data": {
      "text/plain": "'4.29.2'"
     },
     "execution_count": 32,
     "metadata": {},
     "output_type": "execute_result"
    }
   ]
  },
  {
   "cell_type": "code",
   "metadata": {
    "id": "JLpfqVwjDzSt",
    "colab_type": "code",
    "colab": {
     "base_uri": "https://localhost:8080/",
     "height": 223,
     "referenced_widgets": [
      "79f896f646744196a2708ccad138e9cc",
      "8db2a7fef392402db669172693c0a7d5",
      "6a31ba8e3a0146a3a89644e320c70b64",
      "174a48f3c4114f1a92bfc309274df742",
      "e3d1b5e446ae4a67b26482b0fe990f91",
      "2043192a81e947c998af48ebd084f6a5",
      "f82b34f1c28c4ce8911fea46bfd3c313",
      "4a7d91ac8ebb43a59221b2237636e912",
      "0f4b813db09d4fabbce3eb00911ddffb",
      "be163daa467f4b2485e28497b976a86d",
      "0dc241e871574f35978a4971a4251eec",
      "7eb6d9433ac74d26ae9afe741fa3d85a",
      "ca5ead7c067845f493898f90ff25b5e8",
      "ed8981c32b2046f49fc2a6df4866b4ba",
      "4e96ea1869024eb289bee51a8e12cd3c",
      "fb21faba6da04f7b9600c6b476669da1"
     ]
    },
    "outputId": "24c123de-fca5-421f-d85a-e33840e28d17"
   },
   "source": [
    "model = BertForTokenClassification.from_pretrained(\n",
    "    \"monologg/biobert_v1.1_pubmed\",\n",
    "    num_labels=len(tag2idx),\n",
    "    output_attentions = False,\n",
    "    output_hidden_states = False\n",
    ")\n"
   ],
   "execution_count": 105,
   "outputs": [
    {
     "name": "stderr",
     "output_type": "stream",
     "text": [
      "Some weights of the model checkpoint at monologg/biobert_v1.1_pubmed were not used when initializing BertForTokenClassification: ['cls.predictions.transform.LayerNorm.bias', 'cls.seq_relationship.weight', 'cls.predictions.decoder.weight', 'cls.seq_relationship.bias', 'cls.predictions.transform.dense.bias', 'cls.predictions.transform.LayerNorm.weight', 'cls.predictions.transform.dense.weight', 'cls.predictions.bias']\n",
      "- This IS expected if you are initializing BertForTokenClassification from the checkpoint of a model trained on another task or with another architecture (e.g. initializing a BertForSequenceClassification model from a BertForPreTraining model).\n",
      "- This IS NOT expected if you are initializing BertForTokenClassification from the checkpoint of a model that you expect to be exactly identical (initializing a BertForSequenceClassification model from a BertForSequenceClassification model).\n",
      "Some weights of BertForTokenClassification were not initialized from the model checkpoint at monologg/biobert_v1.1_pubmed and are newly initialized: ['classifier.bias', 'classifier.weight']\n",
      "You should probably TRAIN this model on a down-stream task to be able to use it for predictions and inference.\n"
     ]
    }
   ]
  },
  {
   "cell_type": "code",
   "metadata": {
    "id": "qevkb5MiD_ig",
    "colab_type": "code",
    "colab": {}
   },
   "source": [
    "model.cuda();"
   ],
   "execution_count": 106,
   "outputs": []
  },
  {
   "cell_type": "code",
   "metadata": {
    "id": "ki12BV1OEKvM",
    "colab_type": "code",
    "colab": {}
   },
   "source": [
    "FULL_FINETUNING = True\n",
    "if FULL_FINETUNING:\n",
    "    param_optimizer = list(model.named_parameters())\n",
    "    no_decay = ['bias', 'gamma', 'beta']\n",
    "    optimizer_grouped_parameters = [\n",
    "        {'params': [p for n, p in param_optimizer if not any(nd in n for nd in no_decay)],\n",
    "         'weight_decay_rate': 0.01},\n",
    "        {'params': [p for n, p in param_optimizer if any(nd in n for nd in no_decay)],\n",
    "         'weight_decay_rate': 0.0}\n",
    "    ]\n",
    "else:\n",
    "    param_optimizer = list(model.classifier.named_parameters())\n",
    "    optimizer_grouped_parameters = [{\"params\": [p for n, p in param_optimizer]}]\n",
    "\n",
    "optimizer = AdamW(\n",
    "    optimizer_grouped_parameters,\n",
    "    lr=3e-5,\n",
    "    eps=1e-8\n",
    ")\n"
   ],
   "execution_count": 107,
   "outputs": [
    {
     "name": "stderr",
     "output_type": "stream",
     "text": [
      "/home/zhangtao/anaconda3/envs/env3.7/lib/python3.7/site-packages/transformers/optimization.py:411: FutureWarning: This implementation of AdamW is deprecated and will be removed in a future version. Use the PyTorch implementation torch.optim.AdamW instead, or set `no_deprecation_warning=True` to disable this warning\n",
      "  FutureWarning,\n"
     ]
    }
   ]
  },
  {
   "cell_type": "code",
   "metadata": {
    "id": "ZqKCYAhhEMtK",
    "colab_type": "code",
    "colab": {}
   },
   "source": [
    "from transformers import get_linear_schedule_with_warmup\n",
    "\n",
    "epochs = 3\n",
    "max_grad_norm = 1.0\n",
    "\n",
    "# Total number of training steps is number of batches * number of epochs.\n",
    "total_steps = len(train_dataloader) * epochs\n",
    "\n",
    "# Create the learning rate scheduler.\n",
    "scheduler = get_linear_schedule_with_warmup(\n",
    "    optimizer,\n",
    "    num_warmup_steps=0,\n",
    "    num_training_steps=total_steps\n",
    ")\n"
   ],
   "execution_count": 108,
   "outputs": []
  },
  {
   "cell_type": "code",
   "metadata": {
    "id": "Qz5pu2hDETOz",
    "colab_type": "code",
    "colab": {}
   },
   "source": [
    "from seqeval.metrics import f1_score, accuracy_score\n"
   ],
   "execution_count": 109,
   "outputs": []
  },
  {
   "cell_type": "code",
   "metadata": {
    "id": "BKfqRhSnEUyi",
    "colab_type": "code",
    "colab": {
     "base_uri": "https://localhost:8080/",
     "height": 347
    },
    "outputId": "e8b567d7-6d3c-4a86-ac81-9f9bd079590a"
   },
   "source": [
    "## Store the average loss after each epoch so we can plot them.\n",
    "loss_values, validation_loss_values = [], []\n",
    "validation_accuracy, validation_f1 = [], []\n",
    "for _ in trange(epochs, desc=\"Epoch\"):\n",
    "    # ========================================\n",
    "    #               Training\n",
    "    # ========================================\n",
    "    # Perform one full pass over the training set.\n",
    "\n",
    "    # Put the model into training mode.\n",
    "    model.train()\n",
    "    # Reset the total loss for this epoch.\n",
    "    total_loss = 0\n",
    "\n",
    "    # Training loop\n",
    "    for step, batch in enumerate(train_dataloader):\n",
    "        # add batch to gpu\n",
    "        batch = tuple(t.to(device) for t in batch)\n",
    "        b_input_ids, b_input_mask, b_labels = batch\n",
    "        # Always clear any previously calculated gradients before performing a backward pass.\n",
    "        model.zero_grad()\n",
    "        # forward pass\n",
    "        # This will return the loss (rather than the model output)\n",
    "        # because we have provided the `labels`.\n",
    "        outputs = model(b_input_ids, token_type_ids=None,\n",
    "                        attention_mask=b_input_mask, labels=b_labels)\n",
    "        # get the loss\n",
    "        loss = outputs[0]\n",
    "        # Perform a backward pass to calculate the gradients.\n",
    "        loss.backward()\n",
    "        # track train loss\n",
    "        total_loss += loss.item()\n",
    "        # Clip the norm of the gradient\n",
    "        # This is to help prevent the \"exploding gradients\" problem.\n",
    "        torch.nn.utils.clip_grad_norm_(parameters=model.parameters(), max_norm=max_grad_norm)\n",
    "        # update parameters\n",
    "        optimizer.step()\n",
    "        # Update the learning rate.\n",
    "        scheduler.step()\n",
    "\n",
    "    # Calculate the average loss over the training data.\n",
    "    avg_train_loss = total_loss / len(train_dataloader)\n",
    "    print()\n",
    "    print(\"Average train loss: {}\".format(avg_train_loss))\n",
    "\n",
    "    # Store the loss value for plotting the learning curve.\n",
    "    loss_values.append(avg_train_loss)\n",
    "\n",
    "\n",
    "    # ========================================\n",
    "    #               Validation\n",
    "    # ========================================\n",
    "    # After the completion of each training epoch, measure our performance on\n",
    "    # our validation set.\n",
    "\n",
    "    # Put the model into evaluation mode\n",
    "    model.eval()\n",
    "    # Reset the validation loss for this epoch.\n",
    "    eval_loss, eval_accuracy = 0, 0\n",
    "    nb_eval_steps, nb_eval_examples = 0, 0\n",
    "    predictions , true_labels = [], []\n",
    "    for batch in valid_dataloader:\n",
    "        batch = tuple(t.to(device) for t in batch)\n",
    "        b_input_ids, b_input_mask, b_labels = batch\n",
    "\n",
    "        # Telling the model not to compute or store gradients,\n",
    "        # saving memory and speeding up validation\n",
    "        with torch.no_grad():\n",
    "            # Forward pass, calculate logit predictions.\n",
    "            # This will return the logits rather than the loss because we have not provided labels.\n",
    "            outputs = model(b_input_ids, token_type_ids=None,\n",
    "                            attention_mask=b_input_mask, labels=b_labels)\n",
    "        # Move logits and labels to CPU\n",
    "        logits = outputs[1].detach().cpu().numpy()\n",
    "        label_ids = b_labels.to('cpu').numpy()\n",
    "\n",
    "        # Calculate the accuracy for this batch of test sentences.\n",
    "        eval_loss += outputs[0].mean().item()\n",
    "        predictions.extend([list(p) for p in np.argmax(logits, axis=2)])\n",
    "        true_labels.extend(label_ids)\n",
    "\n",
    "    eval_loss = eval_loss / len(valid_dataloader)\n",
    "    validation_loss_values.append(eval_loss)\n",
    "    print(\"Validation loss: {}\".format(eval_loss))\n",
    "    pred_tags = [tag_values[p_i] for p, l in zip(predictions, true_labels)\n",
    "                                 for p_i, l_i in zip(p, l) if tag_values[l_i] != \"PAD\"]\n",
    "    valid_tags = [tag_values[l_i] for l in true_labels\n",
    "                                  for l_i in l if tag_values[l_i] != \"PAD\"]\n",
    "    print(\"Validation Accuracy: {}\".format(accuracy_score(pred_tags, valid_tags)))\n",
    "    print(\"Validation F1-Score: {}\".format(f1_score(pred_tags, valid_tags)))\n",
    "    print()\n",
    "    validation_accuracy.append(accuracy_score(pred_tags, valid_tags))\n",
    "    validation_f1.append(f1_score(pred_tags, valid_tags))\n"
   ],
   "execution_count": 110,
   "outputs": [
    {
     "name": "stderr",
     "output_type": "stream",
     "text": [
      "Epoch:   0%|          | 0/3 [00:00<?, ?it/s]"
     ]
    },
    {
     "name": "stdout",
     "output_type": "stream",
     "text": [
      "\n",
      "Average train loss: 0.06085126216544623\n",
      "Validation loss: 0.023141811269956437\n",
      "Validation Accuracy: 0.9850344781638296\n",
      "Validation F1-Score: 0.8424527358207462\n",
      "\n"
     ]
    },
    {
     "name": "stderr",
     "output_type": "stream",
     "text": [
      "Epoch:  33%|███▎      | 1/3 [01:49<03:39, 109.83s/it]"
     ]
    },
    {
     "name": "stdout",
     "output_type": "stream",
     "text": [
      "\n",
      "Average train loss: 0.021747177565480013\n",
      "Validation loss: 0.011668945245960011\n",
      "Validation Accuracy: 0.9922299210500016\n",
      "Validation F1-Score: 0.9256750310084917\n",
      "\n"
     ]
    },
    {
     "name": "stderr",
     "output_type": "stream",
     "text": [
      "Epoch:  67%|██████▋   | 2/3 [03:37<01:48, 108.81s/it]"
     ]
    },
    {
     "name": "stdout",
     "output_type": "stream",
     "text": [
      "\n",
      "Average train loss: 0.011563969261205233\n",
      "Validation loss: 0.0064611335621372334\n",
      "Validation Accuracy: 0.9960691562010726\n",
      "Validation F1-Score: 0.959732824427481\n",
      "\n"
     ]
    },
    {
     "name": "stderr",
     "output_type": "stream",
     "text": [
      "Epoch: 100%|██████████| 3/3 [05:27<00:00, 109.04s/it]\n"
     ]
    }
   ]
  },
  {
   "cell_type": "code",
   "metadata": {
    "id": "xbd3Og2JEXrO",
    "colab_type": "code",
    "colab": {
     "base_uri": "https://localhost:8080/",
     "height": 482
    },
    "outputId": "f87d0f9f-ebb4-48dc-a652-589ff81ecaa2"
   },
   "source": [
    "import matplotlib.pyplot as plt\n",
    "%matplotlib inline\n",
    "\n",
    "import seaborn as sns\n",
    "\n",
    "# Use plot styling from seaborn.\n",
    "sns.set(style='darkgrid')\n",
    "\n",
    "# Increase the plot size and font size.\n",
    "sns.set(font_scale=1.5)\n",
    "plt.rcParams[\"figure.figsize\"] = (12,6)\n",
    "\n",
    "# Plot the learning curve.\n",
    "plt.plot(loss_values, 'b-o', label=\"training loss\")\n",
    "plt.plot(validation_loss_values, 'r-o', label=\"validation loss\")\n",
    "\n",
    "# Label the plot.\n",
    "plt.title(\"Learning curve\")\n",
    "plt.xlabel(\"Epoch\")\n",
    "plt.ylabel(\"Loss\")\n",
    "plt.legend()\n",
    "\n",
    "plt.show()\n"
   ],
   "execution_count": 111,
   "outputs": [
    {
     "data": {
      "text/plain": "<Figure size 1200x600 with 1 Axes>",
      "image/png": "[encoded data removed]"
     },
     "metadata": {},
     "output_type": "display_data"
    }
   ]
  },
  {
   "cell_type": "code",
   "metadata": {
    "id": "nN1RZIJkPlGB",
    "colab_type": "code",
    "colab": {
     "base_uri": "https://localhost:8080/",
     "height": 427
    },
    "outputId": "61dd09d4-a7cd-470a-abe2-5d481b8ef7ba"
   },
   "source": [
    "# Use plot styling from seaborn.\n",
    "sns.set(style='darkgrid')\n",
    "\n",
    "# Increase the plot size and font size.\n",
    "sns.set(font_scale=1.5)\n",
    "plt.rcParams[\"figure.figsize\"] = (12,6)\n",
    "\n",
    "# Plot the learning curve.\n",
    "plt.plot(validation_accuracy, 'b-o', label=\"Validation accuracy\")\n",
    "plt.plot(validation_f1, 'r-o', label=\"Validation f1\")\n",
    "# Label the plot.\n",
    "plt.title(\"Score curve\")\n",
    "plt.xlabel(\"Epoch\")\n",
    "plt.ylabel(\"Percent\")\n",
    "plt.legend()\n",
    "\n",
    "plt.show()\n"
   ],
   "execution_count": 112,
   "outputs": [
    {
     "data": {
      "text/plain": "<Figure size 1200x600 with 1 Axes>",
      "image/png": "[encoded data removed]"
     },
     "metadata": {},
     "output_type": "display_data"
    }
   ]
  },
  {
   "cell_type": "code",
   "metadata": {
    "id": "DfLf44maNREm",
    "colab_type": "code",
    "colab": {
     "base_uri": "https://localhost:8080/",
     "height": 86
    },
    "outputId": "3a38402c-1646-42b1-8a82-87db905d397c"
   },
   "source": [
    "model.eval()\n",
    "# Reset the validation loss for this epoch.\n",
    "devel_loss, devel_accuracy = 0, 0\n",
    "nb_devel_steps, nb_devel_examples = 0, 0\n",
    "predictions , true_labels = [], []\n",
    "for batch in devel_dataloader:\n",
    "    batch = tuple(t.to(device) for t in batch)\n",
    "    b_input_ids, b_input_mask, b_labels = batch\n",
    "\n",
    "    # Telling the model not to compute or store gradients,\n",
    "    # saving memory and speeding up validation\n",
    "    with torch.no_grad():\n",
    "        # Forward pass, calculate logit predictions.\n",
    "        # This will return the logits rather than the loss because we have not provided labels.\n",
    "        outputs = model(b_input_ids, token_type_ids=None,\n",
    "                        attention_mask=b_input_mask, labels=b_labels)\n",
    "    # Move logits and labels to CPU\n",
    "    logits = outputs[1].detach().cpu().numpy()\n",
    "    label_ids = b_labels.to('cpu').numpy()\n",
    "\n",
    "    # Calculate the accuracy for this batch of test sentences.\n",
    "    devel_loss += outputs[0].mean().item()\n",
    "    predictions.extend([list(p) for p in np.argmax(logits, axis=2)])\n",
    "    true_labels.extend(label_ids)\n",
    "\n",
    "devel_loss = devel_loss / len(devel_dataloader)\n",
    "print(\"Devel loss: {}\".format(devel_loss))\n",
    "pred_tags = [tag_values[p_i] for p, l in zip(predictions, true_labels)\n",
    "                              for p_i, l_i in zip(p, l) if tag_values[l_i] != \"PAD\"]\n",
    "valid_tags = [tag_values[l_i] for l in true_labels\n",
    "                              for l_i in l if tag_values[l_i] != \"PAD\"]\n",
    "print(\"Devel Accuracy: {}\".format(accuracy_score(pred_tags, valid_tags)))\n",
    "print(\"Devel F1-Score: {}\".format(f1_score(pred_tags, valid_tags)))\n",
    "print(pred_tags)\n"
   ],
   "execution_count": 148,
   "outputs": [
    {
     "name": "stdout",
     "output_type": "stream",
     "text": [
      "Devel loss: 0.03609730118899656\n",
      "Devel Accuracy: 0.9812326359358168\n",
      "Devel F1-Score: 0.87042777433354\n",
      "['O', 'O', 'O', 'O', 'O', 'O', 'O', 'O', 'O', 'O', 'O', 'O', 'O', 'O', 'O', 'O', 'O', 'O', 'O', 'O', 'O', 'O', 'O', 'O', 'O', 'O', 'O', 'O', 'O', 'O', 'O', 'O', 'O', 'O', 'O', 'O', 'O', 'O', 'O', 'O', 'O', 'O', 'O', 'O', 'O', 'O', 'O', 'O', 'O', 'O', 'O', 'O', 'O', 'O', 'O', 'O', 'O', 'O', 'O', 'O', 'O', 'O', 'O', 'O', 'O', 'O', 'O', 'O', 'O', 'O', 'O', 'O', 'O', 'O', 'O', 'O', 'O', 'O', 'O', 'O', 'O', 'O', 'O', 'O', 'O', 'O', 'O', 'O', 'O', 'O', 'O', 'O', 'O', 'O', 'O', 'O', 'O', 'O', 'O', 'O', 'O', 'O', 'O', 'O', 'O', 'O', 'O', 'O', 'O', 'O', 'O', 'O', 'O', 'O', 'O', 'O', 'O', 'O', 'O', 'O', 'O', 'O', 'O', 'O', 'O', 'O', 'O', 'B-FOLLICLE-NAME', 'I-FOLLICLE-NAME', 'I-FOLLICLE-NAME', 'I-FOLLICLE-NAME', 'I-FOLLICLE-NAME', 'I-FOLLICLE-NAME', 'I-FOLLICLE-NAME', 'I-FOLLICLE-NAME', 'I-FOLLICLE-NAME', 'I-FOLLICLE-NAME', 'O', 'O', 'O', 'O', 'O', 'O', 'O', 'O', 'O', 'O', 'O', 'O', 'O', 'O', 'O', 'O', 'O', 'O', 'O', 'O', 'O', 'O', 'O', 'O', 'O', 'O', 'O', 'O', 'O', 'O', 'O', 'O', 'O', 'O', 'O', 'O', 'O', 'O', 'O', 'O', 'O', 'O', 'O', 'O', 'O', 'O', 'O', 'O', 'O', 'O', 'O', 'O', 'O', 'O', 'O', 'O', 'O', 'O', 'O', 'O', 'O', 'O', 'O', 'O', 'O', 'O', 'O', 'O', 'O', 'O', 'O', 'O', 'O', 'O', 'O', 'O', 'O', 'O', 'O', 'O', 'O', 'O', 'O', 'O', 'O', 'O', 'O', 'O', 'O', 'O', 'O', 'B-FOLLICLE-NAME', 'I-FOLLICLE-NAME', 'I-FOLLICLE-NAME', 'I-FOLLICLE-NAME', 'O', 'O', 'O', 'B-FOLLICLE-NAME', 'I-FOLLICLE-NAME', 'O', 'O', 'O', 'O', 'O', 'O', 'O', 'O', 'O', 'O', 'O', 'O', 'O', 'O', 'O', 'O', 'O', 'O', 'O', 'O', 'O', 'O', 'O', 'O', 'O', 'O', 'O', 'O', 'O', 'O', 'O', 'O', 'O', 'O', 'O', 'O', 'O', 'O', 'O', 'O', 'B-FOLLICLE-NAME', 'I-FOLLICLE-NAME', 'I-FOLLICLE-NAME', 'I-FOLLICLE-NAME', 'I-FOLLICLE-NAME', 'I-FOLLICLE-NAME', 'O', 'O', 'O', 'O', 'O', 'O', 'O', 'O', 'O', 'O', 'O', 'O', 'O', 'O', 'O', 'O', 'O', 'O', 'O', 'O', 'O', 'O', 'O', 'O', 'O', 'O', 'O', 'O', 'O', 'O', 'O', 'O', 'O', 'O', 'O', 'O', 'O', 'O', 'O', 'O', 'O', 'O', 'O', 'O', 'O', 'O', 'O', 'O', 'O', 'O', 'O', 'O', 'O', 'O', 'O', 'O', 'O', 'O', 'O', 'O', 'O', 'O', 'O', 'O', 'O', 'O', 'O', 'O', 'O', 'O', 'O', 'O', 'O', 'O', 'O', 'O', 'O', 'O', 'O', 'O', 'O', 'O', 'O', 'O', 'O', 'O', 'O', 'B-FOLLICLE-NAME', 'B-FOLLICLE-NAME', 'B-FOLLICLE-NAME', 'O', 'O', 'O', 'O', 'O', 'O', 'O', 'O', 'O', 'O', 'O', 'O', 'O', 'O', 'O', 'O', 'O', 'O', 'O', 'O', 'O', 'O', 'O', 'O', 'O', 'O', 'O', 'O', 'O', 'O', 'O', 'O', 'O', 'O', 'O', 'O', 'O', 'O', 'O', 'O', 'O', 'O', 'O', 'O', 'O', 'O', 'O', 'O', 'O', 'O', 'O', 'O', 'O', 'O', 'O', 'O', 'O', 'O', 'O', 'O', 'O', 'O', 'O', 'B-FOLLICLE-NAME', 'I-FOLLICLE-NAME', 'I-FOLLICLE-NAME', 'I-FOLLICLE-NAME', 'O', 'O', 'O', 'O', 'O', 'O', 'O', 'O', 'O', 'O', 'O', 'O', 'O', 'O', 'O', 'O', 'O', 'O', 'O', 'O', 'B-FOLLICLE-NAME', 'I-FOLLICLE-NAME', 'I-FOLLICLE-NAME', 'I-FOLLICLE-NAME', 'O', 'O', 'O', 'O', 'O', 'O', 'O', 'O', 'O', 'O', 'O', 'O', 'O', 'O', 'O', 'O', 'O', 'O', 'O', 'O', 'O', 'O', 'O', 'O', 'O', 'O', 'O', 'O', 'O', 'O', 'O', 'O', 'O', 'O', 'O', 'O', 'O', 'O', 'O', 'O', 'O', 'O', 'O', 'B-FOLLICLE-NAME', 'I-FOLLICLE-NAME', 'I-FOLLICLE-NAME', 'I-FOLLICLE-NAME', 'O', 'O', 'O', 'O', 'O', 'O', 'O', 'O', 'O', 'O', 'O', 'O', 'O', 'O', 'O', 'O', 'O', 'O', 'O', 'O', 'O', 'O', 'O', 'O', 'O', 'O', 'O', 'O', 'O', 'O', 'O', 'O', 'O', 'O', 'O', 'O', 'O', 'O', 'O', 'O', 'O', 'O', 'O', 'O', 'O', 'O', 'O', 'O', 'O', 'O', 'O', 'O', 'O', 'O', 'O', 'O', 'O', 'O', 'O', 'O', 'O', 'O', 'O', 'O', 'O', 'O', 'O', 'O', 'O', 'O', 'O', 'O', 'O', 'O', 'O', 'O', 'O', 'O', 'O', 'O', 'O', 'O', 'O', 'O', 'O', 'B-FOLLICLE-NAME', 'B-FOLLICLE-NAME', 'B-FOLLICLE-NAME', 'O', 'O', 'O', 'O', 'O', 'O', 'O', 'O', 'O', 'O', 'O', 'O', 'O', 'O', 'O', 'B-FOLLICLE-NAME', 'B-FOLLICLE-NAME', 'B-FOLLICLE-NAME', 'O', 'O', 'O', 'O', 'O', 'O', 'O', 'O', 'O', 'O', 'O', 'O', 'O', 'O', 'O', 'O', 'O', 'O', 'B-FOLLICLE-NAME', 'B-FOLLICLE-NAME', 'I-FOLLICLE-NAME', 'I-FOLLICLE-NAME', 'O', 'O', 'O', 'O', 'O', 'O', 'O', 'O', 'O', 'O', 'O', 'O', 'O', 'O', 'O', 'O', 'O', 'O', 'O', 'O', 'O', 'O', 'O', 'O', 'O', 'O', 'O', 'O', 'O', 'O', 'O', 'O', 'B-FOLLICLE-NAME', 'B-FOLLICLE-NAME', 'B-FOLLICLE-NAME', 'O', 'O', 'O', 'O', 'O', 'B-FOLLICLE-NAME', 'I-FOLLICLE-NAME', 'O', 'O', 'O', 'O', 'O', 'O', 'O', 'O', 'O', 'O', 'O', 'O', 'O', 'O', 'O', 'O', 'O', 'O', 'O', 'O', 'O', 'O', 'O', 'O', 'O', 'O', 'O', 'O', 'O', 'O', 'O', 'O', 'O', 'O', 'O', 'O', 'O', 'O', 'O', 'O', 'O', 'O', 'O', 'O', 'O', 'O', 'O', 'O', 'O', 'O', 'O', 'O', 'O', 'O', 'O', 'O', 'O', 'B-FOLLICLE-NAME', 'I-FOLLICLE-NAME', 'O', 'B-FOLLICLE-NAME', 'B-FOLLICLE-NAME', 'B-FOLLICLE-NAME', 'I-FOLLICLE-NAME', 'I-FOLLICLE-NAME', 'O', 'O', 'O', 'O', 'O', 'O', 'O', 'O', 'O', 'O', 'O', 'O', 'O', 'O', 'O', 'O', 'O', 'O', 'O', 'O', 'O', 'O', 'O', 'O', 'O', 'O', 'B-FOLLICLE-NAME', 'I-FOLLICLE-NAME', 'I-FOLLICLE-NAME', 'I-FOLLICLE-NAME', 'O', 'O', 'O', 'O', 'O', 'O', 'O', 'O', 'O', 'B-FOLLICLE-NAME', 'I-FOLLICLE-NAME', 'I-FOLLICLE-NAME', 'I-FOLLICLE-NAME', 'I-FOLLICLE-NAME', 'I-FOLLICLE-NAME', 'I-FOLLICLE-NAME', 'O', 'O', 'O', 'O', 'O', 'O', 'O', 'O', 'O', 'O', 'O', 'O', 'O', 'O', 'O', 'O', 'O', 'O', 'O', 'O', 'O', 'O', 'O', 'O', 'O', 'O', 'O', 'O', 'O', 'O', 'O', 'O', 'O', 'O', 'O', 'O', 'O', 'O', 'O', 'O', 'O', 'O', 'O', 'O', 'O', 'O', 'O', 'O', 'O', 'O', 'O', 'O', 'O', 'O', 'B-FOLLICLE-NAME', 'I-FOLLICLE-NAME', 'I-FOLLICLE-NAME', 'I-FOLLICLE-NAME', 'O', 'O', 'O', 'O', 'O', 'O', 'O', 'O', 'O', 'O', 'O', 'O', 'O', 'O', 'O', 'O', 'O', 'O', 'O', 'O', 'O', 'O', 'O', 'O', 'O', 'O', 'O', 'O', 'O', 'O', 'O', 'O', 'O', 'O', 'O', 'O', 'O', 'O', 'O', 'O', 'O', 'O', 'O', 'O', 'O', 'O', 'O', 'O', 'O', 'O', 'O', 'O', 'O', 'O', 'O', 'O', 'O', 'O', 'O', 'O', 'O', 'O', 'O', 'O', 'O', 'O', 'O', 'B-FOLLICLE-NAME', 'I-FOLLICLE-NAME', 'I-FOLLICLE-NAME', 'I-FOLLICLE-NAME', 'I-FOLLICLE-NAME', 'I-FOLLICLE-NAME', 'I-FOLLICLE-NAME', 'O', 'O', 'B-FOLLICLE-NAME', 'I-FOLLICLE-NAME', 'I-FOLLICLE-NAME', 'I-FOLLICLE-NAME', 'O', 'O', 'O', 'O', 'O', 'O', 'O', 'O', 'O', 'O', 'O', 'O', 'O', 'O', 'O', 'O', 'O', 'O', 'O', 'O', 'O', 'B-FOLLICLE-NAME', 'I-FOLLICLE-NAME', 'I-FOLLICLE-NAME', 'I-FOLLICLE-NAME', 'I-FOLLICLE-NAME', 'O', 'O', 'O', 'O', 'O', 'O', 'O', 'O', 'O', 'O', 'O', 'O', 'O', 'O', 'O', 'O', 'O', 'O', 'O', 'O', 'O', 'B-FOLLICLE-NAME', 'I-FOLLICLE-NAME', 'I-FOLLICLE-NAME', 'I-FOLLICLE-NAME', 'O', 'O', 'O', 'O', 'O', 'O', 'O', 'O', 'O', 'O', 'O', 'O', 'O', 'O', 'O', 'O', 'O', 'O', 'O', 'O', 'O', 'O', 'O', 'O', 'O', 'O', 'O', 'O', 'O', 'O', 'O', 'O', 'O', 'O', 'O', 'O', 'O', 'O', 'O', 'O', 'O', 'O', 'O', 'B-FOLLICLE-NAME', 'I-FOLLICLE-NAME', 'O', 'O', 'O', 'B-FOLLICLE-NAME', 'I-FOLLICLE-NAME', 'I-FOLLICLE-NAME', 'I-FOLLICLE-NAME', 'I-FOLLICLE-NAME', 'I-FOLLICLE-NAME', 'B-FOLLICLE-NAME', 'B-FOLLICLE-NAME', 'B-FOLLICLE-NAME', 'B-FOLLICLE-NAME', 'B-FOLLICLE-NAME', 'O', 'O', 'O', 'O', 'O', 'O', 'O', 'O', 'O', 'O', 'O', 'O', 'O', 'O', 'O', 'O', 'O', 'O', 'O', 'O', 'O', 'O', 'O', 'O', 'O', 'O', 'O', 'O', 'O', 'O', 'O', 'O', 'O', 'O', 'O', 'O', 'O', 'O', 'O', 'O', 'O', 'O', 'O', 'O', 'O', 'O', 'O', 'O', 'O', 'O', 'O', 'O', 'O', 'O', 'O', 'O', 'B-FOLLICLE-NAME', 'I-FOLLICLE-NAME', 'O', 'O', 'O', 'O', 'O', 'O', 'O', 'O', 'O', 'O', 'O', 'O', 'O', 'O', 'O', 'O', 'O', 'O', 'O', 'O', 'O', 'O', 'O', 'O', 'O', 'O', 'O', 'O', 'O', 'O', 'O', 'O', 'O', 'O', 'O', 'O', 'O', 'O', 'O', 'O', 'O', 'O', 'O', 'O', 'O', 'O', 'O', 'O', 'O', 'O', 'O', 'O', 'O', 'O', 'O', 'O', 'O', 'O', 'O', 'O', 'O', 'O', 'O', 'O', 'O', 'O', 'O', 'O', 'O', 'O', 'O', 'O', 'O', 'O', 'O', 'O', 'O', 'O', 'O', 'O', 'O', 'O', 'O', 'O', 'O', 'O', 'O', 'O', 'O', 'O', 'O', 'O', 'O', 'O', 'O', 'O', 'B-FOLLICLE-NAME', 'B-FOLLICLE-NAME', 'B-FOLLICLE-NAME', 'O', 'O', 'O', 'O', 'O', 'O', 'O', 'O', 'O', 'O', 'O', 'O', 'O', 'O', 'O', 'B-FOLLICLE-NAME', 'B-FOLLICLE-NAME', 'B-FOLLICLE-NAME', 'O', 'O', 'O', 'O', 'O', 'O', 'O', 'O', 'O', 'O', 'O', 'O', 'O', 'O', 'O', 'O', 'O', 'O', 'O', 'O', 'O', 'O', 'O', 'O', 'O', 'O', 'O', 'O', 'O', 'O', 'O', 'O', 'O', 'O', 'O', 'O', 'O', 'O', 'O', 'O', 'O', 'O', 'O', 'O', 'O', 'O', 'O', 'O', 'O', 'O', 'O', 'O', 'O', 'O', 'O', 'O', 'O', 'O', 'O', 'O', 'O', 'O', 'O', 'O', 'O', 'O', 'O', 'O', 'O', 'O', 'O', 'O', 'O', 'O', 'O', 'O', 'O', 'B-FOLLICLE-NAME', 'I-FOLLICLE-NAME', 'I-FOLLICLE-NAME', 'I-FOLLICLE-NAME', 'I-FOLLICLE-NAME', 'I-FOLLICLE-NAME', 'O', 'O', 'O', 'O', 'O', 'O', 'O', 'O', 'O', 'O', 'O', 'O', 'O', 'O', 'O', 'O', 'O', 'O', 'O', 'O', 'O', 'O', 'O', 'O', 'O', 'O', 'O', 'O', 'O', 'O', 'O', 'O', 'O', 'O', 'O', 'O', 'O', 'O', 'O', 'O', 'O', 'O', 'O', 'O', 'O', 'O', 'O', 'O', 'O', 'O', 'O', 'O', 'O', 'B-FOLLICLE-NAME', 'B-FOLLICLE-NAME', 'B-FOLLICLE-NAME', 'O', 'O', 'O', 'O', 'O', 'O', 'O', 'O', 'O', 'O', 'O', 'O', 'O', 'O', 'O', 'O', 'O', 'O', 'B-FOLLICLE-NAME', 'B-FOLLICLE-NAME', 'B-FOLLICLE-NAME', 'O', 'O', 'O', 'O', 'O', 'O', 'O', 'O', 'O', 'O', 'O', 'O', 'O', 'O', 'O', 'O', 'O', 'O', 'O', 'O', 'O', 'O', 'O', 'O', 'O', 'O', 'O', 'O', 'O', 'O', 'O', 'O', 'O', 'O', 'O', 'O', 'O', 'O', 'O', 'O', 'O', 'O', 'O', 'O', 'O', 'O', 'O', 'O', 'O', 'O', 'O', 'O', 'O', 'O', 'O', 'O', 'O', 'O', 'O', 'O', 'O', 'O', 'O', 'O', 'O', 'O', 'O', 'O', 'O', 'O', 'O', 'O', 'O', 'O', 'O', 'O', 'O', 'B-FOLLICLE-NAME', 'B-FOLLICLE-NAME', 'I-FOLLICLE-NAME', 'O', 'O', 'O', 'O', 'O', 'O', 'O', 'O', 'O', 'O', 'O', 'O', 'O', 'O', 'O', 'O', 'O', 'O', 'B-FOLLICLE-NAME', 'I-FOLLICLE-NAME', 'I-FOLLICLE-NAME', 'I-FOLLICLE-NAME', 'O', 'O', 'O', 'O', 'O', 'O', 'O', 'O', 'O', 'O', 'O', 'O', 'O', 'O', 'O', 'O', 'O', 'B-FOLLICLE-NAME', 'I-FOLLICLE-NAME', 'I-FOLLICLE-NAME', 'I-FOLLICLE-NAME', 'I-FOLLICLE-NAME', 'O', 'O', 'O', 'O', 'O', 'O', 'O', 'O', 'O', 'O', 'O', 'O', 'O', 'O', 'O', 'O', 'O', 'O', 'O', 'O', 'O', 'O', 'O', 'O', 'O', 'O', 'O', 'O', 'O', 'B-FOLLICLE-NAME', 'I-FOLLICLE-NAME', 'I-FOLLICLE-NAME', 'B-FOLLICLE-NAME', 'I-FOLLICLE-NAME', 'I-FOLLICLE-NAME', 'I-FOLLICLE-NAME', 'I-FOLLICLE-NAME', 'I-FOLLICLE-NAME', 'O', 'O', 'O', 'O', 'O', 'O', 'B-FOLLICLE-NAME', 'B-FOLLICLE-NAME', 'O', 'O', 'O', 'O', 'O', 'O', 'O', 'O', 'O', 'O', 'O', 'O', 'O', 'O', 'O', 'O', 'O', 'O', 'O', 'O', 'O', 'O', 'O', 'O', 'O', 'O', 'O', 'O', 'O', 'O', 'O', 'O', 'O', 'O', 'O', 'O', 'O', 'O', 'O', 'O', 'O', 'O', 'O', 'O', 'O', 'O', 'O', 'O', 'O', 'O', 'O', 'O', 'O', 'O', 'O', 'O', 'O', 'O', 'O', 'O', 'O', 'O', 'O', 'O', 'O', 'O', 'O', 'O', 'O', 'O', 'O', 'B-FOLLICLE-NAME', 'B-FOLLICLE-NAME', 'B-FOLLICLE-NAME', 'O', 'O', 'O', 'O', 'O', 'O', 'O', 'O', 'O', 'O', 'O', 'O', 'O', 'O', 'O', 'O', 'O', 'O', 'O', 'O', 'O', 'O', 'O', 'O', 'O', 'O', 'O', 'O', 'O', 'O', 'O', 'O', 'O', 'O', 'O', 'O', 'O', 'O', 'O', 'O', 'O', 'O', 'O', 'O', 'O', 'O', 'O', 'O', 'O', 'O', 'O', 'O', 'O', 'O', 'O', 'O', 'O', 'O', 'O', 'O', 'O', 'O', 'O', 'O', 'O', 'O', 'O', 'O', 'O', 'O', 'O', 'O', 'O', 'O', 'O', 'O', 'O', 'O', 'O', 'O', 'O', 'O', 'O', 'O', 'O', 'O', 'O', 'O', 'O', 'O', 'O', 'O', 'O', 'O', 'O', 'O', 'O', 'O', 'O', 'O', 'O', 'O', 'O', 'B-FOLLICLE-NAME', 'I-FOLLICLE-NAME', 'I-FOLLICLE-NAME', 'I-FOLLICLE-NAME', 'I-FOLLICLE-NAME', 'O', 'O', 'O', 'O', 'O', 'O', 'O', 'O', 'O', 'O', 'O', 'O', 'O', 'O', 'O', 'O', 'O', 'O', 'O', 'O', 'O', 'O', 'O', 'O', 'O', 'O', 'O', 'O', 'O', 'O', 'O', 'O', 'O', 'O', 'O', 'O', 'O', 'O', 'O', 'O', 'O', 'O', 'O', 'O', 'O', 'O', 'O', 'O', 'O', 'O', 'O', 'O', 'O', 'O', 'O', 'O', 'O', 'O', 'O', 'O', 'O', 'O', 'O', 'O', 'O', 'O', 'O', 'O', 'O', 'O', 'O', 'O', 'O', 'O', 'B-FOLLICLE-NAME', 'I-FOLLICLE-NAME', 'I-FOLLICLE-NAME', 'I-FOLLICLE-NAME', 'O', 'O', 'O', 'O', 'O', 'O', 'O', 'O', 'O', 'O', 'O', 'O', 'O', 'O', 'O', 'O', 'O', 'O', 'O', 'O', 'O', 'O', 'O', 'O', 'O', 'O', 'O', 'O', 'O', 'O', 'O', 'O', 'O', 'O', 'O', 'O', 'O', 'O', 'O', 'O', 'O', 'O', 'O', 'O', 'O', 'O', 'O', 'O', 'O', 'O', 'O', 'O', 'O', 'O', 'O', 'O', 'O', 'O', 'O', 'O', 'O', 'O', 'O', 'O', 'O', 'O', 'O', 'O', 'O', 'O', 'O', 'O', 'O', 'O', 'O', 'O', 'O', 'O', 'O', 'O', 'O', 'O', 'O', 'O', 'O', 'O', 'O', 'O', 'O', 'O', 'O', 'O', 'O', 'O', 'O', 'O', 'O', 'O', 'O', 'O', 'O', 'O', 'O', 'O', 'O', 'O', 'O', 'O', 'O', 'O', 'O', 'O', 'O', 'O', 'O', 'O', 'O', 'O', 'O', 'O', 'O', 'O', 'O', 'O', 'O', 'O', 'O', 'O', 'O', 'O', 'O', 'O', 'O', 'O', 'O', 'O', 'O', 'O', 'O', 'O', 'O', 'O', 'O', 'O', 'O', 'O', 'O', 'O', 'O', 'O', 'O', 'O', 'O', 'O', 'O', 'O', 'O', 'O', 'O', 'O', 'O', 'O', 'O', 'O', 'O', 'O', 'O', 'O', 'O', 'O', 'O', 'O', 'O', 'O', 'O', 'O', 'O', 'O', 'O', 'O', 'O', 'O', 'O', 'O', 'O', 'O', 'O', 'O', 'O', 'O', 'O', 'O', 'O', 'O', 'O', 'O', 'O', 'O', 'O', 'O', 'O', 'O', 'O', 'O', 'O', 'O', 'O', 'O', 'O', 'O', 'O', 'O', 'O', 'O', 'O', 'O', 'O', 'O', 'O', 'O', 'O', 'O', 'O', 'O', 'O', 'O', 'O', 'O', 'O', 'O', 'O', 'O', 'B-FOLLICLE-NAME', 'I-FOLLICLE-NAME', 'I-FOLLICLE-NAME', 'I-FOLLICLE-NAME', 'I-FOLLICLE-NAME', 'I-FOLLICLE-NAME', 'I-FOLLICLE-NAME', 'I-FOLLICLE-NAME', 'I-FOLLICLE-NAME', 'O', 'O', 'B-FOLLICLE-NAME', 'I-FOLLICLE-NAME', 'I-FOLLICLE-NAME', 'I-FOLLICLE-NAME', 'I-FOLLICLE-NAME', 'O', 'O', 'O', 'O', 'O', 'O', 'O', 'O', 'O', 'O', 'O', 'O', 'O', 'O', 'O', 'O', 'O', 'O', 'O', 'O', 'O', 'O', 'O', 'O', 'O', 'O', 'O', 'O', 'O', 'O', 'O', 'O', 'B-FOLLICLE-NAME', 'I-FOLLICLE-NAME', 'O', 'O', 'O', 'O', 'O', 'O', 'O', 'O', 'O', 'I-FOLLICLE-NAME', 'O', 'O', 'O', 'O', 'O', 'O', 'O', 'O', 'O', 'O', 'O', 'O', 'O', 'O', 'O', 'O', 'O', 'O', 'O', 'O', 'O', 'O', 'O', 'O', 'O', 'O', 'O', 'O', 'O', 'O', 'B-FOLLICLE-NAME', 'I-FOLLICLE-NAME', 'I-FOLLICLE-NAME', 'I-FOLLICLE-NAME', 'O', 'O', 'O', 'O', 'O', 'O', 'O', 'O', 'O', 'O', 'O', 'O', 'O', 'O', 'O', 'O', 'B-FOLLICLE-NAME', 'I-FOLLICLE-NAME', 'I-FOLLICLE-NAME', 'I-FOLLICLE-NAME', 'O', 'O', 'O', 'O', 'O', 'O', 'O', 'O', 'O', 'O', 'O', 'O', 'O', 'O', 'O', 'O', 'O', 'O', 'O', 'O', 'O', 'O', 'O', 'O', 'O', 'O', 'O', 'O', 'O', 'O', 'O', 'O', 'O', 'O', 'O', 'O', 'O', 'O', 'O', 'O', 'O', 'O', 'O', 'O', 'O', 'O', 'O', 'O', 'B-FOLLICLE-NAME', 'B-FOLLICLE-NAME', 'B-FOLLICLE-NAME', 'O', 'O', 'O', 'O', 'B-FOLLICLE-NAME', 'B-FOLLICLE-NAME', 'B-FOLLICLE-NAME', 'O', 'O', 'O', 'O', 'O', 'O', 'O', 'O', 'O', 'O', 'O', 'O', 'O', 'O', 'B-FOLLICLE-NAME', 'I-FOLLICLE-NAME', 'I-FOLLICLE-NAME', 'I-FOLLICLE-NAME', 'O', 'O', 'O', 'O', 'O', 'O', 'O', 'O', 'O', 'O', 'O', 'O', 'O', 'O', 'O', 'O', 'O', 'O', 'O', 'O', 'O', 'O', 'O', 'O', 'O', 'O', 'O', 'O', 'O', 'O', 'O', 'O', 'O', 'O', 'O', 'B-FOLLICLE-NAME', 'I-FOLLICLE-NAME', 'O', 'O', 'O', 'O', 'O', 'O', 'O', 'O', 'O', 'O', 'O', 'O', 'O', 'O', 'O', 'O', 'O', 'O', 'O', 'O', 'O', 'O', 'O', 'O', 'O', 'O', 'O', 'O', 'O', 'O', 'O', 'O', 'O', 'O', 'O', 'O', 'O', 'O', 'O', 'O', 'O', 'O', 'O', 'O', 'O', 'O', 'O', 'O', 'O', 'O', 'O', 'O', 'O', 'O', 'O', 'O', 'O', 'O', 'O', 'O', 'O', 'O', 'O', 'O', 'O', 'O', 'O', 'O', 'O', 'O', 'O', 'O', 'O', 'O', 'O', 'O', 'O', 'O', 'O', 'O', 'O', 'O', 'O', 'O', 'O', 'O', 'O', 'O', 'O', 'O', 'O', 'O', 'O', 'O', 'O', 'O', 'O', 'O', 'O', 'O', 'O', 'O', 'O', 'O', 'O', 'O', 'O', 'O', 'O', 'O', 'O', 'O', 'O', 'O', 'O', 'O', 'O', 'O', 'O', 'O', 'O', 'O', 'O', 'O', 'O', 'O', 'O', 'B-FOLLICLE-NAME', 'I-FOLLICLE-NAME', 'I-FOLLICLE-NAME', 'I-FOLLICLE-NAME', 'I-FOLLICLE-NAME', 'I-FOLLICLE-NAME', 'I-FOLLICLE-NAME', 'I-FOLLICLE-NAME', 'O', 'O', 'O', 'O', 'O', 'O', 'O', 'O', 'O', 'O', 'O', 'O', 'O', 'O', 'O', 'O', 'O', 'O', 'O', 'O', 'O', 'O', 'O', 'O', 'O', 'O', 'O', 'O', 'O', 'O', 'O', 'O', 'O', 'O', 'O', 'O', 'O', 'O', 'O', 'O', 'O', 'O', 'O', 'O', 'O', 'O', 'O', 'O', 'O', 'O', 'O', 'O', 'O', 'O', 'O', 'O', 'O', 'O', 'O', 'O', 'O', 'O', 'B-FOLLICLE-NAME', 'B-FOLLICLE-NAME', 'I-FOLLICLE-NAME', 'O', 'O', 'O', 'O', 'O', 'O', 'O', 'O', 'O', 'O', 'O', 'O', 'O', 'O', 'O', 'O', 'O', 'O', 'O', 'O', 'O', 'O', 'O', 'O', 'O', 'O', 'O', 'O', 'O', 'O', 'O', 'O', 'O', 'O', 'O', 'O', 'O', 'O', 'O', 'O', 'O', 'O', 'O', 'O', 'O', 'O', 'O', 'O', 'O', 'O', 'O', 'O', 'O', 'O', 'B-FOLLICLE-NAME', 'B-FOLLICLE-NAME', 'O', 'O', 'O', 'O', 'O', 'O', 'O', 'O', 'O', 'O', 'O', 'O', 'O', 'O', 'O', 'O', 'O', 'O', 'O', 'O', 'O', 'O', 'O', 'O', 'O', 'O', 'O', 'O', 'O', 'O', 'O', 'O', 'O', 'O', 'O', 'O', 'O', 'O', 'O', 'O', 'O', 'B-FOLLICLE-NAME', 'I-FOLLICLE-NAME', 'I-FOLLICLE-NAME', 'I-FOLLICLE-NAME', 'O', 'O', 'O', 'O', 'O', 'O', 'O', 'O', 'O', 'O', 'O', 'O', 'O', 'O', 'O', 'O', 'O', 'O', 'O', 'O', 'O', 'O', 'O', 'B-FOLLICLE-NAME', 'B-FOLLICLE-NAME', 'I-FOLLICLE-NAME', 'O', 'O', 'O', 'O', 'O', 'O', 'O', 'O', 'O', 'O', 'O', 'O', 'O', 'O', 'O', 'O', 'O', 'O', 'O', 'B-FOLLICLE-NAME', 'B-FOLLICLE-NAME', 'B-FOLLICLE-NAME', 'B-FOLLICLE-NAME', 'O', 'O', 'O', 'O', 'O', 'O', 'O', 'O', 'O', 'O', 'O', 'O', 'O', 'O', 'O', 'O', 'O', 'O', 'O', 'O', 'O', 'O', 'O', 'O', 'O', 'O', 'B-FOLLICLE-NAME', 'B-FOLLICLE-NAME', 'B-FOLLICLE-NAME', 'O', 'O', 'O', 'O', 'O', 'O', 'O', 'O', 'O', 'O', 'O', 'O', 'O', 'O', 'O', 'O', 'O', 'O', 'O', 'O', 'O', 'O', 'O', 'O', 'O', 'O', 'O', 'O', 'O', 'O', 'O', 'O', 'O', 'O', 'O', 'O', 'O', 'O', 'O', 'O', 'B-FOLLICLE-NAME', 'I-FOLLICLE-NAME', 'I-FOLLICLE-NAME', 'I-FOLLICLE-NAME', 'I-FOLLICLE-NAME', 'O', 'O', 'O', 'O', 'O', 'O', 'O', 'O', 'O', 'O', 'O', 'O', 'O', 'O', 'O', 'O', 'O', 'O', 'B-FOLLICLE-NAME', 'O', 'O', 'O', 'O', 'O', 'O', 'O', 'O', 'O', 'O', 'O', 'O', 'O', 'O', 'O', 'O', 'O', 'O', 'O', 'O', 'O', 'O', 'O', 'O', 'O', 'O', 'O', 'O', 'O', 'O', 'O', 'O', 'O', 'O', 'O', 'O', 'B-FOLLICLE-NAME', 'I-FOLLICLE-NAME', 'I-FOLLICLE-NAME', 'I-FOLLICLE-NAME', 'I-FOLLICLE-NAME', 'I-FOLLICLE-NAME', 'B-FOLLICLE-NAME', 'B-FOLLICLE-NAME', 'B-FOLLICLE-NAME', 'B-FOLLICLE-NAME', 'B-FOLLICLE-NAME', 'O', 'O', 'O', 'O', 'O', 'O', 'O', 'O', 'O', 'O', 'O', 'O', 'O', 'O', 'O', 'O', 'O', 'O', 'O', 'O', 'O', 'O', 'O', 'O', 'O', 'O', 'O', 'O', 'O', 'O', 'O', 'O', 'B-FOLLICLE-NAME', 'I-FOLLICLE-NAME', 'I-FOLLICLE-NAME', 'I-FOLLICLE-NAME', 'I-FOLLICLE-NAME', 'I-FOLLICLE-NAME', 'B-FOLLICLE-NAME', 'B-FOLLICLE-NAME', 'B-FOLLICLE-NAME', 'B-FOLLICLE-NAME', 'B-FOLLICLE-NAME', 'O', 'O', 'O', 'O', 'O', 'O', 'O', 'O', 'O', 'O', 'O', 'O', 'O', 'O', 'O', 'O', 'O', 'O', 'O', 'O', 'B-FOLLICLE-NAME', 'I-FOLLICLE-NAME', 'I-FOLLICLE-NAME', 'I-FOLLICLE-NAME', 'O', 'O', 'O', 'O', 'O', 'O', 'O', 'O', 'O', 'O', 'O', 'O', 'O', 'O', 'O', 'O', 'O', 'O', 'O', 'O', 'O', 'O', 'O', 'O', 'O', 'O', 'O', 'O', 'O', 'O', 'O', 'O', 'O', 'O', 'O', 'O', 'O', 'O', 'O', 'O', 'O', 'O', 'O', 'O', 'O', 'O', 'O', 'O', 'O', 'O', 'O', 'O', 'O', 'O', 'O', 'O', 'O', 'O', 'O', 'O', 'O', 'O', 'O', 'O', 'O', 'O', 'O', 'O', 'O', 'O', 'O', 'B-FOLLICLE-NAME', 'O', 'O', 'O', 'O', 'O', 'O', 'O', 'O', 'O', 'O', 'O', 'O', 'O', 'O', 'O', 'O', 'O', 'O', 'O', 'O', 'O', 'O', 'O', 'O', 'O', 'O', 'O', 'O', 'O', 'O', 'O', 'O', 'O', 'O', 'O', 'O', 'O', 'O', 'O', 'O', 'O', 'O', 'O', 'O', 'O', 'O', 'O', 'O', 'O', 'O', 'O', 'O', 'O', 'O', 'O', 'O', 'O', 'O', 'O', 'O', 'O', 'O', 'O', 'O', 'O', 'O', 'O', 'O', 'O', 'O', 'O', 'O', 'O', 'O', 'O', 'O', 'O', 'O', 'O', 'O', 'O', 'O', 'O', 'O', 'O', 'O', 'O', 'O', 'O', 'O', 'O', 'O', 'O', 'B-FOLLICLE-NAME', 'I-FOLLICLE-NAME', 'I-FOLLICLE-NAME', 'I-FOLLICLE-NAME', 'I-FOLLICLE-NAME', 'I-FOLLICLE-NAME', 'I-FOLLICLE-NAME', 'O', 'O', 'O', 'O', 'O', 'O', 'O', 'B-FOLLICLE-NAME', 'I-FOLLICLE-NAME', 'I-FOLLICLE-NAME', 'I-FOLLICLE-NAME', 'I-FOLLICLE-NAME', 'O', 'O', 'O', 'O', 'O', 'O', 'O', 'O', 'O', 'O', 'O', 'O', 'O', 'O', 'O', 'O', 'O', 'O', 'O', 'O', 'O', 'O', 'O', 'O', 'O', 'O', 'O', 'O', 'O', 'O', 'O', 'O', 'O', 'O', 'O', 'O', 'O', 'O', 'O', 'O', 'O', 'O', 'O', 'O', 'O', 'O', 'O', 'O', 'O', 'O', 'O', 'B-FOLLICLE-NAME', 'I-FOLLICLE-NAME', 'I-FOLLICLE-NAME', 'I-FOLLICLE-NAME', 'I-FOLLICLE-NAME', 'I-FOLLICLE-NAME', 'B-FOLLICLE-NAME', 'B-FOLLICLE-NAME', 'B-FOLLICLE-NAME', 'B-FOLLICLE-NAME', 'B-FOLLICLE-NAME', 'O', 'O', 'O', 'O', 'O', 'O', 'O', 'O', 'O', 'O', 'O', 'O', 'O', 'B-FOLLICLE-NAME', 'I-FOLLICLE-NAME', 'O', 'O', 'O', 'O', 'O', 'O', 'O', 'O', 'O', 'O', 'O', 'O', 'O', 'O', 'O', 'O', 'O', 'O', 'O', 'O', 'O', 'O', 'O', 'O', 'O', 'O', 'O', 'O', 'O', 'O', 'O', 'O', 'O', 'O', 'O', 'O', 'O', 'O', 'O', 'O', 'O', 'O', 'O', 'O', 'O', 'O', 'O', 'O', 'O', 'O', 'O', 'O', 'O', 'O', 'O', 'O', 'O', 'O', 'O', 'O', 'O', 'O', 'O', 'O', 'O', 'O', 'O', 'B-FOLLICLE-NAME', 'B-FOLLICLE-NAME', 'B-FOLLICLE-NAME', 'O', 'O', 'O', 'O', 'O', 'O', 'O', 'O', 'O', 'O', 'O', 'O', 'O', 'O', 'O', 'O', 'O', 'O', 'O', 'O', 'O', 'O', 'O', 'O', 'O', 'O', 'O', 'O', 'O', 'O', 'O', 'O', 'O', 'O', 'O', 'O', 'O', 'O', 'O', 'O', 'O', 'O', 'O', 'O', 'O', 'O', 'O', 'O', 'O', 'O', 'O', 'O', 'O', 'O', 'O', 'O', 'O', 'O', 'O', 'O', 'O', 'O', 'O', 'O', 'O', 'O', 'O', 'O', 'O', 'O', 'O', 'O', 'O', 'O', 'O', 'O', 'O', 'O', 'O', 'O', 'O', 'O', 'O', 'O', 'O', 'O', 'O', 'O', 'O', 'O', 'O', 'O', 'O', 'B-FOLLICLE-NAME', 'B-FOLLICLE-NAME', 'B-FOLLICLE-NAME', 'O', 'O', 'O', 'O', 'O', 'O', 'B-FOLLICLE-NAME', 'I-FOLLICLE-NAME', 'I-FOLLICLE-NAME', 'I-FOLLICLE-NAME', 'I-FOLLICLE-NAME', 'O', 'O', 'O', 'O', 'O', 'O', 'O', 'O', 'O', 'O', 'O', 'O', 'O', 'O', 'O', 'O', 'O', 'O', 'O', 'O', 'O', 'O', 'O', 'O', 'O', 'O', 'O', 'O', 'O', 'O', 'O', 'B-FOLLICLE-NAME', 'I-FOLLICLE-NAME', 'I-FOLLICLE-NAME', 'I-FOLLICLE-NAME', 'O', 'O', 'O', 'O', 'O', 'O', 'O', 'O', 'O', 'O', 'O', 'O', 'O', 'O', 'O', 'O', 'O', 'O', 'O', 'O', 'O', 'O', 'O', 'O', 'O', 'O', 'O', 'O', 'O', 'O', 'O', 'O', 'O', 'O', 'B-FOLLICLE-NAME', 'I-FOLLICLE-NAME', 'I-FOLLICLE-NAME', 'I-FOLLICLE-NAME', 'O', 'O', 'O', 'O', 'O', 'O', 'O', 'O', 'O', 'O', 'O', 'O', 'O', 'O', 'O', 'O', 'O', 'O', 'O', 'O', 'B-FOLLICLE-NAME', 'I-FOLLICLE-NAME', 'I-FOLLICLE-NAME', 'I-FOLLICLE-NAME', 'O', 'O', 'O', 'O', 'O', 'O', 'O', 'O', 'O', 'O', 'O', 'O', 'O', 'O', 'O', 'O', 'O', 'O', 'O', 'O', 'O', 'B-FOLLICLE-NAME', 'I-FOLLICLE-NAME', 'I-FOLLICLE-NAME', 'I-FOLLICLE-NAME', 'I-FOLLICLE-NAME', 'I-FOLLICLE-NAME', 'B-FOLLICLE-NAME', 'B-FOLLICLE-NAME', 'B-FOLLICLE-NAME', 'B-FOLLICLE-NAME', 'B-FOLLICLE-NAME', 'O', 'O', 'B-FOLLICLE-NAME', 'I-FOLLICLE-NAME', 'I-FOLLICLE-NAME', 'I-FOLLICLE-NAME', 'I-FOLLICLE-NAME', 'I-FOLLICLE-NAME', 'I-FOLLICLE-NAME', 'B-FOLLICLE-NAME', 'B-FOLLICLE-NAME', 'B-FOLLICLE-NAME', 'B-FOLLICLE-NAME', 'B-FOLLICLE-NAME', 'O', 'O', 'O', 'O', 'O', 'O', 'B-FOLLICLE-NAME', 'I-FOLLICLE-NAME', 'O', 'O', 'O', 'O', 'O', 'O', 'O', 'O', 'O', 'O', 'O', 'O', 'O', 'O', 'O', 'O', 'O', 'O', 'O', 'O', 'O', 'O', 'O', 'O', 'O', 'O', 'O', 'O', 'O', 'O', 'O', 'O', 'O', 'O', 'O', 'O', 'O', 'O', 'O', 'O', 'O', 'O', 'O', 'O', 'O', 'O', 'O', 'O', 'O', 'O', 'O', 'O', 'O', 'O', 'O', 'O', 'O', 'O', 'O', 'O', 'O', 'O', 'O', 'O', 'O', 'O', 'O', 'O', 'O', 'O', 'O', 'O', 'O', 'O', 'B-FOLLICLE-NAME', 'B-FOLLICLE-NAME', 'B-FOLLICLE-NAME', 'O', 'O', 'O', 'O', 'O', 'O', 'O', 'O', 'O', 'O', 'O', 'O', 'O', 'O', 'O', 'O', 'O', 'O', 'O', 'O', 'O', 'B-FOLLICLE-NAME', 'I-FOLLICLE-NAME', 'I-FOLLICLE-NAME', 'I-FOLLICLE-NAME', 'I-FOLLICLE-NAME', 'I-FOLLICLE-NAME', 'O', 'O', 'O', 'O', 'O', 'O', 'O', 'O', 'O', 'B-FOLLICLE-NAME', 'B-FOLLICLE-NAME', 'O', 'O', 'O', 'O', 'O', 'O', 'O', 'O', 'O', 'O', 'O', 'O', 'O', 'O', 'O', 'O', 'O', 'O', 'O', 'O', 'B-FOLLICLE-NAME', 'I-FOLLICLE-NAME', 'O', 'O', 'O', 'O', 'B-FOLLICLE-NAME', 'I-FOLLICLE-NAME', 'O', 'O', 'O', 'O', 'O', 'O', 'O', 'O', 'O', 'O', 'O', 'O', 'O', 'O', 'O', 'O', 'O', 'O', 'O', 'O', 'O', 'O', 'O', 'O', 'O', 'O', 'O', 'O', 'O', 'O', 'O', 'O', 'O', 'B-FOLLICLE-NAME', 'I-FOLLICLE-NAME', 'I-FOLLICLE-NAME', 'I-FOLLICLE-NAME', 'O', 'O', 'O', 'O', 'O', 'O', 'O', 'O', 'O', 'O', 'O', 'O', 'O', 'O', 'O', 'O', 'O', 'O', 'O', 'O', 'O', 'O', 'O', 'O', 'O', 'O', 'O', 'O', 'O', 'O', 'O', 'O', 'O', 'O', 'O', 'O', 'O', 'O', 'O', 'O', 'O', 'O', 'O', 'O', 'O', 'O', 'O', 'O', 'O', 'O', 'O', 'O', 'O', 'O', 'O', 'O', 'O', 'O', 'O', 'O', 'O', 'O', 'O', 'O', 'O', 'B-FOLLICLE-NAME', 'B-FOLLICLE-NAME', 'I-FOLLICLE-NAME', 'I-FOLLICLE-NAME', 'I-FOLLICLE-NAME', 'O', 'O', 'O', 'O', 'O', 'O', 'O', 'O', 'O', 'O', 'O', 'O', 'O', 'O', 'O', 'O', 'O', 'B-FOLLICLE-NAME', 'I-FOLLICLE-NAME', 'O', 'O', 'O', 'O', 'O', 'O', 'O', 'O', 'O', 'O', 'O', 'O', 'O', 'O', 'O', 'O', 'O', 'O', 'O', 'O', 'O', 'O', 'O', 'O', 'O', 'B-FOLLICLE-NAME', 'B-FOLLICLE-NAME', 'B-FOLLICLE-NAME', 'B-FOLLICLE-NAME', 'B-FOLLICLE-NAME', 'B-FOLLICLE-NAME', 'B-FOLLICLE-NAME', 'B-FOLLICLE-NAME', 'B-FOLLICLE-NAME', 'I-FOLLICLE-NAME', 'I-FOLLICLE-NAME', 'I-FOLLICLE-NAME', 'I-FOLLICLE-NAME', 'O', 'O', 'O', 'O', 'O', 'O', 'O', 'O', 'O', 'O', 'O', 'O', 'O', 'O', 'O', 'O', 'O', 'O', 'B-FOLLICLE-NAME', 'I-FOLLICLE-NAME', 'I-FOLLICLE-NAME', 'I-FOLLICLE-NAME', 'I-FOLLICLE-NAME', 'I-FOLLICLE-NAME', 'B-FOLLICLE-NAME', 'B-FOLLICLE-NAME', 'B-FOLLICLE-NAME', 'B-FOLLICLE-NAME', 'B-FOLLICLE-NAME', 'O', 'O', 'O', 'O', 'O', 'O', 'O', 'O', 'O', 'O', 'O', 'O', 'O', 'O', 'O', 'O', 'O', 'O', 'O', 'O', 'O', 'O', 'O', 'O', 'O', 'O', 'O', 'O', 'O', 'O', 'O', 'O', 'O', 'O', 'O', 'O', 'O', 'O', 'O', 'O', 'O', 'O', 'O', 'O', 'O', 'O', 'O', 'O', 'O', 'O', 'O', 'O', 'O', 'O', 'O', 'O', 'O', 'O', 'O', 'O', 'O', 'O', 'O', 'O', 'O', 'O', 'O', 'O', 'O', 'O', 'O', 'O', 'O', 'O', 'O', 'O', 'O', 'O', 'O', 'O', 'O', 'O', 'O', 'O', 'O', 'B-FOLLICLE-NAME', 'B-FOLLICLE-NAME', 'I-FOLLICLE-NAME', 'I-FOLLICLE-NAME', 'O', 'O', 'O', 'O', 'O', 'O', 'O', 'O', 'O', 'B-FOLLICLE-NAME', 'I-FOLLICLE-NAME', 'I-FOLLICLE-NAME', 'I-FOLLICLE-NAME', 'O', 'O', 'O', 'O', 'O', 'O', 'O', 'O', 'O', 'O', 'O', 'O', 'O', 'O', 'O', 'O', 'O', 'O', 'O', 'O', 'O', 'O', 'O', 'O', 'O', 'O', 'O', 'O', 'O', 'O', 'O', 'O', 'O', 'O', 'O', 'O', 'B-FOLLICLE-NAME', 'I-FOLLICLE-NAME', 'I-FOLLICLE-NAME', 'I-FOLLICLE-NAME', 'O', 'O', 'O', 'O', 'O', 'O', 'O', 'O', 'O', 'O', 'O', 'O', 'O', 'O', 'O', 'O', 'O', 'O', 'O', 'O', 'O', 'O', 'O', 'O', 'O', 'O', 'O', 'O', 'O', 'O', 'O', 'O', 'O', 'O', 'O', 'O', 'O', 'O', 'O', 'O', 'O', 'O', 'O', 'O', 'O', 'O', 'O', 'O', 'O', 'O', 'O', 'O', 'O', 'O', 'O', 'O', 'O', 'O', 'O', 'O', 'O', 'O', 'O', 'O', 'O', 'O', 'O', 'O', 'O', 'O', 'O', 'O', 'O', 'O', 'O', 'O', 'O', 'O', 'O', 'O', 'O', 'O', 'O', 'O', 'O', 'O', 'O', 'O', 'O', 'O', 'O', 'O', 'O', 'O', 'O', 'O', 'O', 'O', 'O', 'O', 'O', 'O', 'O', 'O', 'O', 'O', 'O', 'O', 'O', 'O', 'O', 'O', 'O', 'O', 'O', 'O', 'O', 'O', 'O', 'O', 'O', 'O', 'O', 'O', 'O', 'O', 'O', 'O', 'O', 'O', 'O', 'O', 'O', 'O', 'O', 'O', 'O', 'O', 'O', 'O', 'O', 'O', 'O', 'O', 'O', 'O', 'O', 'O', 'O', 'O', 'O', 'O', 'O', 'O', 'O', 'O', 'O', 'O', 'O', 'O', 'O', 'O', 'O', 'O', 'O', 'O', 'O', 'O', 'O', 'O', 'O', 'O', 'O', 'O', 'O', 'O', 'O', 'B-FOLLICLE-NAME', 'I-FOLLICLE-NAME', 'I-FOLLICLE-NAME', 'I-FOLLICLE-NAME', 'O', 'O', 'O', 'O', 'O', 'O', 'O', 'O', 'O', 'O', 'O', 'O', 'B-FOLLICLE-NAME', 'I-FOLLICLE-NAME', 'O', 'O', 'O', 'O', 'O', 'O', 'O', 'O', 'O', 'O', 'O', 'O', 'B-FOLLICLE-NAME', 'I-FOLLICLE-NAME', 'I-FOLLICLE-NAME', 'I-FOLLICLE-NAME', 'O', 'O', 'O', 'O', 'O', 'O', 'O', 'O', 'O', 'O', 'O', 'O', 'O', 'O', 'O', 'O', 'O', 'O', 'O', 'O', 'O', 'O', 'O', 'O', 'O', 'O', 'O', 'O', 'O', 'O', 'O', 'O', 'B-FOLLICLE-NAME', 'B-FOLLICLE-NAME', 'I-FOLLICLE-NAME', 'I-FOLLICLE-NAME', 'O', 'O', 'O', 'O', 'O', 'O', 'O', 'O', 'O', 'O', 'O', 'O', 'O', 'O', 'O', 'O', 'O', 'O', 'O', 'O', 'O', 'O', 'O', 'O', 'O', 'O', 'O', 'O', 'O', 'O', 'O', 'O', 'O', 'O', 'O', 'O', 'O', 'O', 'O', 'O', 'O', 'O', 'O', 'O', 'O', 'O', 'O', 'B-FOLLICLE-NAME', 'I-FOLLICLE-NAME', 'I-FOLLICLE-NAME', 'I-FOLLICLE-NAME', 'I-FOLLICLE-NAME', 'I-FOLLICLE-NAME', 'B-FOLLICLE-NAME', 'B-FOLLICLE-NAME', 'B-FOLLICLE-NAME', 'B-FOLLICLE-NAME', 'B-FOLLICLE-NAME', 'O', 'O', 'B-FOLLICLE-NAME', 'I-FOLLICLE-NAME', 'O', 'O', 'O', 'O', 'O', 'O', 'O', 'O', 'O', 'O', 'O', 'O', 'O', 'O', 'O', 'O', 'O', 'O', 'O', 'O', 'O', 'O', 'O', 'O', 'O', 'O', 'O', 'O', 'O', 'O', 'O', 'O', 'O', 'O', 'O', 'O', 'O', 'O', 'O', 'O', 'O', 'O', 'O', 'O', 'O', 'B-FOLLICLE-NAME', 'B-FOLLICLE-NAME', 'I-FOLLICLE-NAME', 'I-FOLLICLE-NAME', 'I-FOLLICLE-NAME', 'O', 'O', 'O', 'O', 'B-FOLLICLE-NAME', 'I-FOLLICLE-NAME', 'O', 'O', 'O', 'O', 'O', 'O', 'O', 'O', 'O', 'O', 'O', 'O', 'O', 'O', 'O', 'O', 'O', 'O', 'O', 'O', 'O', 'O', 'O', 'O', 'O', 'O', 'O', 'O', 'O', 'O', 'O', 'O', 'O', 'O', 'O', 'O', 'O', 'O', 'O', 'O', 'O', 'O', 'B-FOLLICLE-NAME', 'B-FOLLICLE-NAME', 'B-FOLLICLE-NAME', 'O', 'O', 'O', 'O', 'B-FOLLICLE-NAME', 'I-FOLLICLE-NAME', 'I-FOLLICLE-NAME', 'I-FOLLICLE-NAME', 'I-FOLLICLE-NAME', 'O', 'O', 'O', 'O', 'O', 'O', 'O', 'O', 'B-FOLLICLE-NAME', 'B-FOLLICLE-NAME', 'B-FOLLICLE-NAME', 'O', 'O', 'O', 'O', 'O', 'O', 'O', 'O', 'O', 'O', 'O', 'O', 'O', 'O', 'O', 'O', 'O', 'O', 'O', 'O', 'O', 'O', 'O', 'O', 'O', 'O', 'O', 'O', 'O', 'O', 'O', 'O', 'O', 'O', 'O', 'O', 'O', 'O', 'O', 'O', 'O', 'O', 'O', 'O', 'O', 'O', 'O', 'O', 'O', 'O', 'O', 'O', 'O', 'O', 'O', 'O', 'O', 'O', 'B-FOLLICLE-NAME', 'B-FOLLICLE-NAME', 'B-FOLLICLE-NAME', 'O', 'O', 'O', 'O', 'O', 'O', 'O', 'O', 'O', 'O', 'O', 'O', 'O', 'O', 'O', 'O', 'O', 'O', 'O', 'O', 'B-FOLLICLE-NAME', 'I-FOLLICLE-NAME', 'I-FOLLICLE-NAME', 'I-FOLLICLE-NAME', 'O', 'O', 'O', 'O', 'O', 'O', 'O', 'O', 'O', 'O', 'O', 'O', 'O', 'O', 'O', 'O', 'O', 'O', 'O', 'O', 'O', 'O', 'O', 'O', 'O', 'O', 'O', 'O', 'O', 'O', 'B-FOLLICLE-NAME', 'I-FOLLICLE-NAME', 'I-FOLLICLE-NAME', 'I-FOLLICLE-NAME', 'O', 'O', 'O', 'O', 'O', 'O', 'O', 'O', 'O', 'O', 'O', 'O', 'O', 'O', 'O', 'O', 'O', 'O', 'O', 'O', 'O', 'O', 'O', 'O', 'O', 'B-FOLLICLE-NAME', 'B-FOLLICLE-NAME', 'I-FOLLICLE-NAME', 'I-FOLLICLE-NAME', 'I-FOLLICLE-NAME', 'O', 'O', 'O', 'O', 'O', 'O', 'O', 'O', 'O', 'O', 'O', 'O', 'O', 'O', 'O', 'O', 'O', 'O', 'O', 'O', 'O', 'O', 'O', 'O', 'O', 'O', 'O', 'O', 'O', 'O', 'O', 'O', 'O', 'O', 'O', 'O', 'O', 'O', 'O', 'O', 'O', 'O', 'O', 'O', 'O', 'O', 'O', 'O', 'O', 'O', 'O', 'B-FOLLICLE-NAME', 'I-FOLLICLE-NAME', 'I-FOLLICLE-NAME', 'I-FOLLICLE-NAME', 'O', 'O', 'O', 'O', 'O', 'O', 'O', 'O', 'O', 'O', 'O', 'O', 'O', 'O', 'O', 'O', 'O', 'O', 'O', 'O', 'O', 'O', 'O', 'O', 'O', 'O', 'O', 'O', 'O', 'O', 'O', 'O', 'O', 'O', 'O', 'O', 'O', 'O', 'O', 'O', 'O', 'O', 'O', 'O', 'O', 'O', 'O', 'O', 'O', 'B-FOLLICLE-NAME', 'I-FOLLICLE-NAME', 'I-FOLLICLE-NAME', 'I-FOLLICLE-NAME', 'I-FOLLICLE-NAME', 'O', 'O', 'B-FOLLICLE-NAME', 'B-FOLLICLE-NAME', 'I-FOLLICLE-NAME', 'I-FOLLICLE-NAME', 'I-FOLLICLE-NAME', 'I-FOLLICLE-NAME', 'B-FOLLICLE-NAME', 'B-FOLLICLE-NAME', 'B-FOLLICLE-NAME', 'B-FOLLICLE-NAME', 'B-FOLLICLE-NAME', 'O', 'O', 'O', 'O', 'I-FOLLICLE-NAME', 'B-FOLLICLE-NAME', 'O', 'O', 'O', 'O', 'B-FOLLICLE-NAME', 'O', 'O', 'O', 'O', 'O', 'O', 'O', 'O', 'O', 'O', 'O', 'O', 'O', 'O', 'O', 'O', 'O', 'O', 'O', 'O', 'O', 'O', 'O', 'O', 'O', 'O', 'O', 'O', 'O', 'O', 'O', 'O', 'O', 'O', 'O', 'O', 'O', 'O', 'O', 'O', 'O', 'O', 'O', 'O', 'O', 'O', 'O', 'O', 'O', 'O', 'O', 'O', 'O', 'O', 'O', 'O', 'O', 'O', 'O', 'O', 'O', 'O', 'O', 'O', 'O', 'O', 'O', 'O', 'O', 'O', 'O', 'O', 'O', 'B-FOLLICLE-NAME', 'B-FOLLICLE-NAME', 'O', 'O', 'O', 'O', 'O', 'O', 'O', 'O', 'O', 'O', 'O', 'O', 'O', 'O', 'O', 'O', 'O', 'O', 'O', 'O', 'O', 'O', 'O', 'O', 'O', 'O', 'O', 'O', 'O', 'O', 'O', 'O', 'B-FOLLICLE-NAME', 'I-FOLLICLE-NAME', 'O', 'O', 'O', 'O', 'O', 'O', 'O', 'O', 'O', 'O', 'O', 'O', 'O', 'O', 'O', 'O', 'O', 'O', 'O', 'O', 'O', 'O', 'O', 'O', 'O', 'O', 'O', 'O', 'O', 'O', 'O', 'O', 'O', 'O', 'O', 'O', 'O', 'O', 'O', 'O', 'O', 'O', 'O', 'O', 'O', 'O', 'O', 'O', 'B-FOLLICLE-NAME', 'B-FOLLICLE-NAME', 'O', 'O', 'O', 'O', 'O', 'O', 'O', 'O', 'O', 'O', 'O', 'O', 'O', 'O', 'O', 'O', 'O', 'O', 'O', 'O', 'O', 'O', 'O', 'O', 'O', 'O', 'O', 'O', 'O', 'O', 'O', 'O', 'O', 'O', 'O', 'O', 'O', 'O', 'O', 'O', 'O', 'O', 'O', 'O', 'O', 'O', 'O', 'O', 'O', 'O', 'O', 'O', 'O', 'O', 'O', 'O', 'O', 'B-FOLLICLE-NAME', 'I-FOLLICLE-NAME', 'I-FOLLICLE-NAME', 'I-FOLLICLE-NAME', 'O', 'O', 'O', 'O', 'O', 'O', 'O', 'O', 'O', 'O', 'O', 'O', 'O', 'O', 'O', 'O', 'O', 'O', 'O', 'O', 'O', 'O', 'O', 'O', 'O', 'O', 'O', 'O', 'O', 'O', 'O', 'O', 'O', 'O', 'O', 'O', 'O', 'O', 'O', 'O', 'O', 'O', 'O', 'O', 'O', 'O', 'O', 'O', 'O', 'O', 'O', 'O', 'O', 'O', 'O', 'O', 'O', 'O', 'O', 'O', 'O', 'O', 'O', 'O', 'O', 'O', 'O', 'O', 'O', 'O', 'O', 'O', 'O', 'O', 'O', 'O', 'O', 'O', 'O', 'O', 'O', 'O', 'O', 'O', 'O', 'O', 'O', 'O', 'O', 'O', 'O', 'O', 'O', 'O', 'O', 'O', 'O', 'O', 'B-FOLLICLE-NAME', 'B-FOLLICLE-NAME', 'O', 'O', 'O', 'O', 'O', 'O', 'O', 'O', 'O', 'O', 'O', 'O', 'O', 'O', 'O', 'O', 'O', 'O', 'O', 'O', 'O', 'O', 'O', 'O', 'O', 'O', 'O', 'O', 'O', 'O', 'O', 'O', 'O', 'O', 'O', 'O', 'O', 'O', 'O', 'O', 'O', 'O', 'O', 'O', 'O', 'O', 'O', 'O', 'O', 'O', 'O', 'O', 'O', 'O', 'O', 'O', 'O', 'O', 'O', 'O', 'O', 'O', 'O', 'O', 'O', 'O', 'O', 'O', 'O', 'O', 'O', 'O', 'O', 'O', 'O', 'O', 'O', 'O', 'O', 'O', 'O', 'O', 'O', 'O', 'O', 'O', 'O', 'O', 'O', 'O', 'O', 'O', 'O', 'O', 'O', 'O', 'O', 'O', 'O', 'O', 'O', 'O', 'O', 'O', 'O', 'O', 'O', 'O', 'O', 'O', 'O', 'O', 'B-FOLLICLE-NAME', 'B-FOLLICLE-NAME', 'B-FOLLICLE-NAME', 'B-FOLLICLE-NAME', 'I-FOLLICLE-NAME', 'O', 'O', 'O', 'O', 'O', 'O', 'O', 'O', 'O', 'O', 'O', 'O', 'O', 'O', 'O', 'O', 'O', 'O', 'O', 'O', 'O', 'O', 'O', 'O', 'O', 'O', 'O', 'O', 'O', 'B-FOLLICLE-NAME', 'I-FOLLICLE-NAME', 'I-FOLLICLE-NAME', 'I-FOLLICLE-NAME', 'O', 'O', 'O', 'O', 'O', 'O', 'O', 'O', 'O', 'O', 'O', 'O', 'O', 'O', 'O', 'O', 'O', 'O', 'O', 'O', 'O', 'O', 'O', 'O', 'O', 'O', 'O', 'O', 'O', 'O', 'O', 'O', 'O', 'O', 'O', 'O', 'O', 'O', 'O', 'O', 'O', 'O', 'O', 'O', 'O', 'O', 'O', 'O', 'O', 'O', 'O', 'O', 'O', 'O', 'O', 'O', 'O', 'O', 'O', 'O', 'O', 'O', 'O', 'O', 'O', 'O', 'O', 'O', 'O', 'O', 'O', 'O', 'O', 'O', 'O', 'O', 'O', 'O', 'O', 'O', 'O', 'O', 'O', 'O', 'O', 'O', 'O', 'O', 'O', 'O', 'O', 'O', 'O', 'O', 'O', 'O', 'O', 'O', 'O', 'O', 'O', 'O', 'O', 'O', 'O', 'O', 'O', 'O', 'B-FOLLICLE-NAME', 'I-FOLLICLE-NAME', 'I-FOLLICLE-NAME', 'I-FOLLICLE-NAME', 'O', 'O', 'O', 'O', 'O', 'O', 'O', 'O', 'O', 'O', 'O', 'O', 'O', 'O', 'O', 'B-FOLLICLE-NAME', 'B-FOLLICLE-NAME', 'O', 'O', 'O', 'O', 'O', 'O', 'O', 'O', 'O', 'O', 'O', 'O', 'O', 'O', 'O', 'O', 'O', 'O', 'O', 'O', 'O', 'O', 'O', 'O', 'O', 'O', 'O', 'O', 'O', 'O', 'B-FOLLICLE-NAME', 'B-FOLLICLE-NAME', 'O', 'O', 'O', 'O', 'O', 'O', 'O', 'O', 'O', 'O', 'O', 'O', 'O', 'O', 'O', 'O', 'O', 'O', 'O', 'O', 'O', 'O', 'O', 'O', 'O', 'O', 'O', 'O', 'O', 'O', 'O', 'O', 'O', 'O', 'O', 'O', 'O', 'O', 'O', 'O', 'O', 'O', 'O', 'O', 'O', 'O', 'O', 'O', 'O', 'O', 'O', 'O', 'O', 'O', 'O', 'O', 'O', 'O', 'O', 'O', 'O', 'O', 'O', 'O', 'O', 'O', 'O', 'O', 'O', 'O', 'O', 'O', 'O', 'O', 'O', 'O', 'O', 'O', 'O', 'O', 'O', 'O', 'B-FOLLICLE-NAME', 'B-FOLLICLE-NAME', 'B-FOLLICLE-NAME', 'O', 'O', 'O', 'O', 'O', 'B-FOLLICLE-NAME', 'I-FOLLICLE-NAME', 'I-FOLLICLE-NAME', 'I-FOLLICLE-NAME', 'O', 'O', 'O', 'O', 'O', 'O', 'O', 'O', 'O', 'O', 'O', 'O', 'O', 'O', 'O', 'O', 'O', 'O', 'O', 'O', 'O', 'O', 'O', 'O', 'O', 'O', 'O', 'O', 'O', 'O', 'O', 'O', 'O', 'O', 'O', 'O', 'O', 'O', 'O', 'O', 'O', 'O', 'O', 'O', 'O', 'O', 'O', 'O', 'O', 'O', 'O', 'O', 'O', 'O', 'O', 'O', 'O', 'O', 'O', 'O', 'O', 'B-FOLLICLE-NAME', 'I-FOLLICLE-NAME', 'I-FOLLICLE-NAME', 'I-FOLLICLE-NAME', 'O', 'O', 'O', 'O', 'O', 'O', 'O', 'O', 'O', 'O', 'O', 'O', 'O', 'O', 'O', 'O', 'O', 'O', 'B-FOLLICLE-NAME', 'I-FOLLICLE-NAME', 'I-FOLLICLE-NAME', 'I-FOLLICLE-NAME', 'I-FOLLICLE-NAME', 'I-FOLLICLE-NAME', 'I-FOLLICLE-NAME', 'B-FOLLICLE-NAME', 'B-FOLLICLE-NAME', 'B-FOLLICLE-NAME', 'B-FOLLICLE-NAME', 'B-FOLLICLE-NAME', 'B-FOLLICLE-NAME', 'O', 'O', 'O', 'O', 'O', 'O', 'B-FOLLICLE-NAME', 'I-FOLLICLE-NAME', 'O', 'O', 'O', 'O', 'O', 'O', 'B-FOLLICLE-NAME', 'I-FOLLICLE-NAME', 'O', 'O', 'O', 'O', 'O', 'B-FOLLICLE-NAME', 'I-FOLLICLE-NAME', 'I-FOLLICLE-NAME', 'I-FOLLICLE-NAME', 'I-FOLLICLE-NAME', 'I-FOLLICLE-NAME', 'I-FOLLICLE-NAME', 'B-FOLLICLE-NAME', 'B-FOLLICLE-NAME', 'B-FOLLICLE-NAME', 'B-FOLLICLE-NAME', 'B-FOLLICLE-NAME', 'O', 'O', 'O', 'O', 'O', 'O', 'O', 'O', 'O', 'O', 'O', 'O', 'O', 'O', 'O', 'O', 'O', 'O', 'O', 'O', 'O', 'O', 'O', 'O', 'O', 'O', 'O', 'O', 'O', 'O', 'O', 'O', 'O', 'O', 'O', 'O', 'O', 'O', 'O', 'O', 'O', 'O', 'O', 'O', 'O', 'O', 'O', 'O', 'O', 'O', 'O', 'O', 'B-FOLLICLE-NAME', 'I-FOLLICLE-NAME', 'I-FOLLICLE-NAME', 'I-FOLLICLE-NAME', 'O', 'O', 'O', 'O', 'O', 'O', 'O', 'O', 'O', 'O', 'O', 'O', 'O', 'O', 'O', 'O', 'O', 'O', 'O', 'O', 'O', 'O', 'B-FOLLICLE-NAME', 'I-FOLLICLE-NAME', 'I-FOLLICLE-NAME', 'I-FOLLICLE-NAME', 'O', 'O', 'O', 'O', 'O', 'B-FOLLICLE-NAME', 'I-FOLLICLE-NAME', 'I-FOLLICLE-NAME', 'I-FOLLICLE-NAME', 'B-FOLLICLE-NAME', 'B-FOLLICLE-NAME', 'B-FOLLICLE-NAME', 'B-FOLLICLE-NAME', 'O', 'O', 'O', 'O', 'O', 'O', 'O', 'O', 'O', 'O', 'O', 'O', 'O', 'O', 'O', 'O', 'O', 'O', 'O', 'O', 'O', 'O', 'O', 'B-FOLLICLE-NAME', 'I-FOLLICLE-NAME', 'I-FOLLICLE-NAME', 'I-FOLLICLE-NAME', 'I-FOLLICLE-NAME', 'O', 'O', 'O', 'O', 'O', 'O', 'O', 'O', 'O', 'O', 'O', 'O', 'O', 'O', 'O', 'O', 'O', 'O', 'O', 'O', 'O', 'O', 'O', 'O', 'O', 'O', 'O', 'O', 'O', 'O', 'O', 'O', 'O', 'O', 'O', 'O', 'O', 'O', 'O', 'O', 'O', 'O', 'O', 'O', 'O', 'O', 'O', 'O', 'O', 'O', 'O', 'O', 'O', 'O', 'O', 'O', 'O', 'O', 'O', 'O', 'O', 'O', 'O', 'O', 'O', 'O', 'O', 'O', 'O', 'O', 'O', 'O', 'O', 'O', 'O', 'O', 'O', 'O', 'O', 'O', 'O', 'O', 'O', 'O', 'O', 'O', 'B-FOLLICLE-NAME', 'I-FOLLICLE-NAME', 'I-FOLLICLE-NAME', 'I-FOLLICLE-NAME', 'I-FOLLICLE-NAME', 'I-FOLLICLE-NAME', 'O', 'O', 'O', 'O', 'O', 'O', 'O', 'O', 'O', 'O', 'O', 'O', 'O', 'O', 'O', 'O', 'O', 'O', 'O', 'O', 'O', 'O', 'O', 'O', 'O', 'O', 'O', 'O', 'O', 'O', 'O', 'O', 'B-FOLLICLE-NAME', 'I-FOLLICLE-NAME', 'I-FOLLICLE-NAME', 'I-FOLLICLE-NAME', 'I-FOLLICLE-NAME', 'I-FOLLICLE-NAME', 'I-FOLLICLE-NAME', 'O', 'O', 'O', 'O', 'O', 'O', 'O', 'O', 'O', 'O', 'O', 'O', 'O', 'O', 'O', 'O', 'O', 'O', 'O', 'O', 'O', 'O', 'O', 'O', 'O', 'O', 'O', 'O', 'O', 'O', 'O', 'O', 'O', 'O', 'O', 'O', 'O', 'O', 'O', 'O', 'O', 'O', 'O', 'O', 'O', 'O', 'O', 'O', 'O', 'O', 'B-FOLLICLE-NAME', 'I-FOLLICLE-NAME', 'I-FOLLICLE-NAME', 'I-FOLLICLE-NAME', 'O', 'O', 'O', 'O', 'O', 'O', 'O', 'O', 'O', 'O', 'O', 'O', 'O', 'O', 'O', 'O', 'O', 'O', 'O', 'O', 'O', 'O', 'O', 'O', 'O', 'O', 'O', 'O', 'O', 'O', 'O', 'O', 'O', 'O', 'O', 'O', 'O', 'O', 'O', 'O', 'O', 'O', 'O', 'O', 'O', 'O', 'O', 'O', 'O', 'O', 'O', 'O', 'O', 'O', 'O', 'O', 'O', 'O', 'O', 'O', 'O', 'O', 'O', 'O', 'O', 'O', 'O', 'O', 'O', 'O', 'O', 'O', 'O', 'O', 'O', 'O', 'O', 'O', 'O', 'O', 'O', 'O', 'O', 'O', 'O', 'O', 'O', 'O', 'O', 'O', 'O', 'O', 'O', 'O', 'O', 'O', 'O', 'O', 'O', 'O', 'O', 'O', 'B-FOLLICLE-NAME', 'I-FOLLICLE-NAME', 'I-FOLLICLE-NAME', 'I-FOLLICLE-NAME', 'O', 'O', 'O', 'O', 'O', 'O', 'O', 'O', 'O', 'O', 'O', 'O', 'O', 'O', 'O', 'O', 'O', 'O', 'O', 'O', 'O', 'O', 'O', 'O', 'O', 'O', 'O', 'O', 'O', 'O', 'O', 'O', 'O', 'O', 'O', 'O', 'O', 'O', 'O', 'O', 'O', 'O', 'O', 'O', 'O', 'O', 'O', 'O', 'O', 'O', 'O', 'O', 'O', 'O', 'O', 'O', 'O', 'O', 'O', 'O', 'O', 'O', 'O', 'O', 'O', 'O', 'O', 'O', 'O', 'O', 'O', 'O', 'O', 'O', 'O', 'O', 'O', 'O', 'O', 'O', 'O', 'O', 'O', 'O', 'O', 'O', 'O', 'O', 'O', 'O', 'O', 'O', 'O', 'O', 'O', 'O', 'O', 'O', 'O', 'O', 'O', 'O', 'O', 'O', 'O', 'O', 'O', 'O', 'O', 'O', 'O', 'O', 'O', 'O', 'O', 'O', 'O', 'O', 'O', 'O', 'O', 'O', 'O', 'O', 'O', 'O', 'O', 'O', 'O', 'B-FOLLICLE-NAME', 'I-FOLLICLE-NAME', 'I-FOLLICLE-NAME', 'I-FOLLICLE-NAME', 'O', 'O', 'O', 'O', 'O', 'O', 'O', 'O', 'O', 'O', 'O', 'O', 'O', 'O', 'O', 'O', 'O', 'O', 'O', 'O', 'O', 'B-FOLLICLE-NAME', 'B-FOLLICLE-NAME', 'I-FOLLICLE-NAME', 'O', 'O', 'O', 'O', 'O', 'O', 'O', 'O', 'O', 'O', 'O', 'O', 'O', 'O', 'O', 'O', 'B-FOLLICLE-NAME', 'I-FOLLICLE-NAME', 'I-FOLLICLE-NAME', 'I-FOLLICLE-NAME', 'I-FOLLICLE-NAME', 'I-FOLLICLE-NAME', 'O', 'O', 'O', 'O', 'O', 'O', 'O', 'O', 'O', 'O', 'O', 'O', 'O', 'O', 'O', 'O', 'O', 'O', 'O', 'O', 'O', 'O', 'O', 'O', 'O', 'O', 'O', 'O', 'O', 'O', 'O', 'O', 'B-FOLLICLE-NAME', 'B-FOLLICLE-NAME', 'O', 'O', 'O', 'O', 'O', 'O', 'O', 'O', 'O', 'O', 'O', 'O', 'O', 'O', 'O', 'O', 'O', 'O', 'O', 'O', 'O', 'O', 'O', 'O', 'O', 'O', 'O', 'O', 'O', 'O', 'O', 'O', 'O', 'O', 'O', 'O', 'O', 'O', 'O', 'O', 'O', 'B-FOLLICLE-NAME', 'I-FOLLICLE-NAME', 'I-FOLLICLE-NAME', 'I-FOLLICLE-NAME', 'O', 'O', 'O', 'O', 'O', 'O', 'O', 'O', 'O', 'O', 'O', 'O', 'O', 'O', 'O', 'O', 'O', 'O', 'O', 'O', 'O', 'O', 'O', 'O', 'O', 'O', 'O', 'O', 'O', 'B-FOLLICLE-NAME', 'I-FOLLICLE-NAME', 'I-FOLLICLE-NAME', 'I-FOLLICLE-NAME', 'B-FOLLICLE-NAME', 'B-FOLLICLE-NAME', 'B-FOLLICLE-NAME', 'B-FOLLICLE-NAME', 'B-FOLLICLE-NAME', 'O', 'O', 'O', 'O', 'O', 'O', 'O', 'O', 'O', 'O', 'O', 'O', 'O', 'O', 'O', 'O', 'O', 'O', 'O', 'O', 'O', 'O', 'O', 'O', 'O', 'O', 'O', 'O', 'O', 'O', 'O', 'O', 'O', 'O', 'O', 'O', 'O', 'O', 'O', 'O', 'O', 'O', 'O', 'O', 'O', 'O', 'O', 'O', 'O', 'O', 'O', 'O', 'O', 'O', 'O', 'O', 'O', 'O', 'O', 'O', 'O', 'O', 'O', 'O', 'O', 'O', 'O', 'O', 'O', 'O', 'O', 'O', 'O', 'O', 'O', 'O', 'O', 'O', 'O', 'O', 'O', 'O', 'O', 'O', 'O', 'O', 'O', 'O', 'O', 'O', 'O', 'O', 'O', 'O', 'O', 'O', 'O', 'O', 'O', 'O', 'O', 'O', 'O', 'O', 'O', 'O', 'O', 'O', 'O', 'O', 'O', 'O', 'O', 'O', 'O', 'O', 'O', 'O', 'O', 'O', 'O', 'O', 'B-FOLLICLE-NAME', 'I-FOLLICLE-NAME', 'I-FOLLICLE-NAME', 'I-FOLLICLE-NAME', 'O', 'O', 'O', 'O', 'O', 'O', 'O', 'O', 'O', 'O', 'O', 'O', 'O', 'O', 'O', 'O', 'O', 'O', 'O', 'O', 'O', 'O', 'O', 'O', 'O', 'O', 'O', 'O', 'O', 'B-FOLLICLE-NAME', 'B-FOLLICLE-NAME', 'I-FOLLICLE-NAME', 'O', 'O', 'O', 'O', 'O', 'O', 'O', 'O', 'O', 'O', 'O', 'O', 'O', 'O', 'O', 'O', 'O', 'O', 'O', 'O', 'O', 'O', 'O', 'O', 'O', 'O', 'O', 'O', 'O', 'O', 'O', 'O', 'O', 'O', 'O', 'O', 'O', 'O', 'O', 'O', 'O', 'O', 'O', 'O', 'O', 'O', 'O', 'O', 'O', 'O', 'O', 'O', 'O', 'O', 'O', 'O', 'O', 'O', 'O', 'O', 'O', 'O', 'O', 'O', 'O', 'O', 'O', 'O', 'O', 'O', 'O', 'O', 'O', 'O', 'O', 'O', 'O', 'O', 'O', 'O', 'O', 'O', 'O', 'O', 'B-FOLLICLE-NAME', 'B-FOLLICLE-NAME', 'B-FOLLICLE-NAME', 'O', 'B-FOLLICLE-NAME', 'I-FOLLICLE-NAME', 'O', 'O', 'O', 'O', 'O', 'O', 'O', 'O', 'O', 'O', 'O', 'O', 'B-FOLLICLE-NAME', 'I-FOLLICLE-NAME', 'O', 'O', 'O', 'O', 'O', 'O', 'O', 'O', 'O', 'O', 'O', 'O', 'O', 'O', 'O', 'O', 'O', 'O', 'O', 'B-FOLLICLE-NAME', 'I-FOLLICLE-NAME', 'I-FOLLICLE-NAME', 'I-FOLLICLE-NAME', 'I-FOLLICLE-NAME', 'I-FOLLICLE-NAME', 'I-FOLLICLE-NAME', 'O', 'O', 'O', 'O', 'O', 'O', 'O', 'O', 'O', 'O', 'O', 'O', 'O', 'O', 'O', 'O', 'O', 'O', 'O', 'O', 'O', 'O', 'O', 'O', 'O', 'B-FOLLICLE-NAME', 'B-FOLLICLE-NAME', 'B-FOLLICLE-NAME', 'B-FOLLICLE-NAME', 'B-FOLLICLE-NAME', 'B-FOLLICLE-NAME', 'B-FOLLICLE-NAME', 'I-FOLLICLE-NAME', 'I-FOLLICLE-NAME', 'I-FOLLICLE-NAME', 'I-FOLLICLE-NAME', 'I-FOLLICLE-NAME', 'B-FOLLICLE-NAME', 'B-FOLLICLE-NAME', 'B-FOLLICLE-NAME', 'B-FOLLICLE-NAME', 'O', 'O', 'O', 'O', 'O', 'O', 'O', 'O', 'O', 'O', 'O', 'O', 'O', 'O', 'O', 'O', 'O', 'O', 'O', 'O', 'O', 'O', 'O', 'O', 'O', 'O', 'O', 'O', 'O', 'O', 'O', 'O', 'O', 'O', 'O', 'O', 'O', 'O', 'O', 'O', 'O', 'O', 'O', 'O', 'O', 'O', 'O', 'O', 'O', 'O', 'O', 'O', 'O', 'O', 'B-FOLLICLE-NAME', 'I-FOLLICLE-NAME', 'I-FOLLICLE-NAME', 'I-FOLLICLE-NAME', 'B-FOLLICLE-NAME', 'B-FOLLICLE-NAME', 'B-FOLLICLE-NAME', 'B-FOLLICLE-NAME', 'O', 'O', 'O', 'O', 'O', 'O', 'O', 'O', 'O', 'O', 'O', 'O', 'O', 'O', 'O', 'O', 'O', 'O', 'O', 'O', 'O', 'O', 'O', 'O', 'O', 'O', 'O', 'O', 'O', 'O', 'O', 'O', 'O', 'O', 'O', 'O', 'O', 'O', 'O', 'O', 'O', 'O', 'O', 'O', 'O', 'O', 'O', 'O', 'O', 'O', 'O', 'O', 'O', 'O', 'O', 'O', 'O', 'B-FOLLICLE-NAME', 'B-FOLLICLE-NAME', 'O', 'O', 'O', 'O', 'O', 'O', 'O', 'O', 'O', 'O', 'O', 'O', 'O', 'O', 'O', 'O', 'O', 'O', 'O', 'O', 'O', 'O', 'O', 'O', 'O', 'O', 'O', 'O', 'O', 'O', 'O', 'O', 'O', 'O', 'O', 'O', 'O', 'O', 'O', 'O', 'O', 'O', 'O', 'O', 'O', 'O', 'O', 'O', 'O', 'O', 'O', 'O', 'O', 'O', 'O', 'O', 'O', 'O', 'O', 'O', 'O', 'O', 'O', 'O', 'O', 'O', 'B-FOLLICLE-NAME', 'I-FOLLICLE-NAME', 'I-FOLLICLE-NAME', 'I-FOLLICLE-NAME', 'I-FOLLICLE-NAME', 'O', 'O', 'O', 'O', 'O', 'O', 'O', 'O', 'O', 'O', 'O', 'O', 'O', 'O', 'O', 'O', 'O', 'O', 'O', 'O', 'B-FOLLICLE-NAME', 'B-FOLLICLE-NAME', 'B-FOLLICLE-NAME', 'O', 'O', 'O', 'O', 'O', 'O', 'O', 'O', 'O', 'O', 'O', 'O', 'O', 'O', 'O', 'O', 'O', 'O', 'O', 'O', 'B-FOLLICLE-NAME', 'I-FOLLICLE-NAME', 'O', 'O', 'O', 'O', 'O', 'O', 'O', 'O', 'O', 'O', 'O', 'O', 'O', 'O', 'O', 'B-FOLLICLE-NAME', 'I-FOLLICLE-NAME', 'I-FOLLICLE-NAME', 'I-FOLLICLE-NAME', 'I-FOLLICLE-NAME', 'I-FOLLICLE-NAME', 'O', 'O', 'O', 'O', 'O', 'O', 'O', 'O', 'O', 'O', 'O', 'O', 'O', 'O', 'O', 'O', 'O', 'O', 'O', 'O', 'B-FOLLICLE-NAME', 'B-FOLLICLE-NAME', 'B-FOLLICLE-NAME', 'O', 'O', 'O', 'O', 'O', 'O', 'O', 'B-FOLLICLE-NAME', 'I-FOLLICLE-NAME', 'I-FOLLICLE-NAME', 'I-FOLLICLE-NAME', 'O', 'O', 'O', 'O', 'O', 'O', 'O', 'O', 'O', 'O', 'O', 'O', 'O', 'O', 'O', 'O', 'O', 'O', 'O', 'O', 'O', 'O', 'O', 'O', 'O', 'O', 'O', 'O', 'O', 'O', 'O', 'O', 'O', 'O', 'O', 'O', 'O', 'O', 'O', 'O', 'O', 'O', 'O', 'O', 'O', 'O', 'O', 'O', 'O', 'O', 'O', 'O', 'O', 'O', 'O', 'O', 'O', 'O', 'O', 'O', 'O', 'O', 'O', 'O', 'O', 'O', 'O', 'O', 'O', 'O', 'O', 'O', 'O', 'O', 'O', 'O', 'O', 'O', 'O', 'O', 'O', 'O', 'O', 'O', 'O', 'O', 'O', 'O', 'O', 'O', 'O', 'O', 'O', 'O', 'O', 'O', 'O', 'O', 'O', 'O', 'O', 'O', 'O', 'O', 'O', 'O', 'O', 'O', 'O', 'O', 'O', 'O', 'O', 'O', 'O', 'O', 'O', 'O', 'O', 'O', 'O', 'O', 'O', 'O', 'O', 'O', 'O', 'O', 'O', 'O', 'O', 'O', 'O', 'O', 'O', 'O', 'O', 'O', 'O', 'O', 'O', 'O', 'O', 'O', 'O', 'B-FOLLICLE-NAME', 'I-FOLLICLE-NAME', 'I-FOLLICLE-NAME', 'I-FOLLICLE-NAME', 'O', 'O', 'O', 'O', 'O', 'O', 'O', 'O', 'O', 'O', 'O', 'O', 'O', 'O', 'O', 'O', 'O', 'O', 'O', 'O', 'O', 'O', 'O', 'O', 'O', 'O', 'O', 'O', 'O', 'B-FOLLICLE-NAME', 'I-FOLLICLE-NAME', 'I-FOLLICLE-NAME', 'I-FOLLICLE-NAME', 'I-FOLLICLE-NAME', 'I-FOLLICLE-NAME', 'B-FOLLICLE-NAME', 'B-FOLLICLE-NAME', 'B-FOLLICLE-NAME', 'B-FOLLICLE-NAME', 'B-FOLLICLE-NAME', 'O', 'O', 'O', 'O', 'O', 'B-FOLLICLE-NAME', 'I-FOLLICLE-NAME', 'O', 'O', 'O', 'O', 'O', 'O', 'O', 'O', 'O', 'O', 'O', 'O', 'O', 'O', 'O', 'O', 'O', 'O', 'O', 'O', 'O', 'O', 'O', 'O', 'O', 'O', 'O', 'O', 'O', 'O', 'O', 'O', 'B-FOLLICLE-NAME', 'B-FOLLICLE-NAME', 'I-FOLLICLE-NAME', 'I-FOLLICLE-NAME', 'I-FOLLICLE-NAME', 'I-FOLLICLE-NAME', 'O', 'O', 'O', 'O', 'O', 'O', 'O', 'O', 'O', 'O', 'O', 'O', 'O', 'O', 'O', 'O', 'O', 'O', 'O', 'O', 'O', 'O', 'O', 'O', 'O', 'B-FOLLICLE-NAME', 'B-FOLLICLE-NAME', 'B-FOLLICLE-NAME', 'B-FOLLICLE-NAME', 'B-FOLLICLE-NAME', 'I-FOLLICLE-NAME', 'I-FOLLICLE-NAME', 'I-FOLLICLE-NAME', 'I-FOLLICLE-NAME', 'I-FOLLICLE-NAME', 'B-FOLLICLE-NAME', 'O', 'O', 'O', 'O', 'O', 'O', 'O', 'O', 'O', 'O', 'O', 'O', 'B-FOLLICLE-NAME', 'I-FOLLICLE-NAME', 'I-FOLLICLE-NAME', 'I-FOLLICLE-NAME', 'O', 'O', 'O', 'O', 'O', 'O', 'O', 'O', 'O', 'O', 'O', 'O', 'O', 'O', 'O', 'O', 'O', 'O', 'O', 'O', 'O', 'O', 'O', 'O', 'O', 'O', 'O', 'O', 'O', 'O', 'O', 'O', 'O', 'O', 'O', 'O', 'O', 'O', 'O', 'O', 'O', 'O', 'O', 'O', 'O', 'O', 'O', 'O', 'O', 'O', 'O', 'O', 'O', 'O', 'O', 'O', 'O', 'O', 'O', 'O', 'O', 'O', 'O', 'O', 'O', 'O', 'O', 'O', 'O', 'O', 'O', 'O', 'B-FOLLICLE-NAME', 'B-FOLLICLE-NAME', 'I-FOLLICLE-NAME', 'I-FOLLICLE-NAME', 'O', 'O', 'O', 'O', 'O', 'O', 'O', 'O', 'O', 'O', 'O', 'O', 'O', 'O', 'O', 'O', 'O', 'O', 'O', 'O', 'O', 'O', 'O', 'O', 'O', 'O', 'O', 'O', 'O', 'O', 'O', 'O', 'O', 'O', 'O', 'O', 'O', 'O', 'O', 'O', 'O', 'O', 'O', 'O', 'O', 'O', 'O', 'O', 'O', 'O', 'O', 'O', 'O', 'O', 'O', 'O', 'O', 'O', 'O', 'O', 'O', 'O', 'O', 'O', 'O', 'O', 'O', 'O', 'O', 'O', 'B-FOLLICLE-NAME', 'I-FOLLICLE-NAME', 'I-FOLLICLE-NAME', 'I-FOLLICLE-NAME', 'O', 'O', 'O', 'O', 'O', 'O', 'O', 'O', 'O', 'O', 'O', 'O', 'O', 'O', 'O', 'O', 'O', 'O', 'O', 'O', 'O', 'O', 'O', 'B-FOLLICLE-NAME', 'B-FOLLICLE-NAME', 'B-FOLLICLE-NAME', 'O', 'O', 'O', 'O', 'O', 'O', 'O', 'O', 'O', 'O', 'O', 'O', 'O', 'O', 'O', 'O', 'O', 'O', 'O', 'O', 'O', 'O', 'O', 'O', 'O', 'O', 'O', 'O', 'O', 'O', 'O', 'O', 'O', 'O', 'O', 'O', 'O', 'O', 'B-FOLLICLE-NAME', 'B-FOLLICLE-NAME', 'B-FOLLICLE-NAME', 'O', 'B-FOLLICLE-NAME', 'B-FOLLICLE-NAME', 'I-FOLLICLE-NAME', 'I-FOLLICLE-NAME', 'O', 'O', 'O', 'O', 'O', 'O', 'O', 'O', 'O', 'O', 'O', 'O', 'O', 'O', 'O', 'O', 'O', 'O', 'O', 'O', 'O', 'O', 'O', 'O', 'O', 'O', 'O', 'O', 'B-FOLLICLE-NAME', 'B-FOLLICLE-NAME', 'B-FOLLICLE-NAME', 'B-FOLLICLE-NAME', 'O', 'O', 'O', 'O', 'B-FOLLICLE-NAME', 'I-FOLLICLE-NAME', 'I-FOLLICLE-NAME', 'I-FOLLICLE-NAME', 'O', 'O', 'O', 'O', 'O', 'O', 'O', 'O', 'O', 'O', 'O', 'O', 'O', 'O', 'O', 'O', 'O', 'O', 'O', 'O', 'O', 'O', 'O', 'O', 'O', 'O', 'O', 'O', 'O', 'O', 'O', 'O', 'O', 'O', 'O', 'O', 'O', 'O', 'O', 'O', 'O', 'O', 'O', 'O', 'O', 'O', 'O', 'O', 'O', 'O', 'O', 'O', 'O', 'O', 'O', 'O', 'O', 'O', 'O', 'O', 'O', 'O', 'O', 'O', 'O', 'O', 'O', 'O', 'O', 'O', 'O', 'O', 'O', 'O', 'O', 'O', 'O', 'O', 'O', 'O', 'O', 'O', 'O', 'O', 'O', 'O', 'O', 'O', 'O', 'O', 'O', 'O', 'O', 'O', 'O', 'O', 'O', 'O', 'O', 'O', 'O', 'O', 'B-FOLLICLE-NAME', 'I-FOLLICLE-NAME', 'I-FOLLICLE-NAME', 'I-FOLLICLE-NAME', 'I-FOLLICLE-NAME', 'O', 'O', 'O', 'O', 'O', 'O', 'O', 'O', 'O', 'O', 'O', 'O', 'O', 'O', 'O', 'O', 'O', 'O', 'O', 'O', 'O', 'O', 'O', 'O', 'O', 'O', 'O', 'O', 'O', 'O', 'O', 'O', 'O', 'O', 'O', 'O', 'O', 'O', 'O', 'O', 'O', 'O', 'O', 'O', 'O', 'O', 'O', 'O', 'O', 'O', 'O', 'O', 'O', 'O', 'O', 'O', 'O', 'O', 'O', 'O', 'O', 'O', 'O', 'O', 'O', 'O', 'O', 'O', 'O', 'O', 'B-FOLLICLE-NAME', 'B-FOLLICLE-NAME', 'B-FOLLICLE-NAME', 'O', 'O', 'O', 'O', 'O', 'O', 'O', 'O', 'O', 'O', 'O', 'O', 'B-FOLLICLE-NAME', 'B-FOLLICLE-NAME', 'B-FOLLICLE-NAME', 'O', 'O', 'O', 'O', 'O', 'O', 'O', 'O', 'O', 'O', 'O', 'O', 'O', 'O', 'O', 'O', 'O', 'O', 'O', 'O', 'O', 'O', 'O', 'O', 'O', 'O', 'O', 'O', 'O', 'O', 'O', 'B-FOLLICLE-NAME', 'B-FOLLICLE-NAME', 'B-FOLLICLE-NAME', 'O', 'O', 'O', 'O', 'O', 'O', 'O', 'O', 'O', 'O', 'O', 'O', 'O', 'O', 'B-FOLLICLE-NAME', 'B-FOLLICLE-NAME', 'B-FOLLICLE-NAME', 'O', 'O', 'O', 'O', 'O', 'O', 'O', 'O', 'O', 'O', 'O', 'O', 'O', 'O', 'O', 'O', 'O', 'O', 'O', 'O', 'O', 'O', 'O', 'O', 'O', 'O', 'O', 'O', 'O', 'O', 'O', 'O', 'O', 'O', 'O', 'O', 'O', 'O', 'O', 'O', 'O', 'O', 'O', 'O', 'O', 'O', 'O', 'O', 'O', 'O', 'O', 'O', 'O', 'O', 'O', 'B-FOLLICLE-NAME', 'O', 'O', 'O', 'O', 'O', 'O', 'O', 'O', 'O', 'O', 'O', 'O', 'O', 'O', 'O', 'O', 'O', 'O', 'O', 'O', 'O', 'O', 'O', 'O', 'O', 'O', 'O', 'O', 'O', 'O', 'O', 'O', 'O', 'O', 'O', 'O', 'O', 'O', 'O', 'O', 'O', 'O', 'O', 'O', 'O', 'O', 'O', 'O', 'O', 'O', 'O', 'O', 'O', 'O', 'O', 'O', 'O', 'O', 'O', 'O', 'O', 'O', 'O', 'O', 'O', 'O', 'O', 'O', 'O', 'O', 'O', 'O', 'O', 'O', 'B-FOLLICLE-NAME', 'I-FOLLICLE-NAME', 'I-FOLLICLE-NAME', 'I-FOLLICLE-NAME', 'O', 'O', 'O', 'O', 'O', 'O', 'O', 'O', 'O', 'O', 'O', 'O', 'O', 'O', 'O', 'O', 'O', 'O', 'O', 'O', 'O', 'O', 'O', 'O', 'O', 'O', 'O', 'O', 'O', 'O', 'O', 'O', 'O', 'O', 'O', 'O', 'O', 'O', 'O', 'O', 'O', 'O', 'O', 'O', 'O', 'O', 'O', 'O', 'O', 'O', 'O', 'O', 'O', 'O', 'O', 'O', 'O', 'O', 'O', 'O', 'O', 'O', 'O', 'O', 'O', 'O', 'O', 'O', 'O', 'O', 'O', 'O', 'O', 'O', 'O', 'O', 'O', 'O', 'O', 'O', 'O', 'O', 'O', 'O', 'O', 'B-FOLLICLE-NAME', 'I-FOLLICLE-NAME', 'I-FOLLICLE-NAME', 'I-FOLLICLE-NAME', 'O', 'O', 'O', 'O', 'O', 'O', 'O', 'O', 'O', 'O', 'O', 'O', 'O', 'O', 'O', 'O', 'O', 'O', 'O', 'O', 'O', 'O', 'O', 'O', 'O', 'O', 'O', 'O', 'O', 'O', 'O', 'O', 'O', 'O', 'O', 'O', 'O', 'O', 'O', 'O', 'O', 'O', 'O', 'O', 'O', 'O', 'O', 'O', 'O', 'O', 'O', 'O', 'O', 'O', 'O', 'O', 'O', 'O', 'O', 'O', 'O', 'O', 'O', 'O', 'O', 'O', 'O', 'O', 'O', 'O', 'O', 'O', 'O', 'O', 'O', 'B-FOLLICLE-NAME', 'I-FOLLICLE-NAME', 'I-FOLLICLE-NAME', 'I-FOLLICLE-NAME', 'B-FOLLICLE-NAME', 'B-FOLLICLE-NAME', 'B-FOLLICLE-NAME', 'B-FOLLICLE-NAME', 'O', 'O', 'O', 'O', 'O', 'O', 'O', 'O', 'O', 'O', 'O', 'O', 'O', 'O', 'O', 'O', 'O', 'O', 'O', 'O', 'O', 'O', 'O', 'O', 'O', 'O', 'O', 'O', 'O', 'O', 'O', 'O', 'O', 'O', 'O', 'O', 'O', 'O', 'O', 'O', 'O', 'O', 'O', 'O', 'O', 'O', 'O', 'O', 'O', 'O', 'O', 'O', 'O', 'O', 'O', 'O', 'O', 'O', 'O', 'O', 'O', 'O', 'O', 'O', 'O', 'O', 'O', 'O', 'O', 'O', 'O', 'O', 'O', 'O', 'B-FOLLICLE-NAME', 'I-FOLLICLE-NAME', 'I-FOLLICLE-NAME', 'I-FOLLICLE-NAME', 'I-FOLLICLE-NAME', 'I-FOLLICLE-NAME', 'O', 'B-FOLLICLE-NAME', 'I-FOLLICLE-NAME', 'O', 'O', 'O', 'O', 'O', 'O', 'O', 'O', 'O', 'O', 'O', 'O', 'O', 'O', 'O', 'O', 'O', 'O', 'O', 'O', 'O', 'O', 'O', 'O', 'O', 'O', 'O', 'O', 'O', 'O', 'O', 'O', 'O', 'O', 'O', 'O', 'O', 'O', 'O', 'O', 'O', 'O', 'O', 'O', 'O', 'O', 'O', 'O', 'O', 'O', 'O', 'O', 'O', 'O', 'O', 'O', 'O', 'O', 'O', 'O', 'O', 'O', 'O', 'O', 'O', 'O', 'O', 'O', 'O', 'O', 'O', 'O', 'O', 'O', 'O', 'O', 'O', 'O', 'O', 'O', 'O', 'O', 'O', 'O', 'O', 'O', 'O', 'O', 'O', 'O', 'O', 'O', 'O', 'O', 'O', 'O', 'O', 'O', 'O', 'O', 'O', 'O', 'O', 'O', 'O', 'O', 'O', 'O', 'O', 'O', 'O', 'O', 'O', 'O', 'O', 'O', 'O', 'O', 'O', 'O', 'O', 'B-FOLLICLE-NAME', 'B-FOLLICLE-NAME', 'I-FOLLICLE-NAME', 'I-FOLLICLE-NAME', 'I-FOLLICLE-NAME', 'I-FOLLICLE-NAME', 'B-FOLLICLE-NAME', 'B-FOLLICLE-NAME', 'O', 'B-FOLLICLE-NAME', 'B-FOLLICLE-NAME', 'O', 'O', 'O', 'O', 'O', 'O', 'O', 'O', 'O', 'O', 'O', 'O', 'O', 'O', 'O', 'O', 'O', 'O', 'O', 'O', 'O', 'O', 'O', 'O', 'O', 'O', 'O', 'O', 'O', 'O', 'O', 'O', 'O', 'O', 'O', 'O', 'O', 'O', 'O', 'O', 'O', 'O', 'O', 'O', 'O', 'O', 'O', 'O', 'O', 'O', 'O', 'O', 'O', 'O', 'O', 'O', 'O', 'O', 'O', 'O', 'O', 'O', 'O', 'O', 'O', 'O', 'B-FOLLICLE-NAME', 'I-FOLLICLE-NAME', 'I-FOLLICLE-NAME', 'I-FOLLICLE-NAME', 'I-FOLLICLE-NAME', 'I-FOLLICLE-NAME', 'I-FOLLICLE-NAME', 'O', 'O', 'O', 'O', 'O', 'O', 'O', 'O', 'O', 'O', 'O', 'O', 'O', 'O', 'O', 'O', 'O', 'O', 'O', 'O', 'O', 'O', 'O', 'O', 'O', 'O', 'O', 'O', 'O', 'O', 'O', 'O', 'O', 'O', 'O', 'O', 'O', 'O', 'O', 'O', 'O', 'O', 'O', 'O', 'O', 'O', 'O', 'O', 'O', 'O', 'O', 'O', 'O', 'O', 'O', 'O', 'O', 'O', 'O', 'O', 'O', 'O', 'O', 'O', 'O', 'O', 'O', 'O', 'O', 'O', 'O', 'O', 'O', 'O', 'O', 'O', 'O', 'O', 'O', 'O', 'O', 'O', 'O', 'O', 'O', 'O', 'O', 'O', 'O', 'O', 'O', 'O', 'O', 'O', 'O', 'O', 'O', 'O', 'O', 'O', 'O', 'O', 'O', 'O', 'O', 'O', 'B-FOLLICLE-NAME', 'I-FOLLICLE-NAME', 'I-FOLLICLE-NAME', 'I-FOLLICLE-NAME', 'I-FOLLICLE-NAME', 'O', 'O', 'O', 'O', 'O', 'O', 'O', 'O', 'O', 'O', 'O', 'O', 'O', 'O', 'O', 'O', 'O', 'O', 'O', 'O', 'O', 'O', 'O', 'O', 'O', 'O', 'O', 'O', 'O', 'O', 'O', 'O', 'O', 'O', 'O', 'O', 'O', 'O', 'O', 'O', 'O', 'O', 'O', 'O', 'O', 'O', 'O', 'O', 'O', 'O', 'O', 'O', 'O', 'O', 'O', 'O', 'O', 'O', 'O', 'O', 'O', 'O', 'O', 'O', 'O', 'O', 'O', 'O', 'O', 'O', 'O', 'O', 'O', 'O', 'O', 'O', 'O', 'O', 'O', 'O', 'O', 'O', 'O', 'O', 'O', 'O', 'O', 'O', 'O', 'O', 'O', 'O', 'O', 'O', 'O', 'O', 'O', 'O', 'O', 'O', 'O', 'O', 'O', 'O', 'O', 'O', 'O', 'O', 'O', 'O', 'O', 'O', 'O', 'O', 'O', 'O', 'O', 'O', 'O', 'O', 'O', 'O', 'O', 'O', 'O', 'O', 'O', 'O', 'O', 'B-FOLLICLE-NAME', 'B-FOLLICLE-NAME', 'I-FOLLICLE-NAME', 'I-FOLLICLE-NAME', 'I-FOLLICLE-NAME', 'O', 'O', 'O', 'O', 'O', 'O', 'O', 'O', 'O', 'O', 'O', 'O', 'O', 'O', 'O', 'O', 'O', 'O', 'O', 'O', 'O', 'O', 'O', 'O', 'O', 'O', 'O', 'O', 'O', 'O', 'O', 'O', 'O', 'O', 'O', 'O', 'O', 'O', 'B-FOLLICLE-NAME', 'I-FOLLICLE-NAME', 'I-FOLLICLE-NAME', 'I-FOLLICLE-NAME', 'I-FOLLICLE-NAME', 'I-FOLLICLE-NAME', 'I-FOLLICLE-NAME', 'I-FOLLICLE-NAME', 'I-FOLLICLE-NAME', 'I-FOLLICLE-NAME', 'I-FOLLICLE-NAME', 'I-FOLLICLE-NAME', 'O', 'O', 'O', 'O', 'O', 'O', 'O', 'O', 'O', 'O', 'O', 'O', 'O', 'O', 'O', 'O', 'B-FOLLICLE-NAME', 'B-FOLLICLE-NAME', 'B-FOLLICLE-NAME', 'O', 'O', 'O', 'O', 'O', 'O', 'B-FOLLICLE-NAME', 'I-FOLLICLE-NAME', 'O', 'B-FOLLICLE-NAME', 'B-FOLLICLE-NAME', 'B-FOLLICLE-NAME', 'B-FOLLICLE-NAME', 'B-FOLLICLE-NAME', 'B-FOLLICLE-NAME', 'B-FOLLICLE-NAME', 'I-FOLLICLE-NAME', 'I-FOLLICLE-NAME', 'I-FOLLICLE-NAME', 'I-FOLLICLE-NAME', 'I-FOLLICLE-NAME', 'B-FOLLICLE-NAME', 'B-FOLLICLE-NAME', 'B-FOLLICLE-NAME', 'B-FOLLICLE-NAME', 'O', 'O', 'O', 'O', 'O', 'O', 'O', 'O', 'O', 'O', 'O', 'O', 'O', 'O', 'O', 'O', 'O', 'O', 'O', 'O', 'O', 'O', 'O', 'O', 'O', 'B-FOLLICLE-NAME', 'I-FOLLICLE-NAME', 'I-FOLLICLE-NAME', 'I-FOLLICLE-NAME', 'O', 'O', 'O', 'O', 'O', 'O', 'O', 'O', 'O', 'O', 'O', 'O', 'O', 'O', 'O', 'O', 'O', 'O', 'O', 'O', 'O', 'O', 'O', 'O', 'O', 'O', 'O', 'O', 'O', 'O', 'O', 'O', 'O', 'O', 'O', 'O', 'O', 'O', 'O', 'O', 'O', 'O', 'O', 'O', 'O', 'O', 'O', 'O', 'O', 'O', 'O', 'O', 'O', 'O', 'O', 'O', 'O', 'O', 'O', 'O', 'O', 'O', 'O', 'O', 'O', 'O', 'O', 'O', 'O', 'O', 'O', 'O', 'O', 'O', 'O', 'O', 'O', 'O', 'O', 'O', 'O', 'O', 'O', 'O', 'O', 'O', 'O', 'O', 'O', 'O', 'O', 'O', 'O', 'O', 'O', 'O', 'O', 'O', 'O', 'O', 'O', 'O', 'O', 'O', 'O', 'B-FOLLICLE-NAME', 'B-FOLLICLE-NAME', 'B-FOLLICLE-NAME', 'B-FOLLICLE-NAME', 'O', 'O', 'O', 'O', 'O', 'O', 'O', 'O', 'O', 'O', 'O', 'O', 'O', 'O', 'O', 'O', 'O', 'O', 'O', 'O', 'O', 'O', 'O', 'O', 'O', 'O', 'O', 'O', 'O', 'O', 'O', 'O', 'O', 'O', 'O', 'O', 'O', 'O', 'O', 'O', 'O', 'O', 'O', 'O', 'O', 'O', 'O', 'O', 'O', 'O', 'O', 'O', 'O', 'O', 'O', 'O', 'O', 'O', 'O', 'B-FOLLICLE-NAME', 'I-FOLLICLE-NAME', 'I-FOLLICLE-NAME', 'I-FOLLICLE-NAME', 'I-FOLLICLE-NAME', 'O', 'O', 'O', 'O', 'O', 'O', 'O', 'O', 'O', 'O', 'O', 'O', 'O', 'O', 'O', 'O', 'B-FOLLICLE-NAME', 'B-FOLLICLE-NAME', 'O', 'O', 'O', 'O', 'O', 'O', 'O', 'O', 'O', 'O', 'O', 'O', 'O', 'O', 'O', 'O', 'O', 'O', 'O', 'O', 'O', 'O', 'O', 'O', 'O', 'O', 'O', 'O', 'O', 'O', 'O', 'O', 'O', 'O', 'O', 'O', 'O', 'B-FOLLICLE-NAME', 'B-FOLLICLE-NAME', 'B-FOLLICLE-NAME', 'O', 'O', 'O', 'O', 'O', 'O', 'O', 'O', 'O', 'O', 'O', 'B-FOLLICLE-NAME', 'I-FOLLICLE-NAME', 'I-FOLLICLE-NAME', 'I-FOLLICLE-NAME', 'O', 'O', 'O', 'O', 'O', 'O', 'O', 'O', 'O', 'O', 'O', 'O', 'O', 'O', 'O', 'O', 'O', 'O', 'O', 'O', 'O', 'O', 'O', 'O', 'O', 'O', 'O', 'O', 'O', 'O', 'O', 'O', 'O', 'O', 'O', 'O', 'O', 'O', 'O', 'O', 'O', 'O', 'O', 'O', 'O', 'O', 'O', 'O', 'O', 'O', 'O', 'O', 'O', 'O', 'O', 'O', 'O', 'O', 'O', 'O', 'O', 'O', 'O', 'O', 'O', 'O', 'O', 'O', 'O', 'O', 'O', 'O', 'O', 'O', 'O', 'O', 'O', 'O', 'O', 'O', 'O', 'B-FOLLICLE-NAME', 'I-FOLLICLE-NAME', 'O', 'O', 'O', 'O', 'O', 'O', 'O', 'O', 'O', 'O', 'O', 'O', 'O', 'O', 'O', 'O', 'O', 'O', 'O', 'O', 'O', 'O', 'O', 'O', 'O', 'B-FOLLICLE-NAME', 'I-FOLLICLE-NAME', 'I-FOLLICLE-NAME', 'I-FOLLICLE-NAME', 'O', 'O', 'O', 'O', 'O', 'O', 'O', 'O', 'O', 'O', 'O', 'O', 'O', 'O', 'O', 'O', 'O', 'O', 'O', 'O', 'O', 'O', 'O', 'O', 'O', 'B-FOLLICLE-NAME', 'I-FOLLICLE-NAME', 'I-FOLLICLE-NAME', 'I-FOLLICLE-NAME', 'I-FOLLICLE-NAME', 'O', 'I-FOLLICLE-NAME', 'O', 'O', 'O', 'O', 'O', 'O', 'O', 'O', 'O', 'O', 'O', 'O', 'O', 'O', 'O', 'O', 'O', 'O', 'O', 'O', 'O', 'O', 'O', 'O', 'O', 'O', 'O', 'O', 'O', 'O', 'O', 'O', 'O', 'O', 'O', 'O', 'O', 'O', 'O', 'O', 'O', 'O', 'O', 'B-FOLLICLE-NAME', 'B-FOLLICLE-NAME', 'I-FOLLICLE-NAME', 'O', 'B-FOLLICLE-NAME', 'B-FOLLICLE-NAME', 'I-FOLLICLE-NAME', 'I-FOLLICLE-NAME', 'I-FOLLICLE-NAME', 'O', 'O', 'O', 'O', 'O', 'O', 'O', 'O', 'O', 'O', 'O', 'O', 'O', 'O', 'O', 'O', 'O', 'O', 'O', 'O', 'O', 'B-FOLLICLE-NAME', 'B-FOLLICLE-NAME', 'B-FOLLICLE-NAME', 'O', 'O', 'O', 'O', 'O', 'O', 'O', 'O', 'O', 'O', 'O', 'O', 'O', 'O', 'O', 'O', 'O', 'O', 'O', 'O', 'O', 'O', 'O', 'O', 'O', 'O', 'O', 'O', 'O', 'O', 'O', 'O', 'O', 'O', 'O', 'O', 'O', 'O', 'O', 'O', 'O', 'O', 'O', 'O', 'O', 'O', 'O', 'O', 'O', 'O', 'O', 'O', 'O', 'O', 'O', 'O', 'O', 'O', 'O', 'O', 'O', 'O', 'O', 'O', 'O', 'O', 'O', 'O', 'O', 'O', 'O', 'O', 'O', 'O', 'O', 'O', 'O', 'O', 'O', 'O', 'O', 'O', 'O', 'O', 'O', 'O', 'O', 'O', 'O', 'B-FOLLICLE-NAME', 'I-FOLLICLE-NAME', 'I-FOLLICLE-NAME', 'I-FOLLICLE-NAME', 'O', 'O', 'O', 'O', 'O', 'O', 'O', 'O', 'O', 'O', 'O', 'O', 'O', 'O', 'O', 'O', 'O', 'O', 'O', 'O', 'O', 'O', 'O', 'O', 'O', 'O', 'O', 'O', 'O', 'O', 'O', 'O', 'O', 'O', 'O', 'O', 'O', 'O', 'O', 'O', 'O', 'O', 'O', 'O', 'O', 'O', 'O', 'O', 'O', 'O', 'O', 'O', 'O', 'O', 'O', 'O', 'O', 'O', 'O', 'O', 'O', 'O', 'O', 'O', 'B-FOLLICLE-NAME', 'B-FOLLICLE-NAME', 'O', 'O', 'O', 'O', 'O', 'O', 'O', 'O', 'O', 'O', 'B-FOLLICLE-NAME', 'I-FOLLICLE-NAME', 'O', 'O', 'O', 'O', 'O', 'O', 'O', 'O', 'O', 'O', 'O', 'O', 'O', 'O', 'O', 'O', 'O', 'O', 'O', 'O', 'O', 'O', 'O', 'O', 'O', 'O', 'O', 'O', 'O', 'B-FOLLICLE-NAME', 'B-FOLLICLE-NAME', 'B-FOLLICLE-NAME', 'B-FOLLICLE-NAME', 'B-FOLLICLE-NAME', 'B-FOLLICLE-NAME', 'B-FOLLICLE-NAME', 'I-FOLLICLE-NAME', 'I-FOLLICLE-NAME', 'I-FOLLICLE-NAME', 'I-FOLLICLE-NAME', 'I-FOLLICLE-NAME', 'B-FOLLICLE-NAME', 'B-FOLLICLE-NAME', 'B-FOLLICLE-NAME', 'B-FOLLICLE-NAME', 'O', 'O', 'O', 'O', 'O', 'O', 'O', 'O', 'O', 'O', 'B-FOLLICLE-NAME', 'I-FOLLICLE-NAME', 'I-FOLLICLE-NAME', 'I-FOLLICLE-NAME', 'O', 'O', 'O', 'O', 'O', 'O', 'O', 'O', 'O', 'O', 'O', 'O', 'O', 'O', 'O', 'O', 'O', 'O', 'O', 'O', 'O', 'O', 'O', 'O', 'O', 'O', 'O', 'O', 'O', 'O', 'O', 'O', 'O', 'O', 'O', 'O', 'O', 'O', 'O', 'O', 'O', 'O', 'O', 'O', 'O', 'O', 'O', 'O', 'O', 'O', 'O', 'O', 'O', 'O', 'O', 'O', 'O', 'O', 'O', 'O', 'O', 'O', 'O', 'O', 'O', 'O', 'O', 'O', 'O', 'O', 'O', 'O', 'O', 'O', 'O', 'O', 'O', 'O', 'O', 'O', 'O', 'O', 'O', 'O', 'B-FOLLICLE-NAME', 'I-FOLLICLE-NAME', 'I-FOLLICLE-NAME', 'I-FOLLICLE-NAME', 'O', 'O', 'O', 'O', 'O', 'O', 'O', 'O', 'O', 'O', 'O', 'O', 'O', 'O', 'O', 'O', 'O', 'O', 'O', 'O', 'O', 'O', 'O', 'O', 'O', 'O', 'O', 'B-FOLLICLE-NAME', 'I-FOLLICLE-NAME', 'I-FOLLICLE-NAME', 'I-FOLLICLE-NAME', 'O', 'O', 'O', 'O', 'O', 'O', 'O', 'O', 'O', 'O', 'O', 'O', 'O', 'O', 'O', 'O', 'O', 'O', 'O', 'O', 'O', 'O', 'O', 'O', 'O', 'O', 'O', 'O', 'O', 'O', 'O', 'O', 'O', 'O', 'O', 'O', 'O', 'O', 'O', 'O', 'O', 'O', 'O', 'O', 'O', 'O', 'O', 'O', 'O', 'O', 'O', 'O', 'O', 'O', 'O', 'O', 'O', 'O', 'O', 'O', 'O', 'O', 'O', 'O', 'O', 'O', 'O', 'O', 'O', 'O', 'O', 'O', 'O', 'O', 'O', 'O', 'O', 'O', 'O', 'O', 'O', 'O', 'B-FOLLICLE-NAME', 'B-FOLLICLE-NAME', 'B-FOLLICLE-NAME', 'B-FOLLICLE-NAME', 'O', 'O', 'O', 'O', 'O', 'O', 'O', 'O', 'O', 'O', 'O', 'B-FOLLICLE-NAME', 'B-FOLLICLE-NAME', 'B-FOLLICLE-NAME', 'B-FOLLICLE-NAME', 'O', 'O', 'O', 'O', 'O', 'O', 'O', 'O', 'O', 'O', 'O', 'O', 'O', 'O', 'O', 'O', 'O', 'O', 'O', 'O', 'O', 'O', 'O', 'O', 'O', 'O', 'B-FOLLICLE-NAME', 'I-FOLLICLE-NAME', 'I-FOLLICLE-NAME', 'I-FOLLICLE-NAME', 'O', 'O', 'O', 'O', 'O', 'O', 'O', 'O', 'O', 'O', 'O', 'O', 'O', 'O', 'O', 'O', 'O', 'O', 'O', 'O', 'O', 'O', 'O', 'O', 'O', 'O', 'O', 'O', 'O', 'O', 'O', 'O', 'O', 'O', 'O', 'O', 'O', 'O', 'O', 'O', 'O', 'O', 'O', 'O', 'O', 'O', 'O', 'O', 'O', 'O', 'O', 'O', 'O', 'O', 'O', 'O', 'O', 'O', 'O', 'O', 'O', 'O', 'O', 'O', 'O', 'O', 'O', 'O', 'O', 'O', 'O', 'O', 'O', 'O', 'O', 'O', 'O', 'O', 'O', 'O', 'O', 'O', 'O', 'O', 'O', 'O', 'O', 'O', 'O', 'O', 'B-FOLLICLE-NAME', 'I-FOLLICLE-NAME', 'I-FOLLICLE-NAME', 'I-FOLLICLE-NAME', 'O', 'O', 'O', 'O', 'O', 'O', 'O', 'O', 'O', 'O', 'O', 'O', 'O', 'O', 'O', 'O', 'B-FOLLICLE-NAME', 'I-FOLLICLE-NAME', 'I-FOLLICLE-NAME', 'I-FOLLICLE-NAME', 'O', 'O', 'O', 'O', 'O', 'O', 'O', 'O', 'O', 'O', 'O', 'O', 'O', 'O', 'O', 'O', 'O', 'O', 'O', 'O', 'O', 'O', 'O', 'O', 'O', 'O', 'O', 'O', 'O', 'O', 'O', 'O', 'O', 'O', 'O', 'O', 'O', 'O', 'O', 'O', 'O', 'O', 'O', 'O', 'O', 'O', 'O', 'O', 'O', 'O', 'O', 'O', 'O', 'O', 'O', 'O', 'O', 'O', 'O', 'O', 'O', 'O', 'O', 'O', 'O', 'O', 'O', 'O', 'O', 'O', 'O', 'O', 'O', 'O', 'O', 'O', 'O', 'O', 'O', 'O', 'O', 'O', 'O', 'O', 'O', 'O', 'O', 'O', 'O', 'O', 'O', 'O', 'O', 'O', 'O', 'O', 'O', 'O', 'O', 'O', 'O', 'O', 'O', 'O', 'O', 'O', 'O', 'O', 'O', 'O', 'B-FOLLICLE-NAME', 'I-FOLLICLE-NAME', 'O', 'O', 'O', 'O', 'O', 'O', 'B-FOLLICLE-NAME', 'B-FOLLICLE-NAME', 'B-FOLLICLE-NAME', 'O', 'O', 'O', 'O', 'O', 'O', 'O', 'O', 'O', 'O', 'O', 'O', 'O', 'O', 'O', 'O', 'O', 'O', 'O', 'O', 'O', 'O', 'O', 'O', 'O', 'O', 'O', 'O', 'O', 'O', 'O', 'O', 'O', 'O', 'O', 'O', 'O', 'O', 'O', 'O', 'O', 'B-FOLLICLE-NAME', 'B-FOLLICLE-NAME', 'B-FOLLICLE-NAME', 'O', 'O', 'O', 'O', 'O', 'O', 'O', 'O', 'O', 'O', 'O', 'O', 'O', 'O', 'O', 'O', 'O', 'O', 'O', 'O', 'O', 'O', 'O', 'O', 'O', 'O', 'O', 'O', 'O', 'O', 'O', 'O', 'O', 'O', 'O', 'O', 'O', 'O', 'O', 'O', 'O', 'O', 'O', 'O', 'O', 'O', 'O', 'O', 'O', 'O', 'O', 'O', 'O', 'O', 'O', 'O', 'O', 'O', 'O', 'O', 'O', 'O', 'O', 'O', 'O', 'O', 'O', 'O', 'O', 'O', 'O', 'O', 'O', 'O', 'O', 'O', 'O', 'O', 'O', 'O', 'O', 'O', 'B-FOLLICLE-NAME', 'I-FOLLICLE-NAME', 'I-FOLLICLE-NAME', 'I-FOLLICLE-NAME', 'I-FOLLICLE-NAME', 'I-FOLLICLE-NAME', 'I-FOLLICLE-NAME', 'I-FOLLICLE-NAME', 'I-FOLLICLE-NAME', 'I-FOLLICLE-NAME', 'I-FOLLICLE-NAME', 'I-FOLLICLE-NAME', 'O', 'O', 'O', 'O', 'O', 'O', 'O', 'O', 'O', 'O', 'O', 'O', 'O', 'O', 'O', 'O', 'O', 'O', 'O', 'O', 'O', 'O', 'O', 'O', 'O', 'O', 'O', 'O', 'O', 'O', 'O', 'O', 'O', 'O', 'O', 'O', 'O', 'O', 'O', 'O', 'O', 'O', 'O', 'O', 'O', 'O', 'O', 'O', 'O', 'O', 'O', 'O', 'O', 'O', 'O', 'O', 'O', 'O', 'O', 'O', 'O', 'O', 'O', 'O', 'O', 'O', 'O', 'O', 'O', 'O', 'O', 'O', 'O', 'O', 'O', 'O', 'O', 'O', 'O', 'O', 'B-FOLLICLE-NAME', 'B-FOLLICLE-NAME', 'B-FOLLICLE-NAME', 'O', 'O', 'O', 'O', 'O', 'B-FOLLICLE-NAME', 'I-FOLLICLE-NAME', 'O', 'O', 'O', 'O', 'O', 'O', 'O', 'O', 'O', 'O', 'O', 'O', 'O', 'O', 'O', 'O', 'O', 'O', 'O', 'O', 'O', 'O', 'O', 'O', 'O', 'O', 'O', 'O', 'O', 'O', 'O', 'O', 'O', 'O', 'O', 'O', 'O', 'O', 'O', 'O', 'O', 'O', 'O', 'O', 'O', 'O', 'O', 'O', 'O', 'O', 'O', 'O', 'O', 'O', 'O', 'O', 'O', 'O', 'O', 'O', 'O', 'O', 'O', 'O', 'O', 'O', 'O', 'O', 'O', 'O', 'O', 'O', 'O', 'O', 'O', 'O', 'O', 'O', 'O', 'O', 'O', 'O', 'O', 'O', 'O', 'O', 'O', 'O', 'O', 'O', 'O', 'O', 'O', 'O', 'O', 'B-FOLLICLE-NAME', 'B-FOLLICLE-NAME', 'B-FOLLICLE-NAME', 'O', 'O', 'O', 'O', 'O', 'O', 'O', 'O', 'O', 'O', 'O', 'O', 'O', 'O', 'O', 'O', 'O', 'O', 'O', 'O', 'O', 'O', 'O', 'O', 'O', 'O', 'O', 'O', 'O', 'O', 'O', 'B-FOLLICLE-NAME', 'I-FOLLICLE-NAME', 'I-FOLLICLE-NAME', 'I-FOLLICLE-NAME', 'O', 'O', 'O', 'O', 'O', 'O', 'O', 'O', 'O', 'O', 'O', 'O', 'O', 'O', 'O', 'O', 'O', 'O', 'O', 'O', 'O', 'O', 'O', 'O', 'O', 'O', 'O', 'O', 'O', 'O', 'O', 'O', 'O', 'O', 'O', 'O', 'O', 'O', 'O', 'O', 'O', 'B-FOLLICLE-NAME', 'I-FOLLICLE-NAME', 'I-FOLLICLE-NAME', 'I-FOLLICLE-NAME', 'I-FOLLICLE-NAME', 'I-FOLLICLE-NAME', 'O', 'O', 'O', 'O', 'O', 'O', 'O', 'O', 'O', 'O', 'O', 'O', 'O', 'O', 'O', 'O', 'O', 'O', 'O', 'O', 'O', 'O', 'O', 'B-FOLLICLE-NAME', 'B-FOLLICLE-NAME', 'B-FOLLICLE-NAME', 'B-FOLLICLE-NAME', 'O', 'O', 'O', 'O', 'O', 'O', 'O', 'O', 'O', 'O', 'O', 'O', 'O', 'O', 'O', 'O', 'O', 'O', 'O', 'O', 'O', 'O', 'O', 'O', 'O', 'O', 'O', 'O', 'O', 'O', 'O', 'O', 'O', 'O', 'O', 'O', 'O', 'O', 'O', 'O', 'O', 'O', 'O', 'O', 'O', 'O', 'O', 'O', 'O', 'O', 'O', 'O', 'O', 'O', 'O', 'O', 'O', 'O', 'O', 'O', 'O', 'O', 'O', 'O', 'O', 'O', 'O', 'O', 'O', 'O', 'O', 'O', 'O', 'O', 'O', 'O', 'O', 'O', 'O', 'O', 'O', 'O', 'O', 'O', 'O', 'O', 'O', 'O', 'O', 'O', 'O', 'O', 'O', 'O', 'O', 'O', 'O', 'O', 'O', 'O', 'O', 'O', 'O', 'O', 'O', 'O', 'O', 'O', 'O', 'O', 'O', 'O', 'O', 'O', 'O', 'O', 'O', 'O', 'O', 'O', 'O', 'O', 'B-FOLLICLE-NAME', 'I-FOLLICLE-NAME', 'I-FOLLICLE-NAME', 'I-FOLLICLE-NAME', 'O', 'O', 'O', 'O', 'O', 'O', 'O', 'O', 'O', 'O', 'O', 'O', 'O', 'O', 'O', 'O', 'O', 'O', 'O', 'O', 'O', 'O', 'O', 'O', 'B-FOLLICLE-NAME', 'B-FOLLICLE-NAME', 'B-FOLLICLE-NAME', 'O', 'O', 'O', 'O', 'O', 'O', 'B-FOLLICLE-NAME', 'B-FOLLICLE-NAME', 'B-FOLLICLE-NAME', 'O', 'O', 'O', 'O', 'O', 'O', 'O', 'O', 'O', 'O', 'O', 'O', 'O', 'O', 'O', 'O', 'O', 'O', 'O', 'O', 'O', 'O', 'O', 'O', 'O', 'O', 'O', 'O', 'O', 'O', 'O', 'O', 'O', 'O', 'O', 'O', 'O', 'O', 'O', 'O', 'O', 'O', 'O', 'O', 'O', 'O', 'O', 'O', 'O', 'O', 'O', 'O', 'O', 'O', 'O', 'O', 'O', 'O', 'O', 'O', 'O', 'O', 'O', 'O', 'O', 'O', 'O', 'O', 'O', 'O', 'O', 'O', 'O', 'O', 'O', 'O', 'O', 'O', 'O', 'O', 'O', 'O', 'O', 'O', 'O', 'O', 'O', 'O', 'O', 'O', 'O', 'O', 'O', 'O', 'O', 'O', 'O', 'O', 'O', 'O', 'O', 'O', 'O', 'O', 'O', 'O', 'O', 'O', 'O', 'O', 'O', 'O', 'B-FOLLICLE-NAME', 'I-FOLLICLE-NAME', 'O', 'O', 'O', 'O', 'O', 'O', 'O', 'O', 'O', 'B-FOLLICLE-NAME', 'I-FOLLICLE-NAME', 'I-FOLLICLE-NAME', 'I-FOLLICLE-NAME', 'O', 'O', 'O', 'O', 'O', 'O', 'O', 'O', 'O', 'O', 'O', 'O', 'O', 'O', 'O', 'O', 'O', 'O', 'O', 'O', 'O', 'O', 'O', 'O', 'O', 'O', 'O', 'O', 'O', 'O', 'O', 'O', 'O', 'O', 'O', 'O', 'O', 'O', 'O', 'O', 'O', 'O', 'O', 'O', 'O', 'O', 'O', 'O', 'O', 'O', 'O', 'O', 'O', 'B-FOLLICLE-NAME', 'B-FOLLICLE-NAME', 'B-FOLLICLE-NAME', 'B-FOLLICLE-NAME', 'B-FOLLICLE-NAME', 'B-FOLLICLE-NAME', 'B-FOLLICLE-NAME', 'I-FOLLICLE-NAME', 'I-FOLLICLE-NAME', 'I-FOLLICLE-NAME', 'I-FOLLICLE-NAME', 'I-FOLLICLE-NAME', 'B-FOLLICLE-NAME', 'B-FOLLICLE-NAME', 'B-FOLLICLE-NAME', 'B-FOLLICLE-NAME', 'O', 'O', 'O', 'O', 'O', 'O', 'O', 'O', 'O', 'O', 'O', 'O', 'O', 'O', 'O', 'O', 'O', 'O', 'O', 'O', 'O', 'B-FOLLICLE-NAME', 'B-FOLLICLE-NAME', 'I-FOLLICLE-NAME', 'I-FOLLICLE-NAME', 'O', 'O', 'O', 'O', 'O', 'O', 'O', 'O', 'O', 'O', 'O', 'O', 'O', 'O', 'O', 'O', 'O', 'O', 'O', 'O', 'O', 'O', 'O', 'O', 'O', 'O', 'O', 'O', 'O', 'O', 'O', 'B-FOLLICLE-NAME', 'I-FOLLICLE-NAME', 'I-FOLLICLE-NAME', 'I-FOLLICLE-NAME', 'O', 'O', 'O', 'O', 'O', 'O', 'O', 'O', 'O', 'O', 'O', 'O', 'O', 'O', 'O', 'O', 'O', 'O', 'O', 'O', 'O', 'O', 'O', 'O', 'O', 'O', 'O', 'O', 'O', 'O', 'O', 'O', 'O', 'O', 'O', 'O', 'O', 'O', 'O', 'O', 'O', 'O', 'O', 'O', 'O', 'O', 'O', 'O', 'O', 'O', 'O', 'O', 'O', 'O', 'O', 'O', 'O', 'O', 'O', 'O', 'O', 'O', 'O', 'O', 'B-FOLLICLE-NAME', 'B-FOLLICLE-NAME', 'B-FOLLICLE-NAME', 'O', 'O', 'O', 'O', 'O', 'O', 'O', 'O', 'O', 'O', 'O', 'O', 'O', 'O', 'O', 'O', 'O', 'O', 'O', 'O', 'O', 'O', 'O', 'O', 'O', 'B-FOLLICLE-NAME', 'B-FOLLICLE-NAME', 'B-FOLLICLE-NAME', 'O', 'O', 'O', 'O', 'O', 'O', 'O', 'O', 'O', 'O', 'O', 'O', 'O', 'O', 'O', 'O', 'O', 'O', 'O', 'O', 'O', 'O', 'O', 'O', 'O', 'O', 'O', 'O', 'O', 'O', 'O', 'O', 'O', 'O', 'O', 'O', 'O', 'O', 'O', 'O', 'O', 'O', 'O', 'O', 'O', 'O', 'O', 'O', 'O', 'O', 'O', 'O', 'O', 'O', 'O', 'O', 'O', 'O', 'O', 'O', 'O', 'O', 'O', 'O', 'O', 'O', 'O', 'O', 'O', 'O', 'O', 'O', 'O', 'O', 'O', 'O', 'O', 'O', 'O', 'O', 'O', 'O', 'O', 'O', 'O', 'O', 'O', 'O', 'O', 'O', 'O', 'O', 'O', 'O', 'O', 'O', 'O', 'O', 'O', 'O', 'O', 'O', 'O', 'O', 'O', 'O', 'O', 'O', 'O', 'O', 'O', 'O', 'O', 'O', 'O', 'O', 'O', 'O', 'O', 'O', 'O', 'O', 'O', 'O', 'O', 'O', 'O', 'O', 'O', 'O', 'O', 'O', 'O', 'O', 'O', 'O', 'O', 'O', 'O', 'O', 'O', 'O', 'O', 'B-FOLLICLE-NAME', 'B-FOLLICLE-NAME', 'O', 'O', 'O', 'O', 'O', 'O', 'B-FOLLICLE-NAME', 'B-FOLLICLE-NAME', 'I-FOLLICLE-NAME', 'I-FOLLICLE-NAME', 'I-FOLLICLE-NAME', 'O', 'O', 'O', 'O', 'O', 'O', 'O', 'O', 'O', 'O', 'O', 'O', 'O', 'O', 'B-FOLLICLE-NAME', 'B-FOLLICLE-NAME', 'I-FOLLICLE-NAME', 'O', 'O', 'O', 'O', 'O', 'O', 'O', 'O', 'O', 'O', 'O', 'O', 'O', 'O', 'O', 'O', 'O', 'O', 'O', 'O', 'O', 'O', 'O', 'O', 'O', 'O', 'O', 'B-FOLLICLE-NAME', 'B-FOLLICLE-NAME', 'B-FOLLICLE-NAME', 'O', 'O', 'O', 'O', 'O', 'O', 'O', 'O', 'O', 'O', 'O', 'O', 'O', 'O', 'O', 'O', 'O', 'O', 'O', 'O', 'O', 'O', 'O', 'O', 'O', 'O', 'O', 'O', 'O', 'O', 'O', 'O', 'O', 'O', 'O', 'O', 'O', 'O', 'O', 'O', 'O', 'O', 'O', 'O', 'O', 'O', 'O', 'O', 'O', 'O', 'O', 'O', 'O', 'O', 'O', 'O', 'O', 'O', 'O', 'O', 'O', 'O', 'O', 'O', 'O', 'O', 'O', 'O', 'O', 'O', 'O', 'O', 'O', 'O', 'O', 'O', 'O', 'O', 'O', 'O', 'O', 'O', 'O', 'O', 'O', 'O', 'O', 'O', 'O', 'O', 'O', 'O', 'O', 'O', 'O', 'O', 'O', 'O', 'O', 'O', 'O', 'O', 'O', 'O', 'O', 'O', 'O', 'O', 'O', 'O', 'O', 'B-FOLLICLE-NAME', 'I-FOLLICLE-NAME', 'I-FOLLICLE-NAME', 'I-FOLLICLE-NAME', 'I-FOLLICLE-NAME', 'I-FOLLICLE-NAME', 'O', 'O', 'O', 'O', 'O', 'O', 'O', 'O', 'O', 'O', 'O', 'O', 'O', 'O', 'O', 'O', 'O', 'O', 'O', 'O', 'O', 'O', 'O', 'O', 'O', 'O', 'O', 'B-FOLLICLE-NAME', 'B-FOLLICLE-NAME', 'B-FOLLICLE-NAME', 'O', 'O', 'O', 'O', 'O', 'O', 'O', 'O', 'O', 'O', 'O', 'O', 'O', 'O', 'O', 'O', 'O', 'O', 'B-FOLLICLE-NAME', 'I-FOLLICLE-NAME', 'I-FOLLICLE-NAME', 'I-FOLLICLE-NAME', 'O', 'O', 'O', 'O', 'O', 'O', 'O', 'O', 'O', 'O', 'O', 'O', 'O', 'O', 'B-FOLLICLE-NAME', 'I-FOLLICLE-NAME', 'I-FOLLICLE-NAME', 'I-FOLLICLE-NAME', 'I-FOLLICLE-NAME', 'O', 'O', 'O', 'O', 'O', 'O', 'O', 'O', 'O', 'B-FOLLICLE-NAME', 'B-FOLLICLE-NAME', 'O', 'O', 'O', 'O', 'O', 'O', 'O', 'O', 'O', 'O', 'O', 'O', 'O', 'O', 'O', 'O', 'O', 'O', 'O', 'O', 'B-FOLLICLE-NAME', 'I-FOLLICLE-NAME', 'O', 'O', 'O', 'O', 'O', 'O', 'O', 'O', 'B-FOLLICLE-NAME', 'I-FOLLICLE-NAME', 'I-FOLLICLE-NAME', 'I-FOLLICLE-NAME', 'I-FOLLICLE-NAME', 'I-FOLLICLE-NAME', 'O', 'O', 'O', 'O', 'O', 'O', 'O', 'O', 'O', 'O', 'O', 'O', 'O', 'O', 'O', 'O', 'O', 'O', 'O', 'O', 'O', 'O', 'O', 'O', 'O', 'O', 'O', 'O', 'O', 'O', 'O', 'O', 'O', 'O', 'O', 'O', 'O', 'O', 'O', 'O', 'O', 'O', 'O', 'O', 'O', 'O', 'O', 'O', 'O', 'O', 'O', 'O', 'O', 'O', 'O', 'O', 'O', 'O', 'O', 'O', 'O', 'O', 'O', 'O', 'O', 'O', 'O', 'O', 'O', 'O', 'O', 'O', 'O', 'O', 'O', 'O', 'O', 'O', 'O', 'O', 'O', 'O', 'O', 'O', 'O', 'O', 'O', 'O', 'O', 'O', 'O', 'O', 'O', 'B-FOLLICLE-NAME', 'I-FOLLICLE-NAME', 'I-FOLLICLE-NAME', 'I-FOLLICLE-NAME', 'O', 'O', 'O', 'O', 'O', 'O', 'O', 'O', 'O', 'O', 'O', 'O', 'O', 'O', 'O', 'B-FOLLICLE-NAME', 'I-FOLLICLE-NAME', 'I-FOLLICLE-NAME', 'I-FOLLICLE-NAME', 'I-FOLLICLE-NAME', 'I-FOLLICLE-NAME', 'O', 'O', 'O', 'O', 'O', 'O', 'O', 'O', 'O', 'O', 'O', 'O', 'O', 'O', 'O', 'O', 'O', 'O', 'O', 'O', 'B-FOLLICLE-NAME', 'B-FOLLICLE-NAME', 'I-FOLLICLE-NAME', 'I-FOLLICLE-NAME', 'I-FOLLICLE-NAME', 'I-FOLLICLE-NAME', 'O', 'O', 'O', 'O', 'O', 'O', 'B-FOLLICLE-NAME', 'I-FOLLICLE-NAME', 'I-FOLLICLE-NAME', 'I-FOLLICLE-NAME', 'O', 'O', 'O', 'O', 'O', 'O', 'O', 'O', 'O', 'O', 'O', 'O', 'O', 'O', 'O', 'O', 'O', 'B-FOLLICLE-NAME', 'B-FOLLICLE-NAME', 'B-FOLLICLE-NAME', 'I-FOLLICLE-NAME', 'I-FOLLICLE-NAME', 'O', 'O', 'O', 'O', 'O', 'O', 'O', 'O', 'O', 'O', 'B-FOLLICLE-NAME', 'I-FOLLICLE-NAME', 'I-FOLLICLE-NAME', 'I-FOLLICLE-NAME', 'I-FOLLICLE-NAME', 'I-FOLLICLE-NAME', 'O', 'O', 'O', 'O', 'O', 'O', 'O', 'O', 'O', 'O', 'O', 'O', 'O', 'O', 'O', 'O', 'B-FOLLICLE-NAME', 'I-FOLLICLE-NAME', 'I-FOLLICLE-NAME', 'I-FOLLICLE-NAME', 'O', 'O', 'O', 'O', 'O', 'O', 'O', 'O', 'O', 'O', 'O', 'O', 'O', 'O', 'O', 'O', 'O', 'O', 'O', 'O', 'O', 'O', 'O', 'O', 'O', 'O', 'O', 'O', 'O', 'O', 'O', 'O', 'O', 'O', 'O', 'O', 'O', 'O', 'O', 'O', 'O', 'O', 'O', 'O', 'O', 'O', 'O', 'O', 'O', 'O', 'O', 'O', 'O', 'O', 'O', 'O', 'O', 'O', 'O', 'O', 'O', 'O', 'O', 'O', 'O', 'O', 'O', 'O', 'O', 'O', 'O', 'O', 'O', 'O', 'O', 'O', 'O', 'O', 'O', 'O', 'B-FOLLICLE-NAME', 'B-FOLLICLE-NAME', 'B-FOLLICLE-NAME', 'O', 'O', 'O', 'O', 'O', 'O', 'B-FOLLICLE-NAME', 'I-FOLLICLE-NAME', 'O', 'O', 'O', 'O', 'O', 'O', 'O', 'O', 'O', 'O', 'O', 'O', 'O', 'O', 'O', 'O', 'O', 'O', 'O', 'O', 'O', 'O', 'O', 'O', 'O', 'O', 'O', 'O', 'O', 'O', 'O', 'O', 'B-FOLLICLE-NAME', 'I-FOLLICLE-NAME', 'I-FOLLICLE-NAME', 'I-FOLLICLE-NAME', 'I-FOLLICLE-NAME', 'I-FOLLICLE-NAME', 'I-FOLLICLE-NAME', 'I-FOLLICLE-NAME', 'O', 'O', 'O', 'O', 'O', 'O', 'O', 'O', 'O', 'O', 'O', 'O', 'O', 'O', 'O', 'B-FOLLICLE-NAME', 'B-FOLLICLE-NAME', 'B-FOLLICLE-NAME', 'O', 'O', 'O', 'O', 'O', 'O', 'O', 'B-FOLLICLE-NAME', 'I-FOLLICLE-NAME', 'O', 'O', 'O', 'O', 'O', 'O', 'O', 'O', 'O', 'O', 'O', 'O', 'O', 'O', 'O', 'O', 'O', 'O', 'O', 'O', 'O', 'O', 'O', 'O', 'O', 'O', 'O', 'O', 'O', 'O', 'O', 'O', 'O', 'O', 'O', 'O', 'O', 'O', 'O', 'O', 'O', 'O', 'O', 'O', 'O', 'O', 'O', 'O', 'O', 'O', 'O', 'O', 'O', 'B-FOLLICLE-NAME', 'B-FOLLICLE-NAME', 'B-FOLLICLE-NAME', 'O', 'O', 'O', 'O', 'O', 'O', 'B-FOLLICLE-NAME', 'B-FOLLICLE-NAME', 'B-FOLLICLE-NAME', 'O', 'O', 'O', 'O', 'O', 'O', 'O', 'O', 'O', 'O', 'O', 'O', 'O', 'O', 'O', 'O', 'O', 'O', 'O', 'O', 'O', 'O', 'O', 'O', 'O', 'O', 'O', 'O', 'O', 'O', 'O', 'O', 'O', 'O', 'O', 'O', 'O', 'O', 'O', 'O', 'O', 'O', 'O', 'O', 'O', 'O', 'O', 'B-FOLLICLE-NAME', 'I-FOLLICLE-NAME', 'I-FOLLICLE-NAME', 'I-FOLLICLE-NAME', 'I-FOLLICLE-NAME', 'O', 'O', 'O', 'O', 'O', 'O', 'O', 'O', 'O', 'O', 'O', 'B-FOLLICLE-NAME', 'B-FOLLICLE-NAME', 'B-FOLLICLE-NAME', 'O', 'O', 'O', 'O', 'O', 'O', 'O', 'O', 'O', 'O', 'O', 'O', 'O', 'O', 'O', 'O', 'O', 'O', 'O', 'O', 'O', 'O', 'O', 'O', 'O', 'O', 'O', 'O', 'O', 'O', 'O', 'O', 'O', 'B-FOLLICLE-NAME', 'B-FOLLICLE-NAME', 'B-FOLLICLE-NAME', 'O', 'O', 'O', 'O', 'O', 'O', 'O', 'O', 'O', 'O', 'O', 'O', 'O', 'O', 'O', 'O', 'O', 'O', 'O', 'O', 'O', 'O', 'O', 'O', 'O', 'O', 'O', 'O', 'O', 'O', 'O', 'O', 'O', 'O', 'O', 'O', 'O', 'O', 'O', 'O', 'O', 'O', 'O', 'O', 'O', 'O', 'O', 'O', 'O', 'O', 'O', 'O', 'O', 'O', 'O', 'O', 'O', 'O', 'O', 'O', 'B-FOLLICLE-NAME', 'I-FOLLICLE-NAME', 'I-FOLLICLE-NAME', 'I-FOLLICLE-NAME', 'O', 'O', 'O', 'O', 'O', 'O', 'O', 'O', 'O', 'O', 'O', 'O', 'O', 'O', 'O', 'O', 'O', 'O', 'O', 'O', 'O', 'O', 'O', 'O', 'O', 'O', 'O', 'O', 'O', 'O', 'O', 'O', 'O', 'O', 'O', 'O', 'O', 'O', 'O', 'O', 'O', 'O', 'O', 'O', 'O', 'O', 'O', 'O', 'O', 'O', 'O', 'O', 'O', 'O', 'O', 'O', 'O', 'O', 'O', 'O', 'O', 'B-FOLLICLE-NAME', 'I-FOLLICLE-NAME', 'I-FOLLICLE-NAME', 'I-FOLLICLE-NAME', 'O', 'O', 'O', 'O', 'O', 'O', 'O', 'O', 'O', 'O', 'O', 'O', 'O', 'O', 'O', 'O', 'O', 'O', 'O', 'O', 'O', 'O', 'O', 'O', 'O', 'O', 'O', 'O', 'O', 'O', 'O', 'O', 'O', 'O', 'O', 'O', 'B-FOLLICLE-NAME', 'B-FOLLICLE-NAME', 'B-FOLLICLE-NAME', 'O', 'O', 'O', 'O', 'O', 'O', 'O', 'O', 'O', 'B-FOLLICLE-NAME', 'I-FOLLICLE-NAME', 'O', 'O', 'O', 'O', 'O', 'O', 'O', 'O', 'O', 'O', 'O', 'O', 'O', 'O', 'O', 'O', 'O', 'O', 'O', 'O', 'O', 'O', 'O', 'O', 'O', 'O', 'O', 'O', 'O', 'O', 'O', 'O', 'O', 'O', 'O', 'O', 'O', 'O', 'O', 'O', 'O', 'B-FOLLICLE-NAME', 'I-FOLLICLE-NAME', 'I-FOLLICLE-NAME', 'I-FOLLICLE-NAME', 'O', 'B-FOLLICLE-NAME', 'I-FOLLICLE-NAME', 'I-FOLLICLE-NAME', 'I-FOLLICLE-NAME', 'I-FOLLICLE-NAME', 'I-FOLLICLE-NAME', 'I-FOLLICLE-NAME', 'I-FOLLICLE-NAME', 'I-FOLLICLE-NAME', 'I-FOLLICLE-NAME', 'B-FOLLICLE-NAME', 'B-FOLLICLE-NAME', 'B-FOLLICLE-NAME', 'B-FOLLICLE-NAME', 'O', 'O', 'O', 'O', 'O', 'O', 'O', 'O', 'O', 'O', 'O', 'O', 'O', 'O', 'O', 'O', 'O', 'O', 'O', 'O', 'O', 'O', 'O', 'O', 'O', 'O', 'O', 'O', 'O', 'O', 'O', 'O', 'O', 'O', 'O', 'O', 'O', 'O', 'O', 'O', 'O', 'O', 'O', 'O', 'O', 'O', 'O', 'O', 'O', 'O', 'O', 'O', 'O', 'B-FOLLICLE-NAME', 'B-FOLLICLE-NAME', 'B-FOLLICLE-NAME', 'O', 'O', 'O', 'O', 'O', 'O', 'O', 'B-FOLLICLE-NAME', 'B-FOLLICLE-NAME', 'B-FOLLICLE-NAME', 'O', 'O', 'O', 'O', 'O', 'O', 'B-FOLLICLE-NAME', 'B-FOLLICLE-NAME', 'B-FOLLICLE-NAME', 'O', 'O', 'O', 'O', 'O', 'O', 'O', 'O', 'O', 'O', 'O', 'O', 'O', 'O', 'O', 'O', 'O', 'O', 'O', 'B-FOLLICLE-NAME', 'I-FOLLICLE-NAME', 'I-FOLLICLE-NAME', 'I-FOLLICLE-NAME', 'I-FOLLICLE-NAME', 'I-FOLLICLE-NAME', 'O', 'O', 'O', 'O', 'O', 'O', 'B-FOLLICLE-NAME', 'I-FOLLICLE-NAME', 'O', 'O', 'O', 'O', 'O', 'O', 'O', 'O', 'O', 'B-FOLLICLE-NAME', 'B-FOLLICLE-NAME', 'B-FOLLICLE-NAME', 'O', 'O', 'O', 'O', 'O', 'O', 'O', 'B-FOLLICLE-NAME', 'B-FOLLICLE-NAME', 'B-FOLLICLE-NAME', 'O', 'O', 'O', 'O', 'O', 'O', 'O', 'O', 'O', 'O', 'O', 'O', 'O', 'O', 'O', 'O', 'O', 'O', 'O', 'O', 'O', 'O', 'O', 'O', 'O', 'O', 'O', 'O', 'B-FOLLICLE-NAME', 'I-FOLLICLE-NAME', 'I-FOLLICLE-NAME', 'I-FOLLICLE-NAME', 'I-FOLLICLE-NAME', 'O', 'O', 'B-FOLLICLE-NAME', 'B-FOLLICLE-NAME', 'B-FOLLICLE-NAME', 'B-FOLLICLE-NAME', 'I-FOLLICLE-NAME', 'I-FOLLICLE-NAME', 'O', 'O', 'O', 'O', 'O', 'O', 'O', 'O', 'O', 'O', 'O', 'O', 'O', 'O', 'O', 'O', 'O', 'O', 'O', 'O', 'O', 'O', 'O', 'O', 'O', 'O', 'O', 'O', 'O', 'O', 'O', 'O', 'O', 'O', 'O', 'O', 'O', 'O', 'O', 'O', 'O', 'O', 'O', 'O', 'O', 'O', 'O', 'O', 'O', 'O', 'O', 'O', 'O', 'O', 'O', 'O', 'O', 'O', 'O', 'O', 'O', 'O', 'O', 'O', 'O', 'O', 'O', 'O', 'O', 'O', 'O', 'O', 'O', 'O', 'O', 'B-FOLLICLE-NAME', 'B-FOLLICLE-NAME', 'B-FOLLICLE-NAME', 'B-FOLLICLE-NAME', 'B-FOLLICLE-NAME', 'B-FOLLICLE-NAME', 'B-FOLLICLE-NAME', 'I-FOLLICLE-NAME', 'I-FOLLICLE-NAME', 'B-FOLLICLE-NAME', 'B-FOLLICLE-NAME', 'B-FOLLICLE-NAME', 'B-FOLLICLE-NAME', 'B-FOLLICLE-NAME', 'O', 'O', 'O', 'O', 'O', 'O', 'O', 'O', 'O', 'O', 'O', 'O', 'B-FOLLICLE-NAME', 'I-FOLLICLE-NAME', 'I-FOLLICLE-NAME', 'I-FOLLICLE-NAME', 'O', 'O', 'O', 'O', 'O', 'O', 'O', 'O', 'O', 'O', 'O', 'O', 'O', 'O', 'O', 'O', 'O', 'O', 'O', 'O', 'O', 'O', 'O', 'O', 'O', 'O', 'O', 'O', 'O', 'O', 'B-FOLLICLE-NAME', 'I-FOLLICLE-NAME', 'I-FOLLICLE-NAME', 'I-FOLLICLE-NAME', 'I-FOLLICLE-NAME', 'I-FOLLICLE-NAME', 'I-FOLLICLE-NAME', 'I-FOLLICLE-NAME', 'I-FOLLICLE-NAME', 'O', 'O', 'B-FOLLICLE-NAME', 'I-FOLLICLE-NAME', 'I-FOLLICLE-NAME', 'I-FOLLICLE-NAME', 'I-FOLLICLE-NAME', 'O', 'O', 'O', 'O', 'O', 'O', 'O', 'O', 'O', 'O', 'O', 'O', 'O', 'O', 'O', 'O', 'O', 'O', 'O', 'O', 'O', 'O', 'O', 'O', 'O', 'B-FOLLICLE-NAME', 'B-FOLLICLE-NAME', 'B-FOLLICLE-NAME', 'I-FOLLICLE-NAME', 'O', 'O', 'O', 'O', 'O', 'O', 'O', 'O', 'O', 'O', 'O', 'O', 'O', 'O', 'O', 'O', 'O', 'O', 'O', 'O', 'O', 'O', 'O', 'O', 'O', 'O', 'O', 'O', 'B-FOLLICLE-NAME', 'I-FOLLICLE-NAME', 'O', 'O', 'O', 'O', 'O', 'O', 'O', 'O', 'O', 'O', 'O', 'O', 'O', 'O', 'O', 'O', 'O', 'O', 'O', 'O', 'O', 'O', 'O', 'O', 'O', 'O', 'O', 'O', 'O', 'O', 'O', 'O', 'O', 'O', 'O', 'O', 'O', 'O', 'O', 'O', 'O', 'O', 'O', 'O', 'O', 'O', 'O', 'O', 'O', 'O', 'O', 'O', 'O', 'O', 'O', 'O', 'O', 'O', 'O', 'O', 'O', 'O', 'O', 'O', 'O', 'O', 'O', 'O', 'O', 'O', 'O', 'O', 'O', 'O', 'O', 'O', 'O', 'O', 'O', 'O', 'O', 'O', 'O', 'O', 'O', 'O', 'O', 'O', 'O', 'O', 'O', 'O', 'O', 'O', 'O', 'O', 'O', 'O', 'O', 'O', 'O', 'O', 'O', 'O', 'O', 'B-FOLLICLE-NAME', 'I-FOLLICLE-NAME', 'I-FOLLICLE-NAME', 'I-FOLLICLE-NAME', 'O', 'O', 'O', 'O', 'O', 'O', 'O', 'O', 'O', 'O', 'O', 'O', 'O', 'O', 'O', 'O', 'O', 'O', 'O', 'O', 'O', 'O', 'O', 'O', 'O', 'O', 'O', 'O', 'O', 'O', 'O', 'O', 'O', 'O', 'O', 'O', 'O', 'O', 'O', 'O', 'O', 'O', 'O', 'O', 'O', 'O', 'O', 'O', 'O', 'O', 'O', 'O', 'O', 'O', 'O', 'O', 'O', 'O', 'O', 'O', 'O', 'O', 'O', 'O', 'O', 'O', 'O', 'O', 'B-FOLLICLE-NAME', 'I-FOLLICLE-NAME', 'I-FOLLICLE-NAME', 'I-FOLLICLE-NAME', 'O', 'O', 'O', 'O', 'O', 'O', 'O', 'O', 'O', 'O', 'O', 'O', 'O', 'O', 'O', 'O', 'O', 'O', 'O', 'O', 'O', 'O', 'O', 'O', 'O', 'O', 'O', 'O', 'O', 'O', 'O', 'O', 'B-FOLLICLE-NAME', 'B-FOLLICLE-NAME', 'O', 'O', 'O', 'O', 'O', 'O', 'O', 'O', 'O', 'O', 'O', 'O', 'O', 'O', 'O', 'O', 'O', 'O', 'O', 'O', 'O', 'O', 'O', 'O', 'B-FOLLICLE-NAME', 'B-FOLLICLE-NAME', 'B-FOLLICLE-NAME', 'O', 'O', 'O', 'O', 'O', 'B-FOLLICLE-NAME', 'B-FOLLICLE-NAME', 'B-FOLLICLE-NAME', 'O', 'O', 'O', 'O', 'O', 'O', 'O', 'O', 'O', 'O', 'O', 'O', 'O', 'O', 'O', 'O', 'O', 'O', 'B-FOLLICLE-NAME', 'I-FOLLICLE-NAME', 'I-FOLLICLE-NAME', 'I-FOLLICLE-NAME', 'I-FOLLICLE-NAME', 'I-FOLLICLE-NAME', 'I-FOLLICLE-NAME', 'I-FOLLICLE-NAME', 'I-FOLLICLE-NAME', 'I-FOLLICLE-NAME', 'B-FOLLICLE-NAME', 'B-FOLLICLE-NAME', 'B-FOLLICLE-NAME', 'B-FOLLICLE-NAME', 'O', 'O', 'O', 'O', 'O', 'O', 'O', 'O', 'O', 'O', 'O', 'O', 'O', 'O', 'O', 'O', 'O', 'O', 'O', 'O', 'O', 'O', 'O', 'O', 'O', 'O', 'O', 'O', 'O', 'O', 'O', 'O', 'O', 'O', 'O', 'O', 'B-FOLLICLE-NAME', 'B-FOLLICLE-NAME', 'B-FOLLICLE-NAME', 'O', 'O', 'O', 'O', 'O', 'O', 'O', 'O', 'O', 'O', 'O', 'O', 'O', 'O', 'B-FOLLICLE-NAME', 'I-FOLLICLE-NAME', 'O', 'O', 'O', 'O', 'O', 'O', 'O', 'O', 'O', 'O', 'O', 'O', 'O', 'B-FOLLICLE-NAME', 'B-FOLLICLE-NAME', 'B-FOLLICLE-NAME', 'O', 'O', 'O', 'B-FOLLICLE-NAME', 'I-FOLLICLE-NAME', 'I-FOLLICLE-NAME', 'I-FOLLICLE-NAME', 'I-FOLLICLE-NAME', 'O', 'O', 'O', 'O', 'O', 'O', 'O', 'O', 'O', 'O', 'O', 'O', 'O', 'O', 'O', 'O', 'O', 'O', 'O', 'O', 'O', 'O', 'O', 'O', 'O', 'O', 'O', 'O', 'O', 'O', 'O', 'O', 'O', 'O', 'O', 'O', 'O', 'O', 'O', 'O', 'O', 'O', 'O', 'O', 'O', 'O', 'O', 'O', 'O', 'O', 'O', 'O', 'O', 'O', 'O', 'O', 'O', 'O', 'B-FOLLICLE-NAME', 'I-FOLLICLE-NAME', 'I-FOLLICLE-NAME', 'O', 'O', 'O', 'O', 'O', 'O', 'O', 'O', 'O', 'O', 'O', 'O', 'O', 'O', 'O', 'O', 'O', 'O', 'O', 'O', 'O', 'O', 'O', 'O', 'O', 'B-FOLLICLE-NAME', 'I-FOLLICLE-NAME', 'I-FOLLICLE-NAME', 'I-FOLLICLE-NAME', 'I-FOLLICLE-NAME', 'I-FOLLICLE-NAME', 'O', 'O', 'O', 'O', 'O', 'O', 'O', 'O', 'O', 'O', 'O', 'O', 'O', 'O', 'O', 'B-FOLLICLE-NAME', 'I-FOLLICLE-NAME', 'I-FOLLICLE-NAME', 'I-FOLLICLE-NAME', 'I-FOLLICLE-NAME', 'O', 'O', 'O', 'O', 'O', 'O', 'O', 'O', 'B-FOLLICLE-NAME', 'B-FOLLICLE-NAME', 'B-FOLLICLE-NAME', 'I-FOLLICLE-NAME', 'O', 'O', 'O', 'O', 'O', 'O', 'O', 'O', 'O', 'O', 'O', 'O', 'O', 'O', 'O', 'O', 'O', 'O', 'O', 'O', 'O', 'O', 'O', 'O', 'O', 'O', 'O', 'O', 'O', 'O', 'O', 'O', 'O', 'O', 'O', 'O', 'O', 'O', 'O', 'O', 'O', 'O', 'O', 'O', 'O', 'O', 'O', 'O', 'O', 'O', 'O', 'O', 'O', 'O', 'O', 'O', 'O', 'O', 'O', 'O', 'O', 'O', 'O', 'O', 'O', 'O', 'O', 'O', 'O', 'O', 'O', 'O', 'O', 'O', 'O', 'O', 'O', 'O', 'O', 'O', 'O', 'O', 'O', 'O', 'O', 'O', 'O', 'O', 'O', 'O', 'O', 'O', 'O', 'O', 'O', 'O', 'O', 'O', 'O', 'O', 'O', 'O', 'O', 'O', 'B-FOLLICLE-NAME', 'B-FOLLICLE-NAME', 'B-FOLLICLE-NAME', 'O', 'O', 'O', 'O', 'O', 'O', 'O', 'O', 'O', 'O', 'O', 'O', 'O', 'O', 'O', 'O', 'O', 'O', 'O', 'O', 'O', 'O', 'O', 'O', 'O', 'O', 'O', 'O', 'O', 'O', 'O', 'O', 'O', 'O', 'O', 'O', 'O', 'O', 'O', 'O', 'O', 'O', 'O', 'O', 'O', 'O', 'O', 'O', 'O', 'O', 'O', 'O', 'O', 'O', 'O', 'O', 'O', 'O', 'O', 'O', 'O', 'O', 'O', 'O', 'O', 'O', 'O', 'O', 'O', 'O', 'O', 'O', 'O', 'O', 'O', 'O', 'O', 'O', 'O', 'O', 'O', 'O', 'O', 'O', 'O', 'O', 'O', 'O', 'O', 'O', 'O', 'O', 'O', 'O', 'O', 'B-FOLLICLE-NAME', 'I-FOLLICLE-NAME', 'I-FOLLICLE-NAME', 'B-FOLLICLE-NAME', 'I-FOLLICLE-NAME', 'I-FOLLICLE-NAME', 'I-FOLLICLE-NAME', 'I-FOLLICLE-NAME', 'O', 'O', 'O', 'O', 'O', 'O', 'O', 'O', 'O', 'O', 'O', 'O', 'O', 'O', 'O', 'O', 'B-FOLLICLE-NAME', 'I-FOLLICLE-NAME', 'I-FOLLICLE-NAME', 'I-FOLLICLE-NAME', 'O', 'O', 'O', 'O', 'O', 'B-FOLLICLE-NAME', 'I-FOLLICLE-NAME', 'O', 'O', 'O', 'O', 'O', 'O', 'O', 'O', 'O', 'O', 'O', 'O', 'O', 'O', 'O', 'O', 'O', 'O', 'O', 'O', 'B-FOLLICLE-NAME', 'B-FOLLICLE-NAME', 'B-FOLLICLE-NAME', 'B-FOLLICLE-NAME', 'B-FOLLICLE-NAME', 'I-FOLLICLE-NAME', 'I-FOLLICLE-NAME', 'O', 'O', 'O', 'O', 'O', 'O', 'O', 'B-FOLLICLE-NAME', 'B-FOLLICLE-NAME', 'I-FOLLICLE-NAME', 'O', 'O', 'O', 'O', 'O', 'O', 'O', 'O', 'O', 'O', 'O', 'O', 'O', 'O', 'O', 'O', 'O', 'O', 'O', 'O', 'O', 'O', 'O', 'O', 'O', 'O', 'O', 'O', 'O', 'O', 'O', 'O', 'O', 'O', 'O', 'O', 'O', 'O', 'O', 'O', 'O', 'O', 'O', 'O', 'O', 'O', 'O', 'O', 'O', 'O', 'O', 'O', 'O', 'O', 'O', 'O', 'O', 'O', 'O', 'O', 'O', 'O', 'O', 'O', 'O', 'O', 'O', 'O', 'O', 'O', 'O', 'O', 'O', 'O', 'O', 'O', 'O', 'O', 'O', 'O', 'O', 'O', 'O', 'O', 'O', 'O', 'B-FOLLICLE-NAME', 'I-FOLLICLE-NAME', 'I-FOLLICLE-NAME', 'I-FOLLICLE-NAME', 'I-FOLLICLE-NAME', 'O', 'O', 'O', 'O', 'O', 'O', 'O', 'O', 'O', 'O', 'O', 'O', 'O', 'O', 'O', 'O', 'O', 'O', 'O', 'O', 'O', 'O', 'O', 'O', 'O', 'O', 'B-FOLLICLE-NAME', 'I-FOLLICLE-NAME', 'I-FOLLICLE-NAME', 'O', 'O', 'O', 'O', 'O', 'O', 'O', 'O', 'O', 'O', 'O', 'O', 'O', 'O', 'O', 'O', 'O', 'O', 'O', 'O', 'O', 'O', 'O', 'O', 'O', 'O', 'B-FOLLICLE-NAME', 'I-FOLLICLE-NAME', 'I-FOLLICLE-NAME', 'I-FOLLICLE-NAME', 'O', 'O', 'O', 'O', 'O', 'O', 'O', 'O', 'O', 'O', 'O', 'O', 'O', 'O', 'O', 'O', 'O', 'O', 'O', 'O', 'O', 'O', 'O', 'O', 'O', 'O', 'O', 'O', 'O', 'O', 'O', 'O', 'O', 'O', 'O', 'O', 'O', 'O', 'O', 'O', 'O', 'O', 'O', 'O', 'O', 'O', 'O', 'O', 'O', 'O', 'B-FOLLICLE-NAME', 'I-FOLLICLE-NAME', 'I-FOLLICLE-NAME', 'I-FOLLICLE-NAME', 'O', 'O', 'O', 'O', 'B-FOLLICLE-NAME', 'I-FOLLICLE-NAME', 'O', 'O', 'O', 'O', 'O', 'O', 'O', 'O', 'O', 'O', 'O', 'O', 'O', 'O', 'O', 'O', 'O', 'O', 'O', 'O', 'O', 'O', 'O', 'O', 'O', 'O', 'O', 'O', 'O', 'O', 'O', 'O', 'O', 'O', 'O', 'O', 'O', 'O', 'O', 'O', 'O', 'O', 'O', 'O', 'O', 'O', 'O', 'O', 'O', 'O', 'O', 'O', 'O', 'O', 'O', 'O', 'O', 'O', 'O', 'O', 'O', 'O', 'O', 'O', 'O', 'O', 'B-FOLLICLE-NAME', 'I-FOLLICLE-NAME', 'I-FOLLICLE-NAME', 'I-FOLLICLE-NAME', 'B-FOLLICLE-NAME', 'B-FOLLICLE-NAME', 'B-FOLLICLE-NAME', 'B-FOLLICLE-NAME', 'O', 'O', 'O', 'O', 'O', 'O', 'O', 'O', 'O', 'O', 'O', 'O', 'O', 'O', 'O', 'O', 'O', 'O', 'O', 'O', 'O', 'O', 'O', 'O', 'O', 'O', 'O', 'O', 'O', 'O', 'O', 'O', 'O', 'O', 'O', 'O', 'O', 'O', 'O', 'O', 'O', 'O', 'O', 'O', 'O', 'O', 'O', 'O', 'O', 'O', 'O', 'O', 'O', 'O', 'O', 'O', 'O', 'O', 'O', 'O', 'O', 'O', 'O', 'O', 'O', 'O', 'O', 'O', 'O', 'O', 'O', 'O', 'O', 'O', 'O', 'O', 'O', 'O', 'O', 'O', 'O', 'O', 'O', 'O', 'O', 'O', 'O', 'O', 'O', 'O', 'O', 'O', 'O', 'O', 'O', 'O', 'O', 'O', 'O', 'O', 'O', 'O', 'O', 'O', 'O', 'O', 'O', 'O', 'O', 'O', 'O', 'O', 'O', 'O', 'O', 'O', 'O', 'O', 'O', 'O', 'O', 'O', 'O', 'O', 'O', 'O', 'B-FOLLICLE-NAME', 'I-FOLLICLE-NAME', 'I-FOLLICLE-NAME', 'I-FOLLICLE-NAME', 'I-FOLLICLE-NAME', 'I-FOLLICLE-NAME', 'I-FOLLICLE-NAME', 'O', 'O', 'O', 'O', 'O', 'O', 'O', 'O', 'O', 'O', 'O', 'O', 'O', 'O', 'B-FOLLICLE-NAME', 'B-FOLLICLE-NAME', 'B-FOLLICLE-NAME', 'O', 'O', 'O', 'O', 'O', 'O', 'O', 'O', 'O', 'O', 'O', 'O', 'O', 'O', 'O', 'O', 'O', 'O', 'O', 'O', 'O', 'O', 'O', 'O', 'O', 'O', 'O', 'B-FOLLICLE-NAME', 'I-FOLLICLE-NAME', 'O', 'O', 'O', 'O', 'O', 'O', 'O', 'O', 'O', 'O', 'O', 'O', 'O', 'O', 'O', 'O', 'O', 'O', 'O', 'O', 'O', 'O', 'O', 'O', 'O', 'O', 'O', 'O', 'O', 'O', 'O', 'O', 'O', 'O', 'O', 'O', 'O', 'O', 'O', 'O', 'O', 'O', 'O', 'O', 'O', 'O', 'O', 'O', 'O', 'O', 'O', 'O', 'O', 'O', 'O', 'O', 'O', 'O', 'O', 'O', 'O', 'O', 'O', 'O', 'O', 'O', 'O', 'O', 'O', 'O', 'O', 'O', 'O', 'O', 'O', 'O', 'O', 'O', 'O', 'O', 'O', 'O', 'O', 'O', 'O', 'O', 'O', 'O', 'O', 'O', 'O', 'O', 'O', 'O', 'O', 'O', 'O', 'O', 'O', 'O', 'O', 'O', 'O', 'O', 'O', 'O', 'O', 'O', 'O', 'O', 'O', 'O', 'O', 'O', 'O', 'O', 'O', 'O', 'O', 'O', 'O', 'O', 'O', 'O', 'O', 'O', 'O', 'O', 'O', 'O', 'O', 'O', 'O', 'O', 'O', 'O', 'O', 'O', 'O', 'O', 'O', 'O', 'O', 'O', 'O', 'O', 'O', 'O', 'O', 'O', 'O', 'O', 'O', 'O', 'O', 'O', 'O', 'O', 'O', 'O', 'O', 'O', 'O', 'O', 'O', 'O', 'O', 'O', 'O', 'O', 'O', 'O', 'O', 'O', 'O', 'O', 'O', 'O', 'O', 'O', 'O', 'O', 'O', 'O', 'O', 'O', 'O', 'O', 'O', 'O', 'O', 'O', 'O', 'O', 'O', 'O', 'O', 'O', 'O', 'O', 'O', 'O', 'O', 'O', 'O', 'O', 'O', 'B-FOLLICLE-NAME', 'B-FOLLICLE-NAME', 'B-FOLLICLE-NAME', 'B-FOLLICLE-NAME', 'O', 'O', 'O', 'O', 'O', 'O', 'O', 'B-FOLLICLE-NAME', 'B-FOLLICLE-NAME', 'I-FOLLICLE-NAME', 'I-FOLLICLE-NAME', 'O', 'O', 'O', 'O', 'O', 'O', 'O', 'O', 'O', 'O', 'O', 'O', 'O', 'O', 'O', 'O', 'O', 'O', 'O', 'O', 'O', 'O', 'O', 'O', 'O', 'O', 'O', 'O', 'O', 'O', 'O', 'O', 'O', 'O', 'O', 'O', 'O', 'O', 'O', 'O', 'O', 'O', 'O', 'O', 'O', 'O', 'O', 'O', 'O', 'O', 'O', 'O', 'O', 'O', 'O', 'O', 'O', 'O', 'O', 'O', 'O', 'O', 'O', 'O', 'O', 'O', 'O', 'O', 'O', 'O', 'O', 'O', 'O', 'O', 'O', 'O', 'O', 'O', 'O', 'O', 'O', 'O', 'O', 'O', 'O', 'O', 'O', 'O', 'O', 'O', 'O', 'O', 'O', 'O', 'O', 'O', 'O', 'O', 'O', 'O', 'O', 'O', 'O', 'O', 'O', 'O', 'O', 'O', 'O', 'O', 'O', 'O', 'O', 'O', 'O', 'O', 'O', 'O', 'O', 'O', 'O', 'O', 'B-FOLLICLE-NAME', 'I-FOLLICLE-NAME', 'I-FOLLICLE-NAME', 'B-FOLLICLE-NAME', 'I-FOLLICLE-NAME', 'I-FOLLICLE-NAME', 'I-FOLLICLE-NAME', 'B-FOLLICLE-NAME', 'B-FOLLICLE-NAME', 'B-FOLLICLE-NAME', 'B-FOLLICLE-NAME', 'O', 'O', 'O', 'O', 'O', 'O', 'O', 'O', 'O', 'O', 'O', 'O', 'O', 'O', 'O', 'O', 'O', 'O', 'O', 'O', 'O', 'O', 'O', 'B-FOLLICLE-NAME', 'I-FOLLICLE-NAME', 'I-FOLLICLE-NAME', 'I-FOLLICLE-NAME', 'O', 'O', 'O', 'O', 'O', 'O', 'O', 'O', 'O', 'O', 'O', 'O', 'O', 'O', 'O', 'O', 'O', 'O', 'O', 'O', 'O', 'O', 'O', 'O', 'O', 'O', 'O', 'O', 'O', 'O', 'O', 'O', 'O', 'O', 'O', 'O', 'O', 'O', 'O', 'O', 'O', 'O', 'O', 'O', 'O', 'O', 'O', 'O', 'O', 'O', 'O', 'O', 'O', 'O', 'O', 'O', 'O', 'O', 'O', 'O', 'O', 'O', 'O', 'O', 'O', 'O', 'O', 'O', 'O', 'O', 'O', 'O', 'O', 'B-FOLLICLE-NAME', 'I-FOLLICLE-NAME', 'I-FOLLICLE-NAME', 'I-FOLLICLE-NAME', 'I-FOLLICLE-NAME', 'O', 'B-FOLLICLE-NAME', 'I-FOLLICLE-NAME', 'I-FOLLICLE-NAME', 'I-FOLLICLE-NAME', 'O', 'O', 'O', 'O', 'O', 'O', 'O', 'O', 'O', 'O', 'O', 'O', 'O', 'O', 'O', 'O', 'O', 'O', 'O', 'O', 'O', 'O', 'O', 'O', 'O', 'O', 'O', 'O', 'O', 'O', 'O', 'O', 'O', 'O', 'O', 'O', 'O', 'O', 'O', 'O', 'O', 'O', 'O', 'O', 'O', 'O', 'O', 'O', 'O', 'O', 'O', 'O', 'O', 'O', 'O', 'O', 'O', 'O', 'O', 'O', 'O', 'O', 'O', 'O', 'O', 'O', 'O', 'B-FOLLICLE-NAME', 'B-FOLLICLE-NAME', 'O', 'O', 'O', 'O', 'O', 'O', 'O', 'O', 'O', 'O', 'O', 'O', 'O', 'O', 'O', 'O', 'O', 'O', 'O', 'O', 'O', 'O', 'O', 'O', 'O', 'O', 'O', 'O', 'O', 'O', 'O', 'O', 'O', 'O', 'O', 'O', 'O', 'O', 'O', 'O', 'O', 'O', 'O', 'O', 'O', 'O', 'O', 'O', 'O', 'O', 'O', 'O', 'O', 'O', 'O', 'O', 'O', 'O', 'O', 'O', 'O', 'O', 'O', 'O', 'O', 'O', 'O', 'O', 'O', 'O', 'O', 'O', 'O', 'O', 'O', 'O', 'O', 'O', 'O', 'O', 'O', 'O', 'O', 'O', 'O', 'O', 'O', 'O', 'O', 'O', 'O', 'O', 'O', 'B-FOLLICLE-NAME', 'I-FOLLICLE-NAME', 'O', 'O', 'O', 'O', 'O', 'O', 'O', 'O', 'O', 'O', 'O', 'O', 'O', 'O', 'O', 'O', 'O', 'O', 'O', 'O', 'O', 'O', 'O', 'O', 'O', 'O', 'O', 'O', 'O', 'O', 'O', 'O', 'O', 'O', 'O', 'O', 'O', 'O', 'O', 'O', 'O', 'O', 'O', 'O', 'O', 'O', 'O', 'O', 'O', 'O', 'O', 'O', 'O', 'O', 'B-FOLLICLE-NAME', 'B-FOLLICLE-NAME', 'B-FOLLICLE-NAME', 'O', 'O', 'O', 'O', 'O', 'B-FOLLICLE-NAME', 'B-FOLLICLE-NAME', 'I-FOLLICLE-NAME', 'I-FOLLICLE-NAME', 'I-FOLLICLE-NAME', 'I-FOLLICLE-NAME', 'O', 'B-FOLLICLE-NAME', 'B-FOLLICLE-NAME', 'B-FOLLICLE-NAME', 'B-FOLLICLE-NAME', 'B-FOLLICLE-NAME', 'B-FOLLICLE-NAME', 'O', 'O', 'B-FOLLICLE-NAME', 'B-FOLLICLE-NAME', 'B-FOLLICLE-NAME', 'O', 'O', 'O', 'O', 'O', 'O', 'O', 'O', 'O', 'O', 'O', 'O', 'B-FOLLICLE-NAME', 'I-FOLLICLE-NAME', 'I-FOLLICLE-NAME', 'I-FOLLICLE-NAME', 'I-FOLLICLE-NAME', 'O', 'O', 'O', 'O', 'O', 'O', 'O', 'O', 'B-FOLLICLE-NAME', 'I-FOLLICLE-NAME', 'I-FOLLICLE-NAME', 'I-FOLLICLE-NAME', 'I-FOLLICLE-NAME', 'I-FOLLICLE-NAME', 'O', 'O', 'O', 'O', 'O', 'O', 'O', 'O', 'O', 'O', 'O', 'O', 'O', 'O', 'O', 'O', 'O', 'O', 'O', 'O', 'O', 'O', 'O', 'O', 'O', 'O', 'O', 'O', 'O', 'O', 'O', 'O', 'O', 'O', 'O', 'O', 'O', 'O', 'O', 'B-FOLLICLE-NAME', 'I-FOLLICLE-NAME', 'I-FOLLICLE-NAME', 'I-FOLLICLE-NAME', 'I-FOLLICLE-NAME', 'O', 'O', 'O', 'O', 'O', 'O', 'O', 'O', 'O', 'O', 'O', 'O', 'O', 'O', 'O', 'O', 'O', 'O', 'O', 'O', 'O', 'O', 'O', 'O', 'O', 'O', 'O', 'O', 'O', 'O', 'O', 'B-FOLLICLE-NAME', 'I-FOLLICLE-NAME', 'I-FOLLICLE-NAME', 'I-FOLLICLE-NAME', 'O', 'O', 'O', 'O', 'O', 'O', 'O', 'O', 'O', 'O', 'O', 'O', 'O', 'O', 'O', 'O', 'B-FOLLICLE-NAME', 'I-FOLLICLE-NAME', 'O', 'O', 'O', 'O', 'O', 'O', 'O', 'O', 'O', 'O', 'O', 'O', 'O', 'O', 'O', 'O', 'O', 'O', 'O', 'O', 'O', 'O', 'O', 'O', 'O', 'O', 'O', 'O', 'O', 'O', 'O', 'O', 'B-FOLLICLE-NAME', 'B-FOLLICLE-NAME', 'I-FOLLICLE-NAME', 'I-FOLLICLE-NAME', 'I-FOLLICLE-NAME', 'I-FOLLICLE-NAME', 'B-FOLLICLE-NAME', 'B-FOLLICLE-NAME', 'B-FOLLICLE-NAME', 'B-FOLLICLE-NAME', 'B-FOLLICLE-NAME', 'O', 'O', 'O', 'O', 'O', 'O', 'O', 'O', 'O', 'O', 'O', 'O', 'O', 'O', 'O', 'O', 'O', 'O', 'O', 'O', 'O', 'O', 'O', 'O', 'O', 'O', 'O', 'O', 'O', 'O', 'O', 'O', 'O', 'O', 'O', 'O', 'O', 'O', 'O', 'O', 'O', 'O', 'B-FOLLICLE-NAME', 'B-FOLLICLE-NAME', 'B-FOLLICLE-NAME', 'O', 'O', 'O', 'O', 'O', 'O', 'O', 'O', 'O', 'O', 'O', 'O', 'O', 'O', 'O', 'O', 'O', 'O', 'O', 'O', 'O', 'O', 'O', 'O', 'O', 'O', 'O', 'O', 'O', 'O', 'O', 'O', 'B-FOLLICLE-NAME', 'B-FOLLICLE-NAME', 'I-FOLLICLE-NAME', 'I-FOLLICLE-NAME', 'O', 'O', 'O', 'O', 'O', 'O', 'O', 'O', 'O', 'O', 'O', 'O', 'O', 'O', 'O', 'O', 'O', 'O', 'O', 'O', 'O', 'O', 'O', 'O', 'O', 'O', 'O', 'O', 'O', 'O', 'O', 'O', 'O', 'O', 'O', 'O', 'O', 'O', 'O', 'O', 'O', 'O', 'O', 'O', 'O', 'O', 'O', 'O', 'O', 'O', 'O', 'O', 'O', 'O', 'O', 'O', 'O', 'O', 'O', 'O', 'O', 'O', 'O', 'O', 'O', 'O', 'O', 'O', 'O', 'O', 'O', 'O', 'O', 'O', 'O', 'O', 'O', 'O', 'O', 'O', 'O', 'O', 'O', 'O', 'O', 'O', 'O', 'O', 'O', 'O', 'O', 'O', 'O', 'O', 'O', 'O', 'O', 'O', 'O', 'O', 'O', 'O', 'O', 'O', 'O', 'O', 'O', 'O', 'O', 'O', 'O', 'O', 'O', 'O', 'O', 'O', 'O', 'B-FOLLICLE-NAME', 'I-FOLLICLE-NAME', 'I-FOLLICLE-NAME', 'I-FOLLICLE-NAME', 'O', 'O', 'O', 'O', 'O', 'O', 'O', 'O', 'O', 'O', 'O', 'O', 'O', 'O', 'O', 'O', 'O', 'O', 'O', 'O', 'O', 'O', 'O', 'O', 'O', 'O', 'O', 'O', 'O', 'O', 'O', 'O', 'O', 'O', 'O', 'O', 'O', 'O', 'O', 'O', 'O', 'O', 'O', 'O', 'O', 'O', 'O', 'O', 'O', 'O', 'O', 'O', 'O', 'O', 'O', 'O', 'O', 'O', 'O', 'O', 'O', 'O', 'O', 'O', 'O', 'O', 'O', 'O', 'O', 'O', 'O', 'O', 'O', 'O', 'O', 'O', 'O', 'O', 'O', 'O', 'O', 'O', 'O', 'B-FOLLICLE-NAME', 'I-FOLLICLE-NAME', 'I-FOLLICLE-NAME', 'I-FOLLICLE-NAME', 'O', 'O', 'O', 'O', 'O', 'O', 'O', 'O', 'O', 'O', 'O', 'O', 'O', 'O', 'O', 'O', 'O', 'O', 'O', 'O', 'O', 'O', 'O', 'O', 'O', 'O', 'O', 'O', 'O', 'O', 'O', 'O', 'O', 'O', 'O', 'O', 'O', 'O', 'O', 'O', 'O', 'O', 'O', 'O', 'O', 'O', 'O', 'O', 'O', 'O', 'O', 'B-FOLLICLE-NAME', 'I-FOLLICLE-NAME', 'I-FOLLICLE-NAME', 'I-FOLLICLE-NAME', 'O', 'O', 'O', 'O', 'O', 'O', 'O', 'O', 'O', 'O', 'O', 'O', 'O', 'O', 'O', 'O', 'O', 'O', 'O', 'O', 'O', 'O', 'O', 'O', 'O', 'O', 'O', 'O', 'O', 'O', 'O', 'O', 'O', 'B-FOLLICLE-NAME', 'I-FOLLICLE-NAME', 'O', 'O', 'O', 'O', 'O', 'O', 'O', 'O', 'O', 'O', 'O', 'O', 'O', 'O', 'O', 'O', 'O', 'O', 'O', 'O', 'O', 'O', 'O', 'O', 'O', 'O', 'O', 'O', 'O', 'O', 'O', 'O', 'O', 'O', 'O', 'O', 'O', 'O', 'O', 'O', 'O', 'O', 'O', 'O', 'O', 'O', 'O', 'O', 'O', 'O', 'O', 'O', 'O', 'O', 'O', 'O', 'O', 'O', 'O', 'O', 'O', 'O', 'O', 'O', 'O', 'O', 'O', 'O', 'O', 'O', 'O', 'O', 'O', 'O', 'O', 'O', 'O', 'O', 'O', 'O', 'O', 'O', 'O', 'O', 'O', 'O', 'O', 'O', 'O', 'O', 'O', 'O', 'O', 'O', 'O', 'O', 'O', 'O', 'O', 'O', 'O', 'O', 'O', 'O', 'O', 'O', 'O', 'O', 'O', 'O', 'O', 'O', 'O', 'O', 'O', 'O', 'O', 'O', 'O', 'O', 'O', 'O', 'O', 'O', 'O', 'O', 'O', 'O', 'O', 'O', 'O', 'O', 'O', 'O', 'O', 'O', 'O', 'O', 'O', 'O', 'O', 'O', 'O', 'O', 'O', 'O', 'O', 'O', 'O', 'O', 'O', 'O', 'O', 'O', 'O', 'O', 'O', 'O', 'O', 'O', 'O', 'O', 'O', 'O', 'O', 'O', 'O', 'O', 'O', 'O', 'O', 'O', 'O', 'O', 'O', 'O', 'O', 'O', 'O', 'O', 'O', 'O', 'O', 'O', 'O', 'O', 'B-FOLLICLE-NAME', 'I-FOLLICLE-NAME', 'I-FOLLICLE-NAME', 'I-FOLLICLE-NAME', 'I-FOLLICLE-NAME', 'I-FOLLICLE-NAME', 'O', 'O', 'O', 'O', 'O', 'O', 'O', 'O', 'O', 'O', 'O', 'B-FOLLICLE-NAME', 'I-FOLLICLE-NAME', 'O', 'O', 'O', 'O', 'O', 'O', 'O', 'O', 'O', 'O', 'O', 'O', 'O', 'O', 'O', 'O', 'O', 'O', 'O', 'O', 'O', 'O', 'O', 'O', 'O', 'O', 'O', 'O', 'O', 'O', 'O', 'O', 'O', 'O', 'O', 'O', 'O', 'O', 'O', 'O', 'O', 'O', 'O', 'O', 'O', 'O', 'O', 'O', 'O', 'O', 'O', 'O', 'O', 'O', 'O', 'O', 'O', 'O', 'O', 'O', 'O', 'O', 'O', 'O', 'O', 'O', 'O', 'O', 'O', 'O', 'O', 'O', 'O', 'O', 'O', 'O', 'O', 'O', 'O', 'O', 'O', 'O', 'O', 'O', 'O', 'O', 'O', 'O', 'O', 'O', 'O', 'O', 'O', 'O', 'B-FOLLICLE-NAME', 'B-FOLLICLE-NAME', 'B-FOLLICLE-NAME', 'B-FOLLICLE-NAME', 'O', 'O', 'O', 'O', 'O', 'O', 'O', 'O', 'O', 'O', 'O', 'O', 'O', 'O', 'O', 'O', 'O', 'O', 'O', 'O', 'O', 'O', 'O', 'O', 'O', 'O', 'B-FOLLICLE-NAME', 'I-FOLLICLE-NAME', 'I-FOLLICLE-NAME', 'I-FOLLICLE-NAME', 'B-FOLLICLE-NAME', 'B-FOLLICLE-NAME', 'B-FOLLICLE-NAME', 'B-FOLLICLE-NAME', 'B-FOLLICLE-NAME', 'O', 'O', 'O', 'O', 'O', 'O', 'O', 'O', 'O', 'O', 'O', 'O', 'O', 'O', 'O', 'O', 'O', 'O', 'O', 'O', 'O', 'B-FOLLICLE-NAME', 'B-FOLLICLE-NAME', 'B-FOLLICLE-NAME', 'B-FOLLICLE-NAME', 'O', 'O', 'I-FOLLICLE-NAME', 'O', 'O', 'O', 'O', 'O', 'O', 'O', 'O', 'O', 'O', 'O', 'O', 'O', 'O', 'O', 'O', 'O', 'O', 'O', 'O', 'O', 'O', 'O', 'O', 'O', 'O', 'O', 'O', 'O', 'O', 'O', 'O', 'O', 'O', 'O', 'O', 'O', 'O', 'O', 'O', 'O', 'O', 'O', 'O', 'O', 'O', 'O', 'O', 'O', 'O', 'O', 'O', 'O', 'O', 'O', 'O', 'O', 'O', 'O', 'O', 'O', 'O', 'O', 'O', 'O', 'O', 'O', 'O', 'O', 'O', 'O', 'O', 'O', 'O', 'O', 'O', 'O', 'O', 'O', 'O', 'O', 'O', 'O', 'O', 'O', 'O', 'O', 'O', 'O', 'O', 'O', 'O', 'O', 'O', 'O', 'O', 'O', 'O', 'O', 'O', 'O', 'O', 'O', 'O', 'O', 'O', 'O', 'O', 'O', 'O', 'O', 'O', 'O', 'O', 'O', 'O', 'O', 'O', 'O', 'O', 'O', 'O', 'O', 'O', 'O', 'O', 'O', 'O', 'O', 'O', 'O', 'O', 'O', 'O', 'O', 'O', 'O', 'O', 'B-FOLLICLE-NAME', 'I-FOLLICLE-NAME', 'I-FOLLICLE-NAME', 'I-FOLLICLE-NAME', 'O', 'O', 'O', 'O', 'O', 'O', 'O', 'O', 'B-FOLLICLE-NAME', 'I-FOLLICLE-NAME', 'I-FOLLICLE-NAME', 'I-FOLLICLE-NAME', 'I-FOLLICLE-NAME', 'O', 'O', 'O', 'O', 'O', 'O', 'O', 'O', 'O', 'O', 'O', 'O', 'O', 'O', 'O', 'O', 'O', 'O', 'O', 'O', 'O', 'O', 'O', 'O', 'B-FOLLICLE-NAME', 'I-FOLLICLE-NAME', 'I-FOLLICLE-NAME', 'I-FOLLICLE-NAME', 'I-FOLLICLE-NAME', 'I-FOLLICLE-NAME', 'B-FOLLICLE-NAME', 'B-FOLLICLE-NAME', 'B-FOLLICLE-NAME', 'B-FOLLICLE-NAME', 'B-FOLLICLE-NAME', 'O', 'O', 'O', 'B-FOLLICLE-NAME', 'I-FOLLICLE-NAME', 'I-FOLLICLE-NAME', 'I-FOLLICLE-NAME', 'O', 'O', 'O', 'O', 'O', 'O', 'O', 'O', 'O', 'O', 'O', 'O', 'O', 'O', 'O', 'O', 'O', 'O', 'O', 'O', 'O', 'O', 'O', 'O', 'O', 'O', 'O', 'O', 'O', 'O', 'O', 'O', 'O', 'O', 'O', 'O', 'O', 'O', 'O', 'O', 'O', 'O', 'O', 'O', 'B-FOLLICLE-NAME', 'I-FOLLICLE-NAME', 'O', 'O', 'O', 'O', 'B-FOLLICLE-NAME', 'B-FOLLICLE-NAME', 'B-FOLLICLE-NAME', 'O', 'O', 'O', 'O', 'O', 'O', 'O', 'O', 'O', 'O', 'O', 'O', 'B-FOLLICLE-NAME', 'I-FOLLICLE-NAME', 'I-FOLLICLE-NAME', 'I-FOLLICLE-NAME', 'I-FOLLICLE-NAME', 'I-FOLLICLE-NAME', 'I-FOLLICLE-NAME', 'I-FOLLICLE-NAME', 'O', 'O', 'O', 'O', 'O', 'O', 'O', 'O', 'O', 'O', 'O', 'O', 'O', 'O', 'O', 'O', 'O', 'O', 'O', 'O', 'O', 'O', 'O', 'O', 'O', 'O', 'O', 'O', 'O', 'O', 'O', 'O', 'O', 'O', 'O', 'O', 'O', 'O', 'O', 'O', 'O', 'O', 'O', 'O', 'O', 'O', 'O', 'O', 'O', 'O', 'O', 'O', 'O', 'O', 'O', 'O', 'O', 'O', 'O', 'O', 'O', 'O', 'O', 'O', 'O', 'O', 'O', 'O', 'O', 'O', 'O', 'O', 'O', 'O', 'O', 'O', 'O', 'O', 'O', 'O', 'O', 'O', 'O', 'O', 'O', 'O', 'O', 'O', 'O', 'O', 'O', 'O', 'O', 'O', 'O', 'O', 'O', 'O', 'O', 'O', 'O', 'O', 'O', 'O', 'O', 'O', 'O', 'O', 'O', 'O', 'O', 'O', 'O', 'O', 'O', 'O', 'O', 'O', 'O', 'O', 'O', 'O', 'O', 'O', 'O', 'O', 'O', 'O', 'O', 'O', 'O', 'O', 'O', 'O', 'O', 'O', 'O', 'O', 'O', 'O', 'O', 'O', 'O', 'O', 'O', 'O', 'O', 'O', 'O', 'O', 'O', 'O', 'O', 'O', 'O', 'O', 'O', 'O', 'O', 'O', 'O', 'O', 'O', 'O', 'O', 'O', 'O', 'O', 'O', 'O', 'O', 'O', 'O', 'O', 'O', 'O', 'O', 'O', 'O', 'O', 'O', 'O', 'O', 'O', 'O', 'O', 'O', 'O', 'O', 'O', 'O', 'O', 'O', 'O', 'O', 'O', 'O', 'O', 'O', 'O', 'O', 'O', 'O', 'O', 'O', 'O', 'O', 'O', 'O', 'O', 'O', 'O', 'O', 'O', 'O', 'O', 'O', 'O', 'O', 'O', 'O', 'B-FOLLICLE-NAME', 'I-FOLLICLE-NAME', 'I-FOLLICLE-NAME', 'I-FOLLICLE-NAME', 'O', 'O', 'O', 'O', 'O', 'O', 'O', 'O', 'O', 'O', 'O', 'O', 'O', 'O', 'O', 'O', 'O', 'O', 'O', 'O', 'B-FOLLICLE-NAME', 'B-FOLLICLE-NAME', 'B-FOLLICLE-NAME', 'O', 'O', 'O', 'O', 'O', 'O', 'O', 'O', 'O', 'O', 'O', 'O', 'B-FOLLICLE-NAME', 'B-FOLLICLE-NAME', 'B-FOLLICLE-NAME', 'B-FOLLICLE-NAME', 'O', 'O', 'O', 'O', 'O', 'O', 'O', 'O', 'O', 'O', 'O', 'O', 'O', 'O', 'O', 'O', 'O', 'O', 'O', 'O', 'O', 'O', 'O', 'O', 'O', 'O', 'O', 'O', 'O', 'O', 'O', 'O', 'O', 'O', 'O', 'O', 'O', 'O', 'O', 'O', 'O', 'O', 'O', 'O', 'O', 'O', 'O', 'O', 'O', 'O', 'O', 'O', 'O', 'O', 'O', 'O', 'O', 'O', 'O', 'O', 'O', 'O', 'O', 'O', 'O', 'O', 'O', 'O', 'O', 'O', 'O', 'O', 'O', 'O', 'O', 'O', 'O', 'O', 'O', 'O', 'O', 'O', 'O', 'O', 'O', 'O', 'O', 'O', 'O', 'O', 'O', 'O', 'O', 'O', 'O', 'O', 'O', 'O', 'O', 'O', 'O', 'O', 'O', 'O', 'O', 'O', 'O', 'O', 'O', 'O', 'O', 'O', 'O', 'O', 'O', 'O', 'O', 'O', 'O', 'O', 'O', 'O', 'O', 'O', 'O', 'O', 'O', 'O', 'O', 'O', 'O', 'O', 'O', 'O', 'O', 'O', 'B-FOLLICLE-NAME', 'I-FOLLICLE-NAME', 'I-FOLLICLE-NAME', 'I-FOLLICLE-NAME', 'I-FOLLICLE-NAME', 'I-FOLLICLE-NAME', 'I-FOLLICLE-NAME', 'I-FOLLICLE-NAME', 'I-FOLLICLE-NAME', 'I-FOLLICLE-NAME', 'I-FOLLICLE-NAME', 'I-FOLLICLE-NAME', 'O', 'O', 'O', 'O', 'O', 'O', 'O', 'O', 'O', 'O', 'O', 'O', 'O', 'O', 'O', 'O', 'O', 'O', 'O', 'O', 'O', 'O', 'O', 'O', 'O', 'O', 'O', 'O', 'O', 'O', 'O', 'O', 'O', 'O', 'O', 'O', 'O', 'O', 'O', 'O', 'O', 'O', 'O', 'O', 'O', 'O', 'O', 'O', 'O', 'O', 'O', 'O', 'O', 'O', 'O', 'O', 'O', 'O', 'O', 'O', 'O', 'O', 'O', 'O', 'O', 'O', 'O', 'O', 'O', 'O', 'O', 'O', 'O', 'O', 'O', 'O', 'O', 'O', 'O', 'O', 'O', 'O', 'O', 'O', 'O', 'O', 'O', 'O', 'O', 'O', 'O', 'O', 'O', 'O', 'O', 'O', 'O', 'O', 'O', 'O', 'B-FOLLICLE-NAME', 'I-FOLLICLE-NAME', 'O', 'O', 'O', 'O', 'O', 'O', 'O', 'O', 'O', 'O', 'O', 'O', 'O', 'O', 'O', 'O', 'O', 'O', 'O', 'O', 'O', 'O', 'B-FOLLICLE-NAME', 'B-FOLLICLE-NAME', 'O', 'O', 'O', 'O', 'O', 'O', 'O', 'O', 'B-FOLLICLE-NAME', 'B-FOLLICLE-NAME', 'O', 'O', 'O', 'O', 'O', 'O', 'O', 'O', 'O', 'O', 'O', 'O', 'O', 'O', 'O', 'O', 'O', 'O', 'O', 'O', 'O', 'O', 'O', 'O', 'O', 'O', 'O', 'B-FOLLICLE-NAME', 'I-FOLLICLE-NAME', 'I-FOLLICLE-NAME', 'I-FOLLICLE-NAME', 'I-FOLLICLE-NAME', 'I-FOLLICLE-NAME', 'I-FOLLICLE-NAME', 'B-FOLLICLE-NAME', 'B-FOLLICLE-NAME', 'B-FOLLICLE-NAME', 'B-FOLLICLE-NAME', 'O', 'B-FOLLICLE-NAME', 'I-FOLLICLE-NAME', 'I-FOLLICLE-NAME', 'I-FOLLICLE-NAME', 'I-FOLLICLE-NAME', 'I-FOLLICLE-NAME', 'I-FOLLICLE-NAME', 'I-FOLLICLE-NAME', 'I-FOLLICLE-NAME', 'I-FOLLICLE-NAME', 'B-FOLLICLE-NAME', 'B-FOLLICLE-NAME', 'B-FOLLICLE-NAME', 'B-FOLLICLE-NAME', 'B-FOLLICLE-NAME', 'B-FOLLICLE-NAME', 'O', 'O', 'B-FOLLICLE-NAME', 'I-FOLLICLE-NAME', 'I-FOLLICLE-NAME', 'I-FOLLICLE-NAME', 'I-FOLLICLE-NAME', 'I-FOLLICLE-NAME', 'I-FOLLICLE-NAME', 'O', 'O', 'O', 'O', 'O', 'O', 'B-FOLLICLE-NAME', 'B-FOLLICLE-NAME', 'B-FOLLICLE-NAME', 'O', 'O', 'O', 'O', 'O', 'O', 'O', 'O', 'O', 'O', 'O', 'O', 'O', 'O', 'O', 'O', 'O', 'O', 'O', 'O', 'B-FOLLICLE-NAME', 'I-FOLLICLE-NAME', 'O', 'O', 'O', 'O', 'O', 'O', 'O', 'O', 'O', 'O', 'O', 'O', 'O', 'O', 'B-FOLLICLE-NAME', 'B-FOLLICLE-NAME', 'B-FOLLICLE-NAME', 'O', 'O', 'O', 'O', 'O', 'O', 'O', 'O', 'O', 'O', 'O', 'O', 'O', 'O', 'O', 'O', 'O', 'O', 'O', 'O', 'O', 'O', 'O', 'O', 'O', 'O', 'O', 'O', 'O', 'O', 'O', 'O', 'O', 'O', 'O', 'O', 'O', 'O', 'O', 'O', 'O', 'O', 'O', 'O', 'O', 'O', 'O', 'O', 'O', 'O', 'O', 'O', 'O', 'O', 'O', 'O', 'O', 'O', 'O', 'O', 'O', 'O', 'O', 'O', 'O', 'O', 'O', 'O', 'O', 'O', 'O', 'O', 'O', 'O', 'O', 'O', 'O', 'O', 'O', 'O', 'O', 'O', 'O', 'O', 'O', 'O', 'O', 'O', 'O', 'O', 'O', 'O', 'O', 'O', 'O', 'O', 'O', 'O', 'O', 'B-FOLLICLE-NAME', 'B-FOLLICLE-NAME', 'B-FOLLICLE-NAME', 'O', 'O', 'O', 'O', 'O', 'O', 'O', 'B-FOLLICLE-NAME', 'B-FOLLICLE-NAME', 'B-FOLLICLE-NAME', 'O', 'O', 'O', 'O', 'O', 'O', 'O', 'O', 'O', 'O', 'O', 'O', 'O', 'O', 'O', 'O', 'O', 'O', 'O', 'O', 'O', 'O', 'O', 'O', 'O', 'O', 'O', 'O', 'O', 'O', 'O', 'O', 'O', 'O', 'O', 'O', 'O', 'O', 'O', 'O', 'O', 'O', 'O', 'O', 'O', 'O', 'O', 'O', 'O', 'O', 'O', 'O', 'O', 'O', 'O', 'O', 'O', 'O', 'B-FOLLICLE-NAME', 'I-FOLLICLE-NAME', 'I-FOLLICLE-NAME', 'I-FOLLICLE-NAME', 'I-FOLLICLE-NAME', 'O', 'O', 'O', 'O', 'O', 'O', 'O', 'O', 'O', 'O', 'O', 'O', 'O', 'O', 'O', 'O', 'O', 'O', 'O', 'O', 'O', 'O', 'O', 'O', 'O', 'O', 'O', 'O', 'O', 'O', 'O', 'O', 'B-FOLLICLE-NAME', 'B-FOLLICLE-NAME', 'O', 'O', 'O', 'O', 'O', 'O', 'O', 'O', 'O', 'O', 'O', 'B-FOLLICLE-NAME', 'B-FOLLICLE-NAME', 'O', 'O', 'O', 'O', 'I-FOLLICLE-NAME', 'I-FOLLICLE-NAME', 'O', 'O', 'O', 'O', 'O', 'B-FOLLICLE-NAME', 'B-FOLLICLE-NAME', 'O', 'O', 'O', 'O', 'O', 'O', 'O', 'O', 'O', 'O', 'B-FOLLICLE-NAME', 'I-FOLLICLE-NAME', 'O', 'O', 'O', 'O', 'O', 'B-FOLLICLE-NAME', 'B-FOLLICLE-NAME', 'O', 'O', 'O', 'O', 'O', 'O', 'O', 'O', 'O', 'O', 'O', 'O', 'O', 'O', 'O', 'O', 'O', 'O', 'O', 'O', 'O', 'O', 'O', 'O', 'O', 'O', 'O', 'O', 'O', 'O', 'O', 'O', 'O', 'O', 'O', 'B-FOLLICLE-NAME', 'B-FOLLICLE-NAME', 'I-FOLLICLE-NAME', 'I-FOLLICLE-NAME', 'I-FOLLICLE-NAME', 'I-FOLLICLE-NAME', 'O', 'O', 'O', 'O', 'O', 'O', 'O', 'O', 'O', 'O', 'O', 'O', 'O', 'O', 'O', 'O', 'O', 'O', 'O', 'O', 'O', 'O', 'O', 'O', 'O', 'B-FOLLICLE-NAME', 'B-FOLLICLE-NAME', 'B-FOLLICLE-NAME', 'B-FOLLICLE-NAME', 'B-FOLLICLE-NAME', 'I-FOLLICLE-NAME', 'I-FOLLICLE-NAME', 'I-FOLLICLE-NAME', 'I-FOLLICLE-NAME', 'I-FOLLICLE-NAME', 'B-FOLLICLE-NAME', 'O', 'O', 'O', 'O', 'O', 'O', 'O', 'O', 'O', 'O', 'O', 'O', 'O', 'O', 'O', 'O', 'O', 'O', 'O', 'O', 'O', 'O', 'O', 'B-FOLLICLE-NAME', 'I-FOLLICLE-NAME', 'O', 'O', 'O', 'O', 'O', 'O', 'O', 'O', 'O', 'O', 'O', 'O', 'O', 'O', 'O', 'O', 'O', 'O', 'O', 'O', 'O', 'O', 'O', 'O', 'B-FOLLICLE-NAME', 'I-FOLLICLE-NAME', 'I-FOLLICLE-NAME', 'I-FOLLICLE-NAME', 'O', 'O', 'O', 'O', 'O', 'O', 'O', 'O', 'O', 'O', 'O', 'O', 'O', 'O', 'O', 'B-FOLLICLE-NAME', 'I-FOLLICLE-NAME', 'O', 'O', 'O', 'O', 'O', 'O', 'O', 'O', 'O', 'B-FOLLICLE-NAME', 'I-FOLLICLE-NAME', 'I-FOLLICLE-NAME', 'I-FOLLICLE-NAME', 'I-FOLLICLE-NAME', 'O', 'O', 'O', 'O', 'O', 'O', 'O', 'O', 'O', 'O', 'O', 'O', 'O', 'O', 'O', 'O', 'O', 'O', 'O', 'O', 'O', 'O', 'O', 'O', 'O', 'O', 'O', 'O', 'B-FOLLICLE-NAME', 'B-FOLLICLE-NAME', 'B-FOLLICLE-NAME', 'O', 'O', 'O', 'O', 'O', 'O', 'O', 'O', 'O', 'O', 'O', 'O', 'O', 'O', 'O', 'O', 'O', 'O', 'O', 'O', 'O', 'O', 'O', 'O', 'O', 'O', 'O', 'O', 'O', 'O', 'O', 'O', 'O', 'O', 'O', 'O', 'O', 'O', 'O', 'O', 'O', 'O', 'B-FOLLICLE-NAME', 'O', 'O', 'O', 'O', 'O', 'O', 'O', 'O', 'O', 'O', 'O', 'O', 'O', 'O', 'O', 'O', 'O', 'O', 'O', 'O', 'O', 'O', 'O', 'O', 'O', 'O', 'O', 'O', 'O', 'O', 'O', 'O', 'O', 'O', 'O', 'O', 'O', 'O', 'O', 'O', 'O', 'O', 'O', 'O', 'O', 'O', 'O', 'O', 'O', 'O', 'O', 'O', 'O', 'O', 'O', 'O', 'O', 'O', 'O', 'O', 'O', 'O', 'O', 'O', 'O', 'O', 'O', 'O', 'O', 'O', 'O', 'O', 'O', 'O', 'O', 'O', 'O', 'O', 'O', 'O', 'O', 'O', 'O', 'O', 'O', 'O', 'O', 'O', 'O', 'O', 'O', 'O', 'O', 'O', 'O', 'O', 'O', 'O', 'O', 'O', 'O', 'O', 'O', 'O', 'O', 'O', 'O', 'O', 'O', 'O', 'O', 'O', 'O', 'O', 'O', 'O', 'O', 'O', 'O', 'O', 'O', 'O', 'O', 'O', 'O', 'O', 'O', 'B-FOLLICLE-NAME', 'I-FOLLICLE-NAME', 'I-FOLLICLE-NAME', 'I-FOLLICLE-NAME', 'I-FOLLICLE-NAME', 'I-FOLLICLE-NAME', 'O', 'O', 'O', 'O', 'O', 'O', 'O', 'O', 'O', 'O', 'O', 'O', 'O', 'B-FOLLICLE-NAME', 'I-FOLLICLE-NAME', 'I-FOLLICLE-NAME', 'I-FOLLICLE-NAME', 'I-FOLLICLE-NAME', 'I-FOLLICLE-NAME', 'O', 'O', 'O', 'O', 'O', 'O', 'O', 'O', 'O', 'O', 'O', 'O', 'O', 'O', 'O', 'O', 'O', 'O', 'O', 'O', 'O', 'O', 'O', 'O', 'O', 'O', 'O', 'O', 'O', 'O', 'O', 'O', 'O', 'O', 'O', 'O', 'O', 'O', 'O', 'O', 'O', 'O', 'O', 'O', 'O', 'O', 'O', 'O', 'O', 'O', 'O', 'O', 'O', 'O', 'O', 'O', 'O', 'O', 'O', 'O', 'O', 'O', 'O', 'O', 'O', 'O', 'O', 'O', 'O', 'O', 'O', 'O', 'O', 'O', 'O', 'O', 'O', 'O', 'O', 'O', 'O', 'O', 'O', 'O', 'O', 'O', 'O', 'O', 'O', 'O', 'O', 'O', 'O', 'O', 'O', 'O', 'O', 'O', 'O', 'O', 'O', 'O', 'O', 'O', 'O', 'O', 'O', 'O', 'O', 'O', 'O', 'O', 'O', 'O', 'O', 'O', 'O', 'O', 'O', 'O', 'O', 'O', 'O', 'O', 'O', 'O', 'O', 'O', 'O', 'O', 'O', 'O', 'O', 'O', 'O', 'O', 'O', 'O', 'B-FOLLICLE-NAME', 'I-FOLLICLE-NAME', 'I-FOLLICLE-NAME', 'I-FOLLICLE-NAME', 'I-FOLLICLE-NAME', 'I-FOLLICLE-NAME', 'B-FOLLICLE-NAME', 'B-FOLLICLE-NAME', 'B-FOLLICLE-NAME', 'B-FOLLICLE-NAME', 'B-FOLLICLE-NAME', 'O', 'O', 'O', 'O', 'O', 'O', 'O', 'O', 'O', 'O', 'O', 'O', 'B-FOLLICLE-NAME', 'O', 'O', 'O', 'O', 'O', 'O', 'O', 'O', 'O', 'O', 'O', 'O', 'O', 'O', 'O', 'O', 'O', 'O', 'O', 'O', 'O', 'O', 'O', 'O', 'O', 'O', 'O', 'O', 'O', 'O', 'O', 'O', 'O', 'O', 'O', 'O', 'O', 'O', 'O', 'O', 'O', 'O', 'O', 'B-FOLLICLE-NAME', 'I-FOLLICLE-NAME', 'I-FOLLICLE-NAME', 'I-FOLLICLE-NAME', 'O', 'O', 'O', 'O', 'O', 'O', 'O', 'O', 'O', 'O', 'O', 'O', 'O', 'O', 'O', 'O', 'O', 'O', 'O', 'O', 'O', 'O', 'O', 'O', 'O', 'O', 'O', 'O', 'O', 'O', 'O', 'O', 'O', 'O', 'O', 'O', 'O', 'O', 'O', 'O', 'O', 'O', 'O', 'O', 'O', 'O', 'O', 'O', 'O', 'O', 'B-FOLLICLE-NAME', 'B-FOLLICLE-NAME', 'B-FOLLICLE-NAME', 'O', 'O', 'O', 'O', 'O', 'O', 'O', 'O', 'O', 'O', 'O', 'O', 'O', 'O', 'O', 'O', 'O', 'O', 'O', 'O', 'O', 'O', 'O', 'O', 'O', 'O', 'O', 'O', 'O', 'O', 'O', 'O', 'O', 'O', 'O', 'O', 'O', 'O', 'O', 'O', 'O', 'O', 'O', 'O', 'O', 'O', 'O', 'O', 'O', 'O', 'O', 'O', 'O', 'O', 'O', 'O', 'O', 'O', 'B-FOLLICLE-NAME', 'I-FOLLICLE-NAME', 'I-FOLLICLE-NAME', 'I-FOLLICLE-NAME', 'O', 'O', 'O', 'O', 'O', 'O', 'O', 'O', 'O', 'O', 'O', 'O', 'O', 'O', 'O', 'O', 'O', 'O', 'O', 'O', 'O', 'O', 'O', 'O', 'O', 'O', 'O', 'O', 'O', 'O', 'O', 'O', 'O', 'O', 'O', 'O', 'O', 'O', 'O', 'B-FOLLICLE-NAME', 'I-FOLLICLE-NAME', 'I-FOLLICLE-NAME', 'I-FOLLICLE-NAME', 'I-FOLLICLE-NAME', 'I-FOLLICLE-NAME', 'O', 'O', 'O', 'O', 'O', 'O', 'O', 'O', 'O', 'O', 'O', 'O', 'O', 'O', 'O', 'O', 'O', 'O', 'O', 'O', 'O', 'O', 'O', 'O', 'O', 'O', 'O', 'B-FOLLICLE-NAME', 'I-FOLLICLE-NAME', 'I-FOLLICLE-NAME', 'I-FOLLICLE-NAME', 'I-FOLLICLE-NAME', 'O', 'O', 'O', 'O', 'O', 'O', 'O', 'O', 'O', 'O', 'O', 'O', 'O', 'O', 'O', 'O', 'O', 'O', 'I-FOLLICLE-NAME', 'O', 'O', 'O', 'O', 'O', 'O', 'O', 'O', 'O', 'O', 'O', 'O', 'O', 'O', 'O', 'O', 'O', 'O', 'O', 'O', 'O', 'O', 'O', 'O', 'O', 'O', 'O', 'O', 'O', 'O', 'O', 'O', 'O', 'O', 'O', 'O', 'O', 'O', 'O', 'O', 'O', 'O', 'O', 'O', 'O', 'O', 'O', 'O', 'O', 'O', 'O', 'O', 'B-FOLLICLE-NAME', 'B-FOLLICLE-NAME', 'O', 'O', 'O', 'O', 'O', 'O', 'O', 'O', 'O', 'O', 'O', 'O', 'O', 'O', 'O', 'O', 'O', 'O', 'O', 'O', 'O', 'O', 'O', 'O', 'O', 'O', 'O', 'O', 'O', 'O', 'B-FOLLICLE-NAME', 'B-FOLLICLE-NAME', 'I-FOLLICLE-NAME', 'I-FOLLICLE-NAME', 'O', 'O', 'O', 'O', 'O', 'O', 'O', 'O', 'O', 'O', 'O', 'O', 'O', 'O', 'O', 'O', 'O', 'O', 'O', 'O', 'O', 'O', 'O', 'O', 'O', 'O', 'O', 'O', 'O', 'O', 'O', 'O', 'O', 'O', 'O', 'O', 'O', 'O', 'O', 'O', 'O', 'O', 'O', 'O', 'O', 'O', 'O', 'O', 'O', 'O', 'O', 'O', 'O', 'O', 'O', 'O', 'O', 'O', 'O', 'O', 'O', 'O', 'O', 'O', 'O', 'O', 'O', 'O', 'O', 'O', 'O', 'B-FOLLICLE-NAME', 'B-FOLLICLE-NAME', 'O', 'O', 'O', 'O', 'O', 'O', 'O', 'O', 'O', 'O', 'O', 'O', 'O', 'O', 'O', 'O', 'O', 'O', 'O', 'O', 'O', 'O', 'O', 'O', 'O', 'O', 'O', 'O', 'O', 'O', 'O', 'O', 'O', 'O', 'O', 'O', 'O', 'O', 'O', 'O', 'O', 'O', 'B-FOLLICLE-NAME', 'B-FOLLICLE-NAME', 'O', 'O', 'O', 'O', 'O', 'O', 'O', 'O', 'O', 'O', 'O', 'O', 'O', 'O', 'O', 'O', 'O', 'O', 'O', 'O', 'O', 'O', 'O', 'O', 'O', 'B-FOLLICLE-NAME', 'I-FOLLICLE-NAME', 'I-FOLLICLE-NAME', 'I-FOLLICLE-NAME', 'I-FOLLICLE-NAME', 'I-FOLLICLE-NAME', 'I-FOLLICLE-NAME', 'O', 'B-FOLLICLE-NAME', 'B-FOLLICLE-NAME', 'B-FOLLICLE-NAME', 'B-FOLLICLE-NAME', 'B-FOLLICLE-NAME', 'B-FOLLICLE-NAME', 'B-FOLLICLE-NAME', 'O', 'O', 'O', 'O', 'O', 'O', 'O', 'O', 'O', 'O', 'O', 'O', 'O', 'O', 'O', 'O', 'O', 'O', 'O', 'O', 'O', 'O', 'O', 'O', 'O', 'O', 'O', 'O', 'O', 'O', 'O', 'O', 'O', 'O', 'O', 'O', 'O', 'O', 'O', 'O', 'O', 'O', 'O', 'O', 'O', 'O', 'O', 'O', 'O', 'O', 'O', 'O', 'O', 'O', 'O', 'O', 'O', 'O', 'O', 'O', 'O', 'O', 'O', 'O', 'O', 'O', 'O', 'O', 'O', 'O', 'O', 'O', 'O', 'O', 'O', 'O', 'O', 'O', 'O', 'O', 'O', 'O', 'O', 'O', 'O', 'O', 'B-FOLLICLE-NAME', 'I-FOLLICLE-NAME', 'I-FOLLICLE-NAME', 'I-FOLLICLE-NAME', 'I-FOLLICLE-NAME', 'I-FOLLICLE-NAME', 'I-FOLLICLE-NAME', 'I-FOLLICLE-NAME', 'O', 'O', 'O', 'O', 'O', 'O', 'O', 'O', 'O', 'O', 'O', 'O', 'O', 'O', 'O', 'O', 'O', 'O', 'O', 'O', 'O', 'O', 'O', 'O', 'O', 'O', 'O', 'O', 'O', 'O', 'O', 'O', 'O', 'O', 'O', 'O', 'O', 'O', 'O', 'O', 'O', 'O', 'O', 'O', 'O', 'O', 'O', 'O', 'O', 'O', 'O', 'O', 'O', 'O', 'O', 'O', 'O', 'O', 'B-FOLLICLE-NAME', 'B-FOLLICLE-NAME', 'I-FOLLICLE-NAME', 'I-FOLLICLE-NAME', 'I-FOLLICLE-NAME', 'O', 'O', 'O', 'O', 'O', 'O', 'O', 'O', 'O', 'O', 'O', 'O', 'O', 'O', 'O', 'O', 'O', 'O', 'O', 'O', 'O', 'O', 'O', 'O', 'O', 'O', 'O', 'O', 'O', 'O', 'O', 'O', 'O', 'O', 'O', 'O', 'O', 'O', 'O', 'O', 'O', 'O', 'B-FOLLICLE-NAME', 'B-FOLLICLE-NAME', 'B-FOLLICLE-NAME', 'O', 'O', 'O', 'O', 'O', 'O', 'O', 'O', 'O', 'O', 'O', 'O', 'O', 'O', 'B-FOLLICLE-NAME', 'B-FOLLICLE-NAME', 'B-FOLLICLE-NAME', 'O', 'O', 'O', 'O', 'O', 'O', 'O', 'O', 'O', 'O', 'O', 'O', 'O', 'O', 'O', 'O', 'B-FOLLICLE-NAME', 'B-FOLLICLE-NAME', 'O', 'O', 'O', 'O', 'O', 'O', 'O', 'O', 'O', 'O', 'O', 'O', 'O', 'O', 'O', 'O', 'O', 'O', 'O', 'O', 'O', 'O', 'O', 'O', 'O', 'O', 'O', 'O', 'O', 'O', 'O', 'O', 'O', 'O', 'O', 'O', 'O', 'O', 'O', 'O', 'O', 'O', 'O', 'O', 'O', 'O', 'O', 'O', 'O', 'O', 'O', 'O']\n"
     ]
    }
   ]
  },
  {
   "cell_type": "code",
   "metadata": {
    "id": "leFxHY5uEZwM",
    "colab_type": "code",
    "colab": {
     "base_uri": "https://localhost:8080/",
     "height": 1000
    },
    "outputId": "5dfb53c6-c531-4fe2-fe6b-514b94f170a9"
   },
   "source": [
    "test_sentence = \"\"\"Regeneration of \"hair follicles\" relies on activation of hair follicle stem cells during telogen to anagen transition process in hair cycle. This process is rigorously controlled by intrinsic and environmental factors. 12-o-tetradecanoylphorbol-13-acetate (TPA), a tumor promoter, accelerates reentry of hair follicles into anagen phase. However, it is unclear that how TPA promotes the hair regeneration. In the present study, we topically applied TPA onto the dorsal skin of 2-month-old C57BL/6 female mice to examine the activity of hair follicle stem cells and alteration of signaling pathways during hair regeneration. We found that refractory telogen hair follicles entered anagen prematurely after TPA treatment, with the enhanced proliferation of CD34-positive hair follicle stem cells. Meanwhile, we observed Akt signaling was activated in epidermis, hair infundibulum, bulge and hair bulb, and Wnt signaling was also activated after hair follicle stem cells proliferation. Importantly, after overexpression of DKK1, a specific Wnt signaling inhibitor, the accelerated reentry of hair follicles into anagen induced by TPA was abolished. Our data indicated that TPA-induced hair follicle regeneration is associated with activation of Akt and Wnt/beta-catenin signaling.\"\"\"\n",
    "\n",
    "tokenized_sentence = tokenizer.encode(test_sentence)\n",
    "input_ids = torch.tensor([tokenized_sentence]).cuda()\n",
    "with torch.no_grad():\n",
    "    output = model(input_ids)\n",
    "# print(output)\n",
    "label_indices = np.argmax(output[0].to('cpu').numpy(), axis=2)\n",
    "# join bpe split tokens\n",
    "tokens = tokenizer.convert_ids_to_tokens(input_ids.to('cpu').numpy()[0])\n",
    "new_tokens, new_labels = [], []\n",
    "for token, label_idx in zip(tokens, label_indices[0]):\n",
    "    print(token, label_idx)\n",
    "    if token.startswith(\"##\"):\n",
    "        new_tokens[-1] = new_tokens[-1] + token[2:]\n",
    "    else:\n",
    "        new_labels.append(tag_values[label_idx])\n",
    "        new_tokens.append(token)\n",
    "# for token, label in zip(new_tokens, new_labels):\n",
    "#     print(\"{}\\t\\t{}\".format(label, token))\n"
   ],
   "execution_count": 145,
   "outputs": [
    {
     "name": "stdout",
     "output_type": "stream",
     "text": [
      "[CLS] 1\n",
      "Reg 1\n",
      "##ener 1\n",
      "##ation 1\n",
      "of 1\n",
      "\" 1\n",
      "hair 0\n",
      "f 2\n",
      "##oll 2\n",
      "##icles 2\n",
      "\" 1\n",
      "relies 1\n",
      "on 1\n",
      "activation 1\n",
      "of 1\n",
      "hair 0\n",
      "f 2\n",
      "##oll 2\n",
      "##icle 2\n",
      "stem 2\n",
      "cells 2\n",
      "during 1\n",
      "te 1\n",
      "##log 1\n",
      "##en 1\n",
      "to 1\n",
      "an 1\n",
      "##age 1\n",
      "##n 1\n",
      "transition 1\n",
      "process 1\n",
      "in 1\n",
      "hair 0\n",
      "cycle 2\n",
      ". 1\n",
      "This 1\n",
      "process 1\n",
      "is 1\n",
      "rigorous 1\n",
      "##ly 1\n",
      "controlled 1\n",
      "by 1\n",
      "intrinsic 1\n",
      "and 1\n",
      "environmental 1\n",
      "factors 1\n",
      ". 1\n",
      "12 1\n",
      "- 1\n",
      "o 1\n",
      "- 1\n",
      "te 1\n",
      "##tra 1\n",
      "##de 1\n",
      "##cano 1\n",
      "##yl 1\n",
      "##ph 1\n",
      "##or 1\n",
      "##bol 1\n",
      "- 1\n",
      "13 1\n",
      "- 1\n",
      "ace 1\n",
      "##tate 1\n",
      "( 1\n",
      "T 1\n",
      "##PA 1\n",
      ") 1\n",
      ", 1\n",
      "a 1\n",
      "tumor 1\n",
      "promoter 1\n",
      ", 1\n",
      "accelerate 1\n",
      "##s 1\n",
      "re 1\n",
      "##entry 1\n",
      "of 1\n",
      "hair 0\n",
      "f 2\n",
      "##oll 2\n",
      "##icles 2\n",
      "into 1\n",
      "an 1\n",
      "##age 1\n",
      "##n 1\n",
      "phase 1\n",
      ". 1\n",
      "However 1\n",
      ", 1\n",
      "it 1\n",
      "is 1\n",
      "unclear 1\n",
      "that 1\n",
      "how 1\n",
      "T 1\n",
      "##PA 1\n",
      "promotes 1\n",
      "the 1\n",
      "hair 0\n",
      "regeneration 2\n",
      ". 1\n",
      "In 1\n",
      "the 1\n",
      "present 1\n",
      "study 1\n",
      ", 1\n",
      "we 1\n",
      "topic 1\n",
      "##ally 1\n",
      "applied 1\n",
      "T 1\n",
      "##PA 1\n",
      "onto 1\n",
      "the 1\n",
      "dorsal 1\n",
      "skin 1\n",
      "of 1\n",
      "2 1\n",
      "- 1\n",
      "month 1\n",
      "- 1\n",
      "old 1\n",
      "C 1\n",
      "##5 1\n",
      "##7 1\n",
      "##BL 1\n",
      "/ 1\n",
      "6 1\n",
      "female 1\n",
      "mice 1\n",
      "to 1\n",
      "examine 1\n",
      "the 1\n",
      "activity 1\n",
      "of 1\n",
      "hair 0\n",
      "f 2\n",
      "##oll 2\n",
      "##icle 2\n",
      "stem 2\n",
      "cells 2\n",
      "and 1\n",
      "alter 1\n",
      "##ation 1\n",
      "of 1\n",
      "signaling 1\n",
      "pathways 1\n",
      "during 1\n",
      "hair 0\n",
      "regeneration 2\n",
      ". 1\n",
      "We 1\n",
      "found 1\n",
      "that 1\n",
      "re 1\n",
      "##fra 1\n",
      "##ctor 1\n",
      "##y 1\n",
      "te 1\n",
      "##log 1\n",
      "##en 1\n",
      "hair 0\n",
      "f 2\n",
      "##oll 2\n",
      "##icles 2\n",
      "entered 1\n",
      "an 1\n",
      "##age 1\n",
      "##n 1\n",
      "premature 1\n",
      "##ly 1\n",
      "after 1\n",
      "T 1\n",
      "##PA 1\n",
      "treatment 1\n",
      ", 1\n",
      "with 1\n",
      "the 1\n",
      "enhanced 1\n",
      "proliferation 1\n",
      "of 1\n",
      "CD 1\n",
      "##34 1\n",
      "- 1\n",
      "positive 1\n",
      "hair 0\n",
      "f 2\n",
      "##oll 2\n",
      "##icle 2\n",
      "stem 2\n",
      "cells 2\n",
      ". 1\n",
      "Meanwhile 1\n",
      ", 1\n",
      "we 1\n",
      "observed 1\n",
      "A 1\n",
      "##kt 1\n",
      "signaling 1\n",
      "was 1\n",
      "activated 1\n",
      "in 1\n",
      "e 1\n",
      "##pid 1\n",
      "##er 1\n",
      "##mis 1\n",
      ", 1\n",
      "hair 1\n",
      "in 1\n",
      "##fu 1\n",
      "##ndi 1\n",
      "##bul 1\n",
      "##um 1\n",
      ", 1\n",
      "b 1\n",
      "##ulge 1\n",
      "and 1\n",
      "hair 1\n",
      "bulb 1\n",
      ", 1\n",
      "and 1\n",
      "W 1\n",
      "##nt 1\n",
      "signaling 1\n",
      "was 1\n",
      "also 1\n",
      "activated 1\n",
      "after 1\n",
      "hair 0\n",
      "f 2\n",
      "##oll 2\n",
      "##icle 2\n",
      "stem 2\n",
      "cells 2\n",
      "proliferation 1\n",
      ". 1\n",
      "Important 1\n",
      "##ly 1\n",
      ", 1\n",
      "after 1\n",
      "over 1\n",
      "##ex 1\n",
      "##press 1\n",
      "##ion 1\n",
      "of 1\n",
      "D 1\n",
      "##K 1\n",
      "##K 1\n",
      "##1 1\n",
      ", 1\n",
      "a 1\n",
      "specific 1\n",
      "W 1\n",
      "##nt 1\n",
      "signaling 1\n",
      "inhibitor 1\n",
      ", 1\n",
      "the 1\n",
      "accelerated 1\n",
      "re 1\n",
      "##entry 1\n",
      "of 1\n",
      "hair 0\n",
      "f 2\n",
      "##oll 2\n",
      "##icles 2\n",
      "into 1\n",
      "an 1\n",
      "##age 1\n",
      "##n 1\n",
      "induced 1\n",
      "by 1\n",
      "T 1\n",
      "##PA 1\n",
      "was 1\n",
      "abolished 1\n",
      ". 1\n",
      "Our 1\n",
      "data 1\n",
      "indicated 1\n",
      "that 1\n",
      "T 1\n",
      "##PA 1\n",
      "- 1\n",
      "induced 1\n",
      "hair 0\n",
      "f 2\n",
      "##oll 2\n",
      "##icle 2\n",
      "regeneration 2\n",
      "is 1\n",
      "associated 1\n",
      "with 1\n",
      "activation 1\n",
      "of 1\n",
      "A 1\n",
      "##kt 1\n",
      "and 1\n",
      "W 1\n",
      "##nt 1\n",
      "/ 1\n",
      "beta 1\n",
      "- 1\n",
      "cat 1\n",
      "##eni 1\n",
      "##n 1\n",
      "signaling 1\n",
      ". 1\n",
      "[SEP] 1\n"
     ]
    }
   ]
  },
  {
   "cell_type": "code",
   "execution_count": 147,
   "outputs": [
    {
     "data": {
      "text/plain": "['[CLS]',\n 'Regeneration',\n 'of',\n '\"',\n 'hair',\n 'follicles',\n '\"',\n 'relies',\n 'on',\n 'activation',\n 'of',\n 'hair',\n 'follicle',\n 'stem',\n 'cells',\n 'during',\n 'telogen',\n 'to',\n 'anagen',\n 'transition',\n 'process',\n 'in',\n 'hair',\n 'cycle',\n '.',\n 'This',\n 'process',\n 'is',\n 'rigorously',\n 'controlled',\n 'by',\n 'intrinsic',\n 'and',\n 'environmental',\n 'factors',\n '.',\n '12',\n '-',\n 'o',\n '-',\n 'tetradecanoylphorbol',\n '-',\n '13',\n '-',\n 'acetate',\n '(',\n 'TPA',\n ')',\n ',',\n 'a',\n 'tumor',\n 'promoter',\n ',',\n 'accelerates',\n 'reentry',\n 'of',\n 'hair',\n 'follicles',\n 'into',\n 'anagen',\n 'phase',\n '.',\n 'However',\n ',',\n 'it',\n 'is',\n 'unclear',\n 'that',\n 'how',\n 'TPA',\n 'promotes',\n 'the',\n 'hair',\n 'regeneration',\n '.',\n 'In',\n 'the',\n 'present',\n 'study',\n ',',\n 'we',\n 'topically',\n 'applied',\n 'TPA',\n 'onto',\n 'the',\n 'dorsal',\n 'skin',\n 'of',\n '2',\n '-',\n 'month',\n '-',\n 'old',\n 'C57BL',\n '/',\n '6',\n 'female',\n 'mice',\n 'to',\n 'examine',\n 'the',\n 'activity',\n 'of',\n 'hair',\n 'follicle',\n 'stem',\n 'cells',\n 'and',\n 'alteration',\n 'of',\n 'signaling',\n 'pathways',\n 'during',\n 'hair',\n 'regeneration',\n '.',\n 'We',\n 'found',\n 'that',\n 'refractory',\n 'telogen',\n 'hair',\n 'follicles',\n 'entered',\n 'anagen',\n 'prematurely',\n 'after',\n 'TPA',\n 'treatment',\n ',',\n 'with',\n 'the',\n 'enhanced',\n 'proliferation',\n 'of',\n 'CD34',\n '-',\n 'positive',\n 'hair',\n 'follicle',\n 'stem',\n 'cells',\n '.',\n 'Meanwhile',\n ',',\n 'we',\n 'observed',\n 'Akt',\n 'signaling',\n 'was',\n 'activated',\n 'in',\n 'epidermis',\n ',',\n 'hair',\n 'infundibulum',\n ',',\n 'bulge',\n 'and',\n 'hair',\n 'bulb',\n ',',\n 'and',\n 'Wnt',\n 'signaling',\n 'was',\n 'also',\n 'activated',\n 'after',\n 'hair',\n 'follicle',\n 'stem',\n 'cells',\n 'proliferation',\n '.',\n 'Importantly',\n ',',\n 'after',\n 'overexpression',\n 'of',\n 'DKK1',\n ',',\n 'a',\n 'specific',\n 'Wnt',\n 'signaling',\n 'inhibitor',\n ',',\n 'the',\n 'accelerated',\n 'reentry',\n 'of',\n 'hair',\n 'follicles',\n 'into',\n 'anagen',\n 'induced',\n 'by',\n 'TPA',\n 'was',\n 'abolished',\n '.',\n 'Our',\n 'data',\n 'indicated',\n 'that',\n 'TPA',\n '-',\n 'induced',\n 'hair',\n 'follicle',\n 'regeneration',\n 'is',\n 'associated',\n 'with',\n 'activation',\n 'of',\n 'Akt',\n 'and',\n 'Wnt',\n '/',\n 'beta',\n '-',\n 'catenin',\n 'signaling',\n '.',\n '[SEP]']"
     },
     "execution_count": 147,
     "metadata": {},
     "output_type": "execute_result"
    }
   ],
   "source": [
    "new_tokens"
   ],
   "metadata": {
    "collapsed": false
   }
  },
  {
   "cell_type": "code",
   "execution_count": 146,
   "outputs": [
    {
     "name": "stdout",
     "output_type": "stream",
     "text": [
      "[['hair follicles', 19, 33], ['hair follicle stem cells', 60, 84], ['hair cycle', 132, 142], ['hair follicles', 319, 333], ['hair regeneration', 403, 420], ['hair follicle stem cells', 559, 583], ['hair regeneration', 628, 645], ['hair follicles', 680, 694], ['hair follicle stem cells', 795, 819], ['hair follicle stem cells', 973, 997], ['hair follicles', 1122, 1136], ['hair follicle regeneration', 1217, 1243]]\n"
     ]
    },
    {
     "ename": "IndexError",
     "evalue": "list index out of range",
     "output_type": "error",
     "traceback": [
      "\u001B[0;31m---------------------------------------------------------------------------\u001B[0m",
      "\u001B[0;31mIndexError\u001B[0m                                Traceback (most recent call last)",
      "\u001B[0;32m/tmp/ipykernel_6496/3175484529.py\u001B[0m in \u001B[0;36m<module>\u001B[0;34m\u001B[0m\n\u001B[1;32m     37\u001B[0m \u001B[0mresult\u001B[0m \u001B[0;34m=\u001B[0m \u001B[0;34m[\u001B[0m\u001B[0;34m]\u001B[0m\u001B[0;34m\u001B[0m\u001B[0;34m\u001B[0m\u001B[0m\n\u001B[1;32m     38\u001B[0m \u001B[0;32mfor\u001B[0m \u001B[0mentity_offset\u001B[0m \u001B[0;32min\u001B[0m \u001B[0mentity_offsets\u001B[0m\u001B[0;34m:\u001B[0m\u001B[0;34m\u001B[0m\u001B[0;34m\u001B[0m\u001B[0m\n\u001B[0;32m---> 39\u001B[0;31m     \u001B[0mentity_type\u001B[0m \u001B[0;34m=\u001B[0m \u001B[0mlabels\u001B[0m\u001B[0;34m[\u001B[0m\u001B[0mentity_offset\u001B[0m\u001B[0;34m[\u001B[0m\u001B[0;36m1\u001B[0m\u001B[0;34m]\u001B[0m\u001B[0;34m]\u001B[0m\u001B[0;34m.\u001B[0m\u001B[0msplit\u001B[0m\u001B[0;34m(\u001B[0m\u001B[0;34m\"-\"\u001B[0m\u001B[0;34m)\u001B[0m\u001B[0;34m[\u001B[0m\u001B[0;36m1\u001B[0m\u001B[0;34m]\u001B[0m\u001B[0;34m\u001B[0m\u001B[0;34m\u001B[0m\u001B[0m\n\u001B[0m\u001B[1;32m     40\u001B[0m     \u001B[0mresult\u001B[0m\u001B[0;34m.\u001B[0m\u001B[0mappend\u001B[0m\u001B[0;34m(\u001B[0m\u001B[0;34m(\u001B[0m\u001B[0mentity_type\u001B[0m\u001B[0;34m,\u001B[0m \u001B[0mentity_offset\u001B[0m\u001B[0;34m[\u001B[0m\u001B[0;36m1\u001B[0m\u001B[0;34m]\u001B[0m\u001B[0;34m,\u001B[0m \u001B[0mentity_offset\u001B[0m\u001B[0;34m[\u001B[0m\u001B[0;36m2\u001B[0m\u001B[0;34m]\u001B[0m\u001B[0;34m,\u001B[0m \u001B[0mentity_offset\u001B[0m\u001B[0;34m[\u001B[0m\u001B[0;36m0\u001B[0m\u001B[0;34m]\u001B[0m\u001B[0;34m)\u001B[0m\u001B[0;34m)\u001B[0m\u001B[0;34m\u001B[0m\u001B[0;34m\u001B[0m\u001B[0m\n\u001B[1;32m     41\u001B[0m \u001B[0;34m\u001B[0m\u001B[0m\n",
      "\u001B[0;31mIndexError\u001B[0m: list index out of range"
     ]
    }
   ],
   "source": [
    "# text = \"Regeneration of hair follicles relies on activation of hair follicle stem cells during telogen to anagen transition process in hair cycle.\"\n",
    "# labels = [\"O\", \"O\", \"O\", \"O\", \"B-FOLLICLE-NAME\", \"I-FOLLICLE-NAME\", \"I-FOLLICLE-NAME\", \"O\", \"O\", \"O\", \"O\", \"O\", \"O\", \"O\", \"O\", \"O\", \"O\"]\n",
    "text = new_tokens\n",
    "labels = new_labels\n",
    "\n",
    "# 获取实体的偏移位置\n",
    "entity_offsets = []\n",
    "start_offset = None\n",
    "entity_text = \"\"\n",
    "offset = 0\n",
    "\n",
    "for i, (token, label) in enumerate(zip(text, labels)):\n",
    "    if token == '[CLS]' and '[SEP]':\n",
    "        continue\n",
    "    # print(token, label)\n",
    "    if label.startswith(\"B-FOLLICLE\"):\n",
    "        start_offset = offset + 1\n",
    "        entity_text += token\n",
    "    elif start_offset is not None and label.startswith(\"I-FOLLICLE\"):\n",
    "        entity_text += ' ' + token\n",
    "    elif start_offset is not None and label == 'O':\n",
    "        end_offset = offset\n",
    "        entity_offsets.append([entity_text, start_offset, end_offset])\n",
    "        start_offset = None\n",
    "        entity_text = \"\"\n",
    "    if token == '.' and ',':\n",
    "        offset += len(token)\n",
    "    else:\n",
    "        offset += len(token) +1\n",
    "\n",
    "if start_offset is not None:\n",
    "    end_offset = offset\n",
    "    entity_offsets.append([entity_text, start_offset, end_offset])\n",
    "\n",
    "print(entity_offsets)\n",
    "# 生成最终的结果\n",
    "result = []\n",
    "for entity_offset in entity_offsets:\n",
    "    entity_type = labels[entity_offset[1]].split(\"-\")[1]\n",
    "    result.append((entity_type, entity_offset[1], entity_offset[2], entity_offset[0]))\n",
    "\n",
    "print(entity_offsets)"
   ],
   "metadata": {
    "collapsed": false
   }
  },
  {
   "cell_type": "code",
   "execution_count": 144,
   "outputs": [
    {
     "name": "stdout",
     "output_type": "stream",
     "text": [
      "[(26, 39), (65, 88), (137, 146), (326, 339), (411, 427), (568, 591), (637, 653), (690, 703), (805, 828), (984, 1007), (1134, 1147), (1230, 1255)]\n"
     ]
    }
   ],
   "source": [
    "def get_entity_indexes(text, entity_labels):\n",
    "    entity_indexes = []\n",
    "    start_index = None\n",
    "    for i in range(len(entity_labels)):\n",
    "        if entity_labels[i].startswith(\"B-\"):\n",
    "            if start_index is not None:\n",
    "                entity_indexes.append((start_index, i-1))\n",
    "            start_index = i\n",
    "        elif entity_labels[i].startswith(\"I-\"):\n",
    "            if start_index is None:\n",
    "                start_index = i\n",
    "        else:\n",
    "            if start_index is not None:\n",
    "                entity_indexes.append((start_index, i-1))\n",
    "                start_index = None\n",
    "    if start_index is not None:\n",
    "        entity_indexes.append((start_index, len(entity_labels)-1))\n",
    "\n",
    "    entity_start_end_indexes = []\n",
    "    for start_index, end_index in entity_indexes:\n",
    "        entity_start = len(\" \".join(text[:start_index+1]))\n",
    "        entity_end = entity_start + len(\" \".join(text[start_index:end_index+1])) - 1\n",
    "        entity_start_end_indexes.append((entity_start, entity_end))\n",
    "\n",
    "    return entity_start_end_indexes\n",
    "\n",
    "entity_start_end_indexes = get_entity_indexes(new_tokens, new_labels)\n",
    "print(entity_start_end_indexes)"
   ],
   "metadata": {
    "collapsed": false
   }
  },
  {
   "cell_type": "code",
   "execution_count": 69,
   "outputs": [
    {
     "name": "stdout",
     "output_type": "stream",
     "text": [
      "The offset of the third word 'hair' is: 13\n",
      "The offset of the fourth word 'follicles' is: 16\n"
     ]
    }
   ],
   "source": [
    "text = \"Regeneration of hair follicles relies on activation of hair follicle stem cells during telogen to anagen transition process in hair cycle.\"\n",
    "\n",
    "# 将文本拆分为单词列表\n",
    "words = text.split()\n",
    "\n",
    "# 确定第三和第四个单词的实际偏移位置\n",
    "word2_offset = len(words[0]) + 1  # 第三个单词在文本中的起始位置\n",
    "word3_offset = len(words[0]) + len(words[1]) + 2  # 第四个单词在文本中的起始位置\n",
    "\n",
    "# 打印结果\n",
    "print(f\"The offset of the third word '{words[2]}' is: {word2_offset}\")\n",
    "print(f\"The offset of the fourth word '{words[3]}' is: {word3_offset}\")"
   ],
   "metadata": {
    "collapsed": false
   }
  },
  {
   "cell_type": "code",
   "execution_count": 49,
   "outputs": [
    {
     "name": "stdout",
     "output_type": "stream",
     "text": [
      "[]\n"
     ]
    }
   ],
   "source": [
    "\n",
    "# 生成最终的结果\n",
    "result = []\n",
    "for entity_offset in entity_offsets:\n",
    "    entity_type = labels[entity_offset[1]].split(\"-\")[1]\n",
    "    result.append((entity_type, entity_offset[1], entity_offset[2], entity_offset[0]))\n",
    "\n",
    "print(result)"
   ],
   "metadata": {
    "collapsed": false
   }
  },
  {
   "cell_type": "code",
   "metadata": {
    "id": "MBplGsRIdAAu",
    "colab_type": "code",
    "colab": {}
   },
   "source": [
    "model.save_pretrained(\"biobert_model_ner\")"
   ],
   "execution_count": 36,
   "outputs": []
  }
 ]
}
